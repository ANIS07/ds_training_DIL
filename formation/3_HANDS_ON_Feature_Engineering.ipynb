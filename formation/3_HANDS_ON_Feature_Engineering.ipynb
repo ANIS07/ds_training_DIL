{
 "cells": [
  {
   "cell_type": "markdown",
   "metadata": {},
   "source": [
    "# Introduction to Feature Engineering <font color='blue'> (10 min) </font>"
   ]
  },
  {
   "cell_type": "markdown",
   "metadata": {},
   "source": [
    "# Google doc with code corrections is accessible at:\n",
    "### https://docs.google.com/document/d/19Um3u0V7dekptT0NBE-ArPf0MHe74xQA_BMueBD0Vpw/edit?usp=sharing"
   ]
  },
  {
   "cell_type": "markdown",
   "metadata": {},
   "source": [
    "# 0) Importing the right tools <font color='blue'> (5 min) </font>"
   ]
  },
  {
   "cell_type": "markdown",
   "metadata": {},
   "source": [
    "### <font color='red'>0.1) Import the necessary packages: </font>\n",
    "\n",
    "- pandas (aliased as pd)\n",
    "- numpy (aliased as np)\n",
    "- seaborn (aliased as sns)\n",
    "- matplotlib.pyplot (aliased as plt)"
   ]
  },
  {
   "cell_type": "code",
   "execution_count": 37,
   "metadata": {
    "collapsed": false
   },
   "outputs": [
    {
     "name": "stdout",
     "output_type": "stream",
     "text": [
      "Populating the interactive namespace from numpy and matplotlib\n"
     ]
    }
   ],
   "source": [
    "from __future__ import division\n",
    "\n",
    "#### IMPORT THE NECESSARY PACKAGES WITH THEIR ALIASES ####\n",
    "\n",
    "\n",
    "%pylab inline "
   ]
  },
  {
   "cell_type": "markdown",
   "metadata": {},
   "source": [
    "### <font color='red'>0.2) Import the dataset from <i>'../data/data_after_collection_cleaning.csv'</i></font>"
   ]
  },
  {
   "cell_type": "code",
   "execution_count": null,
   "metadata": {
    "collapsed": true
   },
   "outputs": [],
   "source": [
    "raw_data = #### IMPORT THE DATASET HERE USING pd.read_csv(...)####\n",
    "data = #### COPY THE RAW DATA ####"
   ]
  },
  {
   "cell_type": "markdown",
   "metadata": {},
   "source": [
    "### <font color='red'>0.3) Print samples of data so you are familiar with the data </font>"
   ]
  },
  {
   "cell_type": "code",
   "execution_count": null,
   "metadata": {
    "collapsed": true
   },
   "outputs": [],
   "source": []
  },
  {
   "cell_type": "markdown",
   "metadata": {},
   "source": [
    "## 1) Week-end, Weekday <font color='blue'> (20 min) </font>"
   ]
  },
  {
   "cell_type": "markdown",
   "metadata": {},
   "source": [
    "### Weekday"
   ]
  },
  {
   "cell_type": "markdown",
   "metadata": {},
   "source": [
    "### <font color='red'>1.1) Import the <i>calendar</i> package and get help on it </font>"
   ]
  },
  {
   "cell_type": "code",
   "execution_count": null,
   "metadata": {
    "collapsed": true
   },
   "outputs": [],
   "source": [
    "#### IMPORT THE PACKAGE ####"
   ]
  },
  {
   "cell_type": "code",
   "execution_count": null,
   "metadata": {
    "collapsed": true
   },
   "outputs": [],
   "source": [
    "#### CALL HELP ON IT ####"
   ]
  },
  {
   "cell_type": "markdown",
   "metadata": {},
   "source": [
    "### <font color='red'>1.2) Run the following block, so it changes starttime and stoptime columns of <i>data</i> to the right <i>datetime</i> format </font>"
   ]
  },
  {
   "cell_type": "code",
   "execution_count": null,
   "metadata": {
    "collapsed": true
   },
   "outputs": [],
   "source": [
    "data['starttime'] = pd.to_datetime(data['starttime'], format=\"%Y-%m-%d %H:%M\")\n",
    "data['stoptime'] = pd.to_datetime(data['stoptime'], format=\"%Y-%m-%d %H:%M\")"
   ]
  },
  {
   "cell_type": "markdown",
   "metadata": {},
   "source": [
    "### <font color='red'>1.3) Run the following block with different day indexes, so you can see what <i>calendar.day_name[index_day]</i> returns </font>"
   ]
  },
  {
   "cell_type": "code",
   "execution_count": null,
   "metadata": {
    "collapsed": true
   },
   "outputs": [],
   "source": [
    "index_day = 0\n",
    "print calendar.day_name[index_day]"
   ]
  },
  {
   "cell_type": "markdown",
   "metadata": {},
   "source": [
    "### <font color='red'>1.4) Run the following block so you get the day index of a given observation, as well as its week-day using <i>calendar</i></font>"
   ]
  },
  {
   "cell_type": "code",
   "execution_count": null,
   "metadata": {
    "collapsed": true
   },
   "outputs": [],
   "source": [
    "example_observation = data.iloc[0] \n",
    "print example_observation.starttime.weekday()\n",
    "print calendar.day_name[example_observation.starttime.weekday()]"
   ]
  },
  {
   "cell_type": "markdown",
   "metadata": {},
   "source": [
    "### <font color='red'>1.5) Create a column in the dataframe, containing the day of the week of a given trip. You can use the following functions:</font>\n",
    "- pd.column_name.apply()\n",
    "- calendar.day_name[day_number_here] (notice the brackets)\n",
    "- datetime.weekday()\n",
    "\n",
    "<font color='green'> <b>Any function can be passed to pd.column_name.apply(name_of_your_function), for instance you could use the <i>lambda functions</i></b>:\n",
    "- new_column = pd.column_name.apply(lambda x: x.attribute_of_x) will create a new column, based on the attributes of elements of the old column.<font color='green'>"
   ]
  },
  {
   "cell_type": "code",
   "execution_count": 43,
   "metadata": {
    "collapsed": false
   },
   "outputs": [],
   "source": [
    "data['start_day'] = #### ADD THE DAY OF THE WEEK IN THIS NEW DATAFRAME COLUMN ####"
   ]
  },
  {
   "cell_type": "markdown",
   "metadata": {},
   "source": [
    "### <font color='red'>1.6) Print samples of data to make sure the column has been created successfully </font>"
   ]
  },
  {
   "cell_type": "code",
   "execution_count": null,
   "metadata": {
    "collapsed": true
   },
   "outputs": [],
   "source": []
  },
  {
   "cell_type": "markdown",
   "metadata": {},
   "source": [
    "### <font color='red'>1.7) Use the <i>seaborn</i> package, and more specifically <i>sns.countplot</i>, to plot the number of trips per week day</font>"
   ]
  },
  {
   "cell_type": "code",
   "execution_count": null,
   "metadata": {
    "collapsed": true
   },
   "outputs": [],
   "source": []
  },
  {
   "cell_type": "markdown",
   "metadata": {},
   "source": [
    "### <font color='red'>1.8) Define a new binary column, with True if day is on the week-end, False otherwise. You can use the <i>pandas.column_name.apply(your_function_here)</i> function.</font>"
   ]
  },
  {
   "cell_type": "code",
   "execution_count": 46,
   "metadata": {
    "collapsed": true
   },
   "outputs": [],
   "source": [
    "data['is_weekend'] = ##### NEW BINARY COLUMN, 1 IF OBSERVATION IS A WEEKEND TRIP, 0 OTHERWISE ####\n",
    "                    #### YOU CAN USE A LAMBDA FUNCTION HERE like this : .apply(lambda x: x in set_to_check) ####"
   ]
  },
  {
   "cell_type": "markdown",
   "metadata": {},
   "source": [
    "### <font color='red'>1.9) Plot samples of data to check success of operation</font>"
   ]
  },
  {
   "cell_type": "code",
   "execution_count": null,
   "metadata": {
    "collapsed": true
   },
   "outputs": [],
   "source": []
  },
  {
   "cell_type": "markdown",
   "metadata": {},
   "source": [
    "## 2) Morning/afternoon/evening/night <font color='blue'> (15 min) </font>"
   ]
  },
  {
   "cell_type": "markdown",
   "metadata": {},
   "source": [
    "### <font color='red'>2.1) Define a function that returns a string depending on its parameter x. If:</font>\n",
    "- x.hour is strictly under 6 or strictly over 22, return 'night'\n",
    "- x.hour is strictly over 18 and under 22, return 'evening'\n",
    "- x.hour is strictly over 12 and under 18, return 'afternoon'\n",
    "- otherwise return 'morning'"
   ]
  },
  {
   "cell_type": "code",
   "execution_count": null,
   "metadata": {
    "collapsed": true
   },
   "outputs": [],
   "source": [
    "def time_of_day(x):\n",
    "    if x.hour < 6 or x.hour > 22:    #### COMPLETE THE FUNCTION BELOW ####\n",
    "        return 'night'\n",
    "    elif  ..... :\n",
    "        return ...\n",
    "    elif ....:\n",
    "        return ...\n",
    "    else:\n",
    "    return .... \n"
   ]
  },
  {
   "cell_type": "markdown",
   "metadata": {},
   "source": [
    "### <font color='red'>2.2) Apply the function to the <i>starttime</i> column of <i>data</i> to create a new feature , using <i>pd.apply(your_function)</i> function</font>"
   ]
  },
  {
   "cell_type": "code",
   "execution_count": null,
   "metadata": {
    "collapsed": true
   },
   "outputs": [],
   "source": [
    "data['start_moment'] = #### APPLY THE FUNCTION TO data.starttime IN ORDER TO CREATE A NEW FEATURE ####"
   ]
  },
  {
   "cell_type": "markdown",
   "metadata": {},
   "source": [
    "### <font color='red'>2.3) Use <i>seaborn.countplot()</i> to plot the number of trips per moment of the day, with axes labels, and a title</font>"
   ]
  },
  {
   "cell_type": "code",
   "execution_count": null,
   "metadata": {
    "collapsed": true
   },
   "outputs": [],
   "source": []
  },
  {
   "cell_type": "markdown",
   "metadata": {},
   "source": [
    "### <font color='red'>2.4) Use <i>seaborn.countplot()</i> to plot the number of trips per weekday and per time of day</font>"
   ]
  },
  {
   "cell_type": "code",
   "execution_count": null,
   "metadata": {
    "collapsed": true
   },
   "outputs": [],
   "source": []
  },
  {
   "cell_type": "markdown",
   "metadata": {},
   "source": [
    "## 3) Is rainy <font color='blue'> (5 min) </font>"
   ]
  },
  {
   "cell_type": "markdown",
   "metadata": {},
   "source": [
    "### <font color='red'>3.1) Define a new binary column, with True if day is rainy, False otherwise. You can use the <i>pandas.column_name.apply()</i> function on the <i>Conditions</i> column of the dataframe</font>\n",
    "- Hint : you can use a <b>lambda function</b> such as : <i>lambda condition: 'Rain' in condition</i>"
   ]
  },
  {
   "cell_type": "code",
   "execution_count": 18,
   "metadata": {
    "collapsed": false
   },
   "outputs": [],
   "source": [
    "data['is_rainy'] = #### CREATE A NEW FEATURE : TRIP HAPPENED ON A RAINY DAY OR NOT ####"
   ]
  },
  {
   "cell_type": "markdown",
   "metadata": {},
   "source": [
    "### <font color='red'>3.2) Print <i>samples</i> of data to check if the operation was successful</font>"
   ]
  },
  {
   "cell_type": "code",
   "execution_count": null,
   "metadata": {
    "collapsed": true
   },
   "outputs": [],
   "source": []
  },
  {
   "cell_type": "markdown",
   "metadata": {},
   "source": [
    "## 4) Is circle trip <font color='blue'> (5 min) </font>"
   ]
  },
  {
   "cell_type": "markdown",
   "metadata": {},
   "source": [
    "### <font color='red'>4.1) Define a new binary column, with 1 if trip was loopy, 0 otherwise. You can use a boolean comparison of two columns of the dataframe:</font>\n",
    "\n",
    "- example of boolean condition : <b>data.column_1 == data.column_2</b>"
   ]
  },
  {
   "cell_type": "code",
   "execution_count": 20,
   "metadata": {
    "collapsed": false
   },
   "outputs": [],
   "source": [
    "data['is_circle_trip'] = #### USE A COMPARISON OF TWO COLUMNS OF THE DATAFRAME TO CHECK FOR A LOOP ####"
   ]
  },
  {
   "cell_type": "markdown",
   "metadata": {},
   "source": [
    "### <font color='red'>4.2) Print the proportion of circle trips in the dataset</font>"
   ]
  },
  {
   "cell_type": "code",
   "execution_count": null,
   "metadata": {
    "collapsed": true
   },
   "outputs": [],
   "source": []
  },
  {
   "cell_type": "markdown",
   "metadata": {},
   "source": [
    "## 5) Understanding trip evolution in June <font color='blue'> (15 min) </font>"
   ]
  },
  {
   "cell_type": "markdown",
   "metadata": {},
   "source": [
    "### <font color='red'>5.1) Add a new column with the trip day number. Since all trips in the dataset occured in June, we will name this column \"june_day\". You can use the <i>datetime.day</i> attribute of the starttime</font>"
   ]
  },
  {
   "cell_type": "code",
   "execution_count": 51,
   "metadata": {
    "collapsed": false
   },
   "outputs": [],
   "source": [
    "data['june_day'] = #### ADD A NEW FEATURE: THE DAY IN JUNE ####\n",
    "                    #### HINT : use data.starttime.apply(your_lambda_function) #####"
   ]
  },
  {
   "cell_type": "markdown",
   "metadata": {},
   "source": [
    "### <font color='red'>5.2) Group by the columns with respect to day in June, using <i>data.groupby()</i></font>"
   ]
  },
  {
   "cell_type": "code",
   "execution_count": null,
   "metadata": {
    "collapsed": true
   },
   "outputs": [],
   "source": [
    "grouped_by_data = #### GROUP THE DATA BY JUNE DAY ####"
   ]
  },
  {
   "cell_type": "markdown",
   "metadata": {},
   "source": [
    "### <font color='red'>5.3) Aggregate the grouped by data with respect to mean temperature, and number of trips, using the <i>.count()</i> and <i>.mean()</i> methods of <i>data.groupby()</i></font>"
   ]
  },
  {
   "cell_type": "code",
   "execution_count": null,
   "metadata": {
    "collapsed": true
   },
   "outputs": [],
   "source": [
    "aggregate_count_trips = grouped_by_data.count()\n",
    "aggregate_temperature = grouped_by_data.mean()"
   ]
  },
  {
   "cell_type": "markdown",
   "metadata": {},
   "source": [
    "### <font color='red'>5.4) Understand what the code below does. How do you understand the plots ? You can look up the following functions:</font>\n",
    "- fig, ax1 = plt.subplots()\n",
    "- ax2=ax1.twinx()\n",
    "- ax1.plot(), ax2.plot()\n",
    "- any other options to set the ticks labels, colors, titles ..."
   ]
  },
  {
   "cell_type": "code",
   "execution_count": null,
   "metadata": {
    "collapsed": true
   },
   "outputs": [],
   "source": [
    "sns.set_style('white')\n",
    "\n",
    "fig, ax1 = plt.subplots(figsize=(15,10))\n",
    "\n",
    "june_day = aggregate_count_trips.index\n",
    "\n",
    "number_trips = aggregate_count_trips.tripduration\n",
    "ax1.plot(june_day, number_trips, 'b')\n",
    "ax1.set_xlabel('Day in June')\n",
    "for ticklabel in ax1.get_yticklabels():\n",
    "    ticklabel.set_color('b')\n",
    "ax1.set_ylabel('Number of trips',color='b')\n",
    "\n",
    "ax2 = ax1.twinx()\n",
    "temperature = aggregate_temperature.TemperatureC\n",
    "ax2.plot(june_day, temperature, 'k--')\n",
    "for ticklabel in ax2.get_yticklabels():\n",
    "    ticklabel.set_color('k')\n",
    "ax2.set_ylabel('Temperature',color='k')\n",
    "plt.title('Number of trips and temperature per day in June', fontsize=17)\n",
    "plt.show()"
   ]
  },
  {
   "cell_type": "markdown",
   "metadata": {},
   "source": [
    "## 6) Trip distances and speeds <font color='blue'> (15 min) </font>"
   ]
  },
  {
   "cell_type": "markdown",
   "metadata": {},
   "source": [
    "### <font color='red'>Import the haversine package, that computes the haversine distance from one coordinate to another</font>"
   ]
  },
  {
   "cell_type": "code",
   "execution_count": null,
   "metadata": {
    "collapsed": true
   },
   "outputs": [],
   "source": [
    "from haversine import haversine\n",
    "help(haversine)"
   ]
  },
  {
   "cell_type": "markdown",
   "metadata": {},
   "source": [
    "### <font color='red'>Understand how the <i>haversine</i> function from the package can be used to compute a distance by running the following blocks</font>"
   ]
  },
  {
   "cell_type": "code",
   "execution_count": null,
   "metadata": {
    "collapsed": true
   },
   "outputs": [],
   "source": [
    "x = data.iloc[0]"
   ]
  },
  {
   "cell_type": "code",
   "execution_count": null,
   "metadata": {
    "collapsed": true
   },
   "outputs": [],
   "source": [
    "print 'Traveled haversine distance for trip 0: {:.1f} kilometers'.format(\n",
    "    haversine((x['start station latitude'], x['start station longitude']),\n",
    "              (x['end station latitude'], x['end station longitude'])))"
   ]
  },
  {
   "cell_type": "markdown",
   "metadata": {},
   "source": [
    "### <font color='red'>6.1) Complete the following function so it returns, for a given observation, the haversine distance from a start station to the end station</font>"
   ]
  },
  {
   "cell_type": "code",
   "execution_count": null,
   "metadata": {
    "collapsed": true
   },
   "outputs": [],
   "source": [
    "def distance_stations(x):\n",
    "    start_lat = x['start station latitude']\n",
    "    start_long = x['start station longitude']\n",
    "    end_lat = x['end station latitude']\n",
    "    end_long = x['end station longitude']\n",
    "    return #### COMPLETE THE FUNCTION SO IT RETURNS THE DISTANCE FROM START TO END ####"
   ]
  },
  {
   "cell_type": "markdown",
   "metadata": {},
   "source": [
    "### <font color='red'>6.2) What does the following block do ? It may take a minute or two to run</font>"
   ]
  },
  {
   "cell_type": "code",
   "execution_count": null,
   "metadata": {
    "collapsed": true
   },
   "outputs": [],
   "source": [
    "data['traveled_distance'] = data.apply(distance_stations, axis=1)"
   ]
  },
  {
   "cell_type": "markdown",
   "metadata": {},
   "source": [
    "### <font color='red'>6.3) Show <i>samples</i> of data, and see how the traveled distance has been added as a new feature in the dataset</font>"
   ]
  },
  {
   "cell_type": "code",
   "execution_count": null,
   "metadata": {
    "collapsed": true
   },
   "outputs": [],
   "source": []
  },
  {
   "cell_type": "markdown",
   "metadata": {},
   "source": [
    "### <font color='red'>6.4) Compute the average speed (in km/h) by dividing two dataframe columns</font>"
   ]
  },
  {
   "cell_type": "code",
   "execution_count": 29,
   "metadata": {
    "collapsed": false
   },
   "outputs": [],
   "source": [
    "data['average_speed'] = #### COMPUTE THE AVERAGE SPEED HERE ####"
   ]
  },
  {
   "cell_type": "markdown",
   "metadata": {},
   "source": [
    "### <font color='red'>Run the following block to compute the mean speed on non-loopy trips </font>"
   ]
  },
  {
   "cell_type": "code",
   "execution_count": 30,
   "metadata": {
    "collapsed": true
   },
   "outputs": [],
   "source": [
    "mean_speed = mean(data['average_speed'][data['average_speed'] != 0])"
   ]
  },
  {
   "cell_type": "markdown",
   "metadata": {},
   "source": [
    "### <font color='red'>6.5) Keep only trips for which the speed is under 50 km/h </font>"
   ]
  },
  {
   "cell_type": "code",
   "execution_count": 31,
   "metadata": {
    "collapsed": false
   },
   "outputs": [],
   "source": [
    "data = data[#### ENTER YOUR FILTERING CONDITION HERE ####\n",
    "            #### WARNING : THIS WILL ERASE THE RAW DATA SO MAKE SURE IT IS CORRECT! ####\n",
    "            #### MAKE TESTS ON THE SLICING CONDITION BEFORE ERASING THE DATA ####]"
   ]
  },
  {
   "cell_type": "markdown",
   "metadata": {},
   "source": [
    "### <font color='red'>What does the following block do ?</font>"
   ]
  },
  {
   "cell_type": "code",
   "execution_count": 32,
   "metadata": {
    "collapsed": false
   },
   "outputs": [],
   "source": [
    "data.loc[data['average_speed']==0,'average_speed'] = mean_speed"
   ]
  },
  {
   "cell_type": "markdown",
   "metadata": {},
   "source": [
    "### <font color='red'>6.7) Using <i>seaborn.distplot</i>, plot the distribution of speeds</font>"
   ]
  },
  {
   "cell_type": "code",
   "execution_count": null,
   "metadata": {
    "collapsed": true
   },
   "outputs": [],
   "source": [
    "plt.figure(figsize=(20,10))\n",
    "#### PLOT THE DISTRIBUTION OF SPEEDS ####"
   ]
  },
  {
   "cell_type": "markdown",
   "metadata": {},
   "source": [
    "### <font color='red'>6.8) Subsidiary question : plot the average speed vs. the total distance. What do you observe ? You can use the following function: </font>\n",
    "- seaborn.regplot()\n",
    "- data_sample = data.sample(1000) so as not to overload the graph"
   ]
  },
  {
   "cell_type": "code",
   "execution_count": null,
   "metadata": {
    "collapsed": true
   },
   "outputs": [],
   "source": []
  },
  {
   "cell_type": "markdown",
   "metadata": {},
   "source": [
    "# Save dataset to csv file"
   ]
  },
  {
   "cell_type": "code",
   "execution_count": 218,
   "metadata": {
    "collapsed": true
   },
   "outputs": [],
   "source": [
    "data.to_csv('my_data_after_feature_engineering.csv', index=False)"
   ]
  },
  {
   "cell_type": "markdown",
   "metadata": {},
   "source": [
    "# 7) Imagine and build your own features !"
   ]
  },
  {
   "cell_type": "code",
   "execution_count": null,
   "metadata": {
    "collapsed": true
   },
   "outputs": [],
   "source": []
  },
  {
   "cell_type": "code",
   "execution_count": null,
   "metadata": {
    "collapsed": true
   },
   "outputs": [],
   "source": []
  },
  {
   "cell_type": "code",
   "execution_count": null,
   "metadata": {
    "collapsed": true
   },
   "outputs": [],
   "source": []
  },
  {
   "cell_type": "code",
   "execution_count": null,
   "metadata": {
    "collapsed": true
   },
   "outputs": [],
   "source": []
  }
 ],
 "metadata": {
  "kernelspec": {
   "display_name": "Python 2",
   "language": "python",
   "name": "python2"
  },
  "language_info": {
   "codemirror_mode": {
    "name": "ipython",
    "version": 2
   },
   "file_extension": ".py",
   "mimetype": "text/x-python",
   "name": "python",
   "nbconvert_exporter": "python",
   "pygments_lexer": "ipython2",
   "version": "2.7.11"
  }
 },
 "nbformat": 4,
 "nbformat_minor": 0
}
