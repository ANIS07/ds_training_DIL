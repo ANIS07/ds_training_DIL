{
 "cells": [
  {
   "cell_type": "markdown",
   "metadata": {
    "deletable": true,
    "editable": true
   },
   "source": [
    "# <center>Data Science Training - AXA Data Innovation Lab - Hands-on</center>\n",
    "<center><b>Hands-on sessions</b><br>\n",
    "Nathaniel Bern, June 2016</center>"
   ]
  },
  {
   "cell_type": "markdown",
   "metadata": {
    "deletable": true,
    "editable": true
   },
   "source": [
    "# Goals and objectives <font color='blue'> (10 min) </font>"
   ]
  },
  {
   "cell_type": "markdown",
   "metadata": {
    "deletable": true,
    "editable": true
   },
   "source": [
    "The series of IPython notebooks will guide you through the study of NYC Bikes Data, from data collection and cleaning to visualization, feature engineering and modelling. \n",
    "\n",
    "We will be predicting whether a trip was made by a customer or a subscriber, thanks to different machine learning algorithms.\n",
    "\n",
    "There will be **4 IPython notebooks**, for each step :\n",
    "1. Data collection and cleaning\n",
    "2. Visualization\n",
    "3. Feature engineering\n",
    "4. Data modeling"
   ]
  },
  {
   "cell_type": "markdown",
   "metadata": {
    "deletable": true,
    "editable": true
   },
   "source": [
    "### <font color='red'>Steps that you will need to complete will be written in red </font>\n",
    "### <font color='blue'>The time that you will be given will be written in blue </font>"
   ]
  },
  {
   "cell_type": "markdown",
   "metadata": {
    "deletable": true,
    "editable": true
   },
   "source": [
    "# Data collection and cleaning"
   ]
  },
  {
   "cell_type": "markdown",
   "metadata": {
    "deletable": true,
    "editable": true
   },
   "source": [
    "Data has been downloaded from https://www.citibikenyc.com/system-data and has been open-sourced by *City Bike*.\n",
    "\n",
    "The dataset consists in all bike trips in NYC that happened in June 2015, with the following information:\n",
    "- Trip Duration (seconds)\n",
    "- Start Time and Date\n",
    "- Stop Time and Date\n",
    "- Start Station Name\n",
    "- End Station Name\n",
    "- Station ID \n",
    "- Station Lat/Long\n",
    "- Bike ID\n",
    "- User Type (Customer = 24-hour pass or 7-day pass user; Subscriber = Annual Member)\n",
    "- Gender (Zero=unknown; 1=male; 2=female)\n",
    "- Year of Birth\n",
    "\n",
    "The **pandas** package will be used all throughout the notebooks to load data and easily perform data analysis.\n",
    "\n",
    "## Steps\n",
    "- Core dataset collection\n",
    "- Weather and temperature enrichment\n",
    "- Number of docks per station enrichment"
   ]
  },
  {
   "cell_type": "markdown",
   "metadata": {
    "deletable": true,
    "editable": true
   },
   "source": [
    "# Google doc with code corrections is accessible at:\n",
    "### https://docs.google.com/document/d/1q63UIVenEinpAlK_bzt4paao_g4a0xQEMQLwX0qfHyE/edit?usp=sharing"
   ]
  },
  {
   "cell_type": "markdown",
   "metadata": {
    "deletable": true,
    "editable": true
   },
   "source": [
    "# Necessary packages to study this dataset\n",
    "\n",
    "If you are running these notebooks from your own computer, you will be required to have the following packages installed:\n",
    "\n",
    "- **Basic packages** from Anaconda such as *numpy*, *pandas*, *scikit-learn*, ...\n",
    "- seaborn\n",
    "- Basemap\n",
    "- haversine\n",
    "- networkx\n",
    "- folium\n",
    "- urllib2"
   ]
  },
  {
   "cell_type": "markdown",
   "metadata": {
    "deletable": true,
    "editable": true
   },
   "source": [
    "# 0) Using IPython notebook: tricks and tips <font color='blue'> (10 min) </font>"
   ]
  },
  {
   "cell_type": "markdown",
   "metadata": {
    "deletable": true,
    "editable": true
   },
   "source": [
    "An IPython notebook is made of different boxes (or lines), which can be run independently from one another. They can be filled either with *Python code*, or with **Markdown code** as in this box.\n",
    "\n",
    "- Click on the <b>LEFT SIDE</b> of a box, and press **A** to create a box **Above**, and **B** to create a box **Below**\n",
    "- Click on the <b>LEFT SIDE</b> of a box, and double-press **D** to delete it\n",
    "- Click on the <b>LEFT SIDE</b> of a box, and press **X** to cut it, and **V** to paste it\n",
    "- Press **Shift + Enter** to run a box and go to the next one\n",
    "\n",
    "By default, boxes will accept Python code. To create a **Markdown** box, click on the left side of the box, press **m** for **mardown**, and then you will be able to fill your box with the markdown format. For instance, if you write ### Title 1 in a **markdown defined box**, and then press **Shift + Enter** to run it."
   ]
  },
  {
   "cell_type": "markdown",
   "metadata": {
    "deletable": true,
    "editable": true
   },
   "source": [
    "### <font color='red'>0.1) Run the following lines by pressing Shift + Enter</font>"
   ]
  },
  {
   "cell_type": "code",
   "execution_count": null,
   "metadata": {
    "collapsed": true,
    "deletable": true,
    "editable": true
   },
   "outputs": [],
   "source": [
    "print 'Hello World'"
   ]
  },
  {
   "cell_type": "code",
   "execution_count": null,
   "metadata": {
    "collapsed": true,
    "deletable": true,
    "editable": true
   },
   "outputs": [],
   "source": [
    "user_name = \"Data Scientist\"  # Enter you name between the quotation marks\n",
    "user_age = 34  # Enter your age here\n",
    "\n",
    "print 'Hello, my name is {}'.format(user_name)\n",
    "print 'I am {} years old'.format(user_age)"
   ]
  },
  {
   "cell_type": "markdown",
   "metadata": {
    "deletable": true,
    "editable": true
   },
   "source": [
    "### <font color='red'>0.2) Create a Markdown cell by:</font>\n",
    "- clicking on the left side of the cell\n",
    "- typing m\n",
    "- entering in the cell the following text (include the sharp signs): *### This is a Markdown cell*\n",
    "- running the cell with **Maj + Enter**"
   ]
  },
  {
   "cell_type": "code",
   "execution_count": null,
   "metadata": {
    "collapsed": true,
    "deletable": true,
    "editable": true
   },
   "outputs": [],
   "source": []
  },
  {
   "cell_type": "markdown",
   "metadata": {
    "deletable": true,
    "editable": true
   },
   "source": [
    "### <font color='red'>0.3) Add/Delete cells by clicking on the left side of a cell, and pressing \"a\" (above), \"b\" (below) and \"dd\" (delete)</font>"
   ]
  },
  {
   "cell_type": "code",
   "execution_count": null,
   "metadata": {
    "collapsed": true,
    "deletable": true,
    "editable": true
   },
   "outputs": [],
   "source": []
  },
  {
   "cell_type": "markdown",
   "metadata": {
    "deletable": true,
    "editable": true
   },
   "source": [
    "### Importing the necessary packages\n",
    "\n",
    "Packages are imported at the beginning of the file, and can be aliased. For instance, the **pandas** package can be aliased as **pd**, the **numpy** package as **np**, and all **pandas** functions will be called with **pd.function** instead of **pandas.function**"
   ]
  },
  {
   "cell_type": "code",
   "execution_count": 2,
   "metadata": {
    "collapsed": false,
    "deletable": true,
    "editable": true
   },
   "outputs": [
    {
     "name": "stdout",
     "output_type": "stream",
     "text": [
      "Populating the interactive namespace from numpy and matplotlib\n"
     ]
    }
   ],
   "source": [
    "from __future__ import division  # This allows for float division\n",
    "\n",
    "import numpy as np\n",
    "import seaborn as sns\n",
    "import matplotlib.pyplot as plt\n",
    "%pylab inline "
   ]
  },
  {
   "cell_type": "markdown",
   "metadata": {
    "deletable": true,
    "editable": true
   },
   "source": [
    "<b>TIP</b>: You can press <b>TAB</b> for getting auto-completion of a command"
   ]
  },
  {
   "cell_type": "markdown",
   "metadata": {
    "deletable": true,
    "editable": true
   },
   "source": [
    "### <font color='red'> 0.4) Start typing the user_name variable ('user_name') and press TAB to get auto-completion. Choose the right variable by pressing ENTER </font>"
   ]
  },
  {
   "cell_type": "code",
   "execution_count": null,
   "metadata": {
    "collapsed": true,
    "deletable": true,
    "editable": true
   },
   "outputs": [],
   "source": [
    "#### TYPE user.... + TAB and choose the right variable by pressing ENTER ####"
   ]
  },
  {
   "cell_type": "markdown",
   "metadata": {
    "deletable": true,
    "editable": true
   },
   "source": [
    "### <font color='red'>0.5) Import the pandas package and give it the alias <i>pd</i></font>"
   ]
  },
  {
   "cell_type": "code",
   "execution_count": null,
   "metadata": {
    "collapsed": true,
    "deletable": true,
    "editable": true
   },
   "outputs": [],
   "source": []
  },
  {
   "cell_type": "markdown",
   "metadata": {
    "deletable": true,
    "editable": true
   },
   "source": [
    "### <font color='red'>0.6) Get help on a module by calling the <i>help()</i> function with the aliased module as the parameter</font>"
   ]
  },
  {
   "cell_type": "code",
   "execution_count": null,
   "metadata": {
    "collapsed": true,
    "deletable": true,
    "editable": true
   },
   "outputs": [],
   "source": []
  },
  {
   "cell_type": "markdown",
   "metadata": {
    "deletable": true,
    "editable": true
   },
   "source": [
    "### <font color='red'>0.7) Get help on module functions by calling the <i>help()</i> function on them</font>"
   ]
  },
  {
   "cell_type": "code",
   "execution_count": null,
   "metadata": {
    "collapsed": true,
    "deletable": true,
    "editable": true
   },
   "outputs": [],
   "source": [
    "help(sns.pointplot)"
   ]
  },
  {
   "cell_type": "code",
   "execution_count": null,
   "metadata": {
    "collapsed": true,
    "deletable": true,
    "editable": true
   },
   "outputs": [],
   "source": []
  },
  {
   "cell_type": "code",
   "execution_count": null,
   "metadata": {
    "collapsed": true,
    "deletable": true,
    "editable": true
   },
   "outputs": [],
   "source": []
  },
  {
   "cell_type": "markdown",
   "metadata": {
    "deletable": true,
    "editable": true
   },
   "source": [
    "## 1) Core dataset collection <font color='blue'> (30 min) </font>"
   ]
  },
  {
   "cell_type": "markdown",
   "metadata": {
    "deletable": true,
    "editable": true
   },
   "source": [
    "### <font color='red'>1.1) Load data by using the <i>read_csv</i> function of pandas (which has been aliased as pd) ; data is located in <i>'../data/raw_data.csv'</i></font>"
   ]
  },
  {
   "cell_type": "code",
   "execution_count": 16,
   "metadata": {
    "collapsed": false,
    "deletable": true,
    "editable": true
   },
   "outputs": [],
   "source": [
    "orig_data = "
   ]
  },
  {
   "cell_type": "markdown",
   "metadata": {
    "deletable": true,
    "editable": true
   },
   "source": [
    "### <font color='red'>Run the following line so data is copied and does not need to be reloaded in case of mistakes</font>"
   ]
  },
  {
   "cell_type": "code",
   "execution_count": 9,
   "metadata": {
    "collapsed": true,
    "deletable": true,
    "editable": true
   },
   "outputs": [],
   "source": [
    "data = orig_data.copy()"
   ]
  },
  {
   "cell_type": "markdown",
   "metadata": {
    "deletable": true,
    "editable": true
   },
   "source": [
    "### <font color='red'>1.2) Show a sample (or several samples) of data by calling the method <i>.sample()</i> on the <i>data</i> dataframe</font>"
   ]
  },
  {
   "cell_type": "code",
   "execution_count": null,
   "metadata": {
    "collapsed": true,
    "deletable": true,
    "editable": true
   },
   "outputs": [],
   "source": []
  },
  {
   "cell_type": "markdown",
   "metadata": {
    "deletable": true,
    "editable": true
   },
   "source": [
    "### <font color='red'>1.3) Describe your data by calling the function <i>.describe()</i> on the <i>data</i> dataframe</font>"
   ]
  },
  {
   "cell_type": "code",
   "execution_count": null,
   "metadata": {
    "collapsed": true,
    "deletable": true,
    "editable": true
   },
   "outputs": [],
   "source": []
  },
  {
   "cell_type": "markdown",
   "metadata": {
    "deletable": true,
    "editable": true
   },
   "source": [
    "### <font color='red'>1.4) Print a column using <i>data.column_name</i> or <i>data[column_name]</i></font>"
   ]
  },
  {
   "cell_type": "code",
   "execution_count": null,
   "metadata": {
    "collapsed": true,
    "deletable": true,
    "editable": true
   },
   "outputs": [],
   "source": []
  },
  {
   "cell_type": "markdown",
   "metadata": {
    "deletable": true,
    "editable": true
   },
   "source": [
    "### Filtering"
   ]
  },
  {
   "cell_type": "markdown",
   "metadata": {
    "deletable": true,
    "editable": true
   },
   "source": [
    "Filters are important in every dataset : data is noisy and filters are meant to keep data clean and understandable, on which models can be trained.\n",
    "In Python, slicing conditions for dataframes can be expressed for instance as :\n",
    "- **slice_condition = data.gender == 1**\n",
    "\n",
    "Data can then be sliced with the following :\n",
    "- **filtered_data = data[slice_condition]**"
   ]
  },
  {
   "cell_type": "markdown",
   "metadata": {
    "deletable": true,
    "editable": true
   },
   "source": [
    "### <font color='red'>1.5) Get rid of trips that are more than 1.5 hours long (watch out for variable units !)</font>"
   ]
  },
  {
   "cell_type": "code",
   "execution_count": null,
   "metadata": {
    "collapsed": true,
    "deletable": true,
    "editable": true
   },
   "outputs": [],
   "source": [
    "data = data[### ENTER YOUR SLICE CONDITION HERE ###]"
   ]
  },
  {
   "cell_type": "markdown",
   "metadata": {
    "deletable": true,
    "editable": true
   },
   "source": [
    "### <font color='red'>1.6) Describe a few columns within the dataset using the following functions on the columns:</font>\n",
    "- len()\n",
    "- .column_name.unique()\n",
    "- .column_name.mean()\n",
    "- .column_name.median()"
   ]
  },
  {
   "cell_type": "code",
   "execution_count": null,
   "metadata": {
    "collapsed": true,
    "deletable": true,
    "editable": true
   },
   "outputs": [],
   "source": []
  },
  {
   "cell_type": "code",
   "execution_count": null,
   "metadata": {
    "collapsed": true,
    "deletable": true,
    "editable": true
   },
   "outputs": [],
   "source": []
  },
  {
   "cell_type": "code",
   "execution_count": null,
   "metadata": {
    "collapsed": true,
    "deletable": true,
    "editable": true
   },
   "outputs": [],
   "source": []
  },
  {
   "cell_type": "markdown",
   "metadata": {
    "deletable": true,
    "editable": true
   },
   "source": [
    "### Changing datetime to datetime format"
   ]
  },
  {
   "cell_type": "markdown",
   "metadata": {
    "deletable": true,
    "editable": true
   },
   "source": [
    "### <font color='red'>1.7) The following block uses the <i>pd.to_datetime()</i> function with the <i>format</i> keyword to create datetime objects from strings columns, for starttime and stoptime.</font><br>\n",
    "\n",
    "<font color='red'>Look at the string format of <i>starttime</i> and <i>stoptime</i> columns in the initial dataset, and notice how the <i>format</i> attribute matches exactly the structure of the string that you observe on the raw columns."
   ]
  },
  {
   "cell_type": "code",
   "execution_count": null,
   "metadata": {
    "collapsed": true,
    "deletable": true,
    "editable": true
   },
   "outputs": [],
   "source": [
    "#### WHAT IS THE FORMAT OF starttime AND stoptime COLUMNS IN THE INITIAL DATASET ? ####"
   ]
  },
  {
   "cell_type": "code",
   "execution_count": 14,
   "metadata": {
    "collapsed": true,
    "deletable": true,
    "editable": true
   },
   "outputs": [],
   "source": [
    "data['starttime_formatted'] =  pd.to_datetime(data['starttime'], format=\"%m/%d/%Y %H:%M\")\n",
    "data['stoptime_formatted'] =  pd.to_datetime(data['stoptime'], format=\"%m/%d/%Y %H:%M\")"
   ]
  },
  {
   "cell_type": "markdown",
   "metadata": {
    "deletable": true,
    "editable": true
   },
   "source": [
    "### <font color='red'>Run the following block to overwrite the starttime and stoptime columns (WARNING: THIS WILL OVERWRITE THE INITIAL COLUMNS)</font>"
   ]
  },
  {
   "cell_type": "code",
   "execution_count": null,
   "metadata": {
    "collapsed": true,
    "deletable": true,
    "editable": true
   },
   "outputs": [],
   "source": [
    "data['starttime'] =  data['starttime_formatted']\n",
    "data['stoptime'] =  data['stoptime_formatted']\n",
    "del data['starttime_formatted']\n",
    "del data['stoptime_formatted']"
   ]
  },
  {
   "cell_type": "markdown",
   "metadata": {
    "deletable": true,
    "editable": true
   },
   "source": [
    "### <font color='red'>1.8) Show a sample of 5 observations and check that the new columns have been created</font>"
   ]
  },
  {
   "cell_type": "code",
   "execution_count": null,
   "metadata": {
    "collapsed": true,
    "deletable": true,
    "editable": true
   },
   "outputs": [],
   "source": []
  },
  {
   "cell_type": "markdown",
   "metadata": {
    "deletable": true,
    "editable": true
   },
   "source": [
    "### Fill missing values for birth year : these are called NaN (Not A Number)"
   ]
  },
  {
   "cell_type": "code",
   "execution_count": 16,
   "metadata": {
    "collapsed": false,
    "deletable": true,
    "editable": true
   },
   "outputs": [
    {
     "data": {
      "text/html": [
       "<div>\n",
       "<table border=\"1\" class=\"dataframe\">\n",
       "  <thead>\n",
       "    <tr style=\"text-align: right;\">\n",
       "      <th></th>\n",
       "      <th>tripduration</th>\n",
       "      <th>starttime</th>\n",
       "      <th>stoptime</th>\n",
       "      <th>start station id</th>\n",
       "      <th>start station name</th>\n",
       "      <th>start station latitude</th>\n",
       "      <th>start station longitude</th>\n",
       "      <th>end station id</th>\n",
       "      <th>end station name</th>\n",
       "      <th>end station latitude</th>\n",
       "      <th>end station longitude</th>\n",
       "      <th>bikeid</th>\n",
       "      <th>usertype</th>\n",
       "      <th>birth year</th>\n",
       "      <th>gender</th>\n",
       "    </tr>\n",
       "  </thead>\n",
       "  <tbody>\n",
       "    <tr>\n",
       "      <th>496364</th>\n",
       "      <td>1932</td>\n",
       "      <td>2015-06-17 13:57:00</td>\n",
       "      <td>2015-06-17 14:30:00</td>\n",
       "      <td>128</td>\n",
       "      <td>MacDougal St &amp; Prince St</td>\n",
       "      <td>40.727103</td>\n",
       "      <td>-74.002971</td>\n",
       "      <td>327</td>\n",
       "      <td>Vesey Pl &amp; River Terrace</td>\n",
       "      <td>40.715338</td>\n",
       "      <td>-74.016584</td>\n",
       "      <td>21334</td>\n",
       "      <td>Customer</td>\n",
       "      <td>NaN</td>\n",
       "      <td>0</td>\n",
       "    </tr>\n",
       "    <tr>\n",
       "      <th>659739</th>\n",
       "      <td>1216</td>\n",
       "      <td>2015-06-22 16:29:00</td>\n",
       "      <td>2015-06-22 16:49:00</td>\n",
       "      <td>322</td>\n",
       "      <td>Clinton St &amp; Tillary St</td>\n",
       "      <td>40.696192</td>\n",
       "      <td>-73.991218</td>\n",
       "      <td>387</td>\n",
       "      <td>Centre St &amp; Chambers St</td>\n",
       "      <td>40.712733</td>\n",
       "      <td>-74.004607</td>\n",
       "      <td>17349</td>\n",
       "      <td>Customer</td>\n",
       "      <td>NaN</td>\n",
       "      <td>0</td>\n",
       "    </tr>\n",
       "    <tr>\n",
       "      <th>180545</th>\n",
       "      <td>1207</td>\n",
       "      <td>2015-06-07 20:32:00</td>\n",
       "      <td>2015-06-07 20:52:00</td>\n",
       "      <td>355</td>\n",
       "      <td>Bayard St &amp; Baxter St</td>\n",
       "      <td>40.716021</td>\n",
       "      <td>-73.999744</td>\n",
       "      <td>285</td>\n",
       "      <td>Broadway &amp; E 14 St</td>\n",
       "      <td>40.734546</td>\n",
       "      <td>-73.990741</td>\n",
       "      <td>20766</td>\n",
       "      <td>Customer</td>\n",
       "      <td>NaN</td>\n",
       "      <td>0</td>\n",
       "    </tr>\n",
       "  </tbody>\n",
       "</table>\n",
       "</div>"
      ],
      "text/plain": [
       "        tripduration           starttime            stoptime  \\\n",
       "496364          1932 2015-06-17 13:57:00 2015-06-17 14:30:00   \n",
       "659739          1216 2015-06-22 16:29:00 2015-06-22 16:49:00   \n",
       "180545          1207 2015-06-07 20:32:00 2015-06-07 20:52:00   \n",
       "\n",
       "        start station id        start station name  start station latitude  \\\n",
       "496364               128  MacDougal St & Prince St               40.727103   \n",
       "659739               322   Clinton St & Tillary St               40.696192   \n",
       "180545               355     Bayard St & Baxter St               40.716021   \n",
       "\n",
       "        start station longitude  end station id          end station name  \\\n",
       "496364               -74.002971             327  Vesey Pl & River Terrace   \n",
       "659739               -73.991218             387   Centre St & Chambers St   \n",
       "180545               -73.999744             285        Broadway & E 14 St   \n",
       "\n",
       "        end station latitude  end station longitude  bikeid  usertype  \\\n",
       "496364             40.715338             -74.016584   21334  Customer   \n",
       "659739             40.712733             -74.004607   17349  Customer   \n",
       "180545             40.734546             -73.990741   20766  Customer   \n",
       "\n",
       "        birth year  gender  \n",
       "496364         NaN       0  \n",
       "659739         NaN       0  \n",
       "180545         NaN       0  "
      ]
     },
     "execution_count": 16,
     "metadata": {},
     "output_type": "execute_result"
    }
   ],
   "source": [
    "data[data['birth year'].isnull()].sample(3)"
   ]
  },
  {
   "cell_type": "markdown",
   "metadata": {
    "deletable": true,
    "editable": true
   },
   "source": [
    "### <font color='red'>1.9) Print the proportion of missing birth years, using:</font>\n",
    "- data[\"column_name\"].isnull()\n",
    "- data[\"column_name\"].sum()\n",
    "- len()"
   ]
  },
  {
   "cell_type": "code",
   "execution_count": null,
   "metadata": {
    "collapsed": true,
    "deletable": true,
    "editable": true
   },
   "outputs": [],
   "source": []
  },
  {
   "cell_type": "markdown",
   "metadata": {
    "deletable": true,
    "editable": true
   },
   "source": [
    "### <font color='red'>1.10) Print the median birth year</font>"
   ]
  },
  {
   "cell_type": "code",
   "execution_count": null,
   "metadata": {
    "collapsed": true,
    "deletable": true,
    "editable": true
   },
   "outputs": [],
   "source": []
  },
  {
   "cell_type": "markdown",
   "metadata": {
    "deletable": true,
    "editable": true
   },
   "source": [
    "### <font color='red'>1.11) Replace the missing birth years with the median birth year, using the <i>data[column].fillna function</i></font>"
   ]
  },
  {
   "cell_type": "code",
   "execution_count": null,
   "metadata": {
    "collapsed": true,
    "deletable": true,
    "editable": true
   },
   "outputs": [],
   "source": [
    "data['birth year'] = #### FILL THE MISSING VALUES IN THE COLUMN WITH THE MEDIAN BIRTH YEAR ####"
   ]
  },
  {
   "cell_type": "markdown",
   "metadata": {
    "deletable": true,
    "editable": true
   },
   "source": [
    "## 2) Enrich dataset with hourly weather and temperature from weather websites <font color='blue'> (40 min) </font>"
   ]
  },
  {
   "cell_type": "markdown",
   "metadata": {
    "deletable": true,
    "editable": true
   },
   "source": [
    "We can get historical New York City weather at : \n",
    "http://www.wunderground.com/history/"
   ]
  },
  {
   "cell_type": "markdown",
   "metadata": {
    "deletable": true,
    "editable": true
   },
   "source": [
    "### <font color='red'>2.1) Go to the website, and check for weather and temperature in New York City on a random day in June 2015</font>"
   ]
  },
  {
   "cell_type": "markdown",
   "metadata": {
    "deletable": true,
    "editable": true
   },
   "source": [
    "### <font color='red'>2.2) Run the following block so as to import the right packages</font>"
   ]
  },
  {
   "cell_type": "code",
   "execution_count": 32,
   "metadata": {
    "collapsed": true,
    "deletable": true,
    "editable": true
   },
   "outputs": [],
   "source": [
    "import urllib2\n",
    "import json\n",
    "import re"
   ]
  },
  {
   "cell_type": "markdown",
   "metadata": {
    "deletable": true,
    "editable": true
   },
   "source": [
    "### <font color='red'>2.3) Use the <i>urllib2.urlopen</i> function to open the following webpage:</font>\n",
    "http://www.wunderground.com/history/airport/KNYC/2015/6/1/DailyHistory.html?req_city=New%20York&req_state=NY&req_statename=New%20York&reqdb.zip=10001&reqdb.magic=5&reqdb.wmo=99999&format=1"
   ]
  },
  {
   "cell_type": "code",
   "execution_count": 53,
   "metadata": {
    "collapsed": true,
    "deletable": true,
    "editable": true
   },
   "outputs": [],
   "source": [
    "response =  #### OPEN THE WEBPAGE HERE AND SAVE IT IN THE RESPONSE VARIABLE ####"
   ]
  },
  {
   "cell_type": "markdown",
   "metadata": {
    "deletable": true,
    "editable": true
   },
   "source": [
    "### <font color='red'>2.3) Read the response with the <i>.read()</i> function</font>"
   ]
  },
  {
   "cell_type": "code",
   "execution_count": null,
   "metadata": {
    "collapsed": true,
    "deletable": true,
    "editable": true
   },
   "outputs": [],
   "source": [
    "html = #### READ THE RESPONSE HERE ####"
   ]
  },
  {
   "cell_type": "markdown",
   "metadata": {
    "deletable": true,
    "editable": true
   },
   "source": [
    "### <font color='red'>2.4) Print the html response here </font>"
   ]
  },
  {
   "cell_type": "code",
   "execution_count": null,
   "metadata": {
    "collapsed": true,
    "deletable": true,
    "editable": true
   },
   "outputs": [],
   "source": []
  },
  {
   "cell_type": "markdown",
   "metadata": {
    "deletable": true,
    "editable": true
   },
   "source": [
    "### <font color='red'>2.5) Use the regular expression function <i>re.sub()</i> to substitute the <i>br</i> tag with an empty string:</font>"
   ]
  },
  {
   "cell_type": "code",
   "execution_count": 55,
   "metadata": {
    "collapsed": true,
    "deletable": true,
    "editable": true
   },
   "outputs": [],
   "source": [
    "html_csv_file = ### REPLACE <br /> TAG WITH AN EMPTY STRING ###"
   ]
  },
  {
   "cell_type": "markdown",
   "metadata": {
    "deletable": true,
    "editable": true
   },
   "source": [
    "### <font color='red'>Run the following line to import the new csv-like html as a csv file:</font>"
   ]
  },
  {
   "cell_type": "code",
   "execution_count": 56,
   "metadata": {
    "collapsed": true,
    "deletable": true,
    "editable": true
   },
   "outputs": [],
   "source": [
    "from StringIO import StringIO\n",
    "raw_weather_data = pd.read_csv(StringIO(html_csv_file))"
   ]
  },
  {
   "cell_type": "markdown",
   "metadata": {
    "deletable": true,
    "editable": true
   },
   "source": [
    "### <font color='red'>2.6) Print <i>samples</i> of this dataframe</font>"
   ]
  },
  {
   "cell_type": "code",
   "execution_count": null,
   "metadata": {
    "collapsed": true,
    "deletable": true,
    "editable": true
   },
   "outputs": [],
   "source": []
  },
  {
   "cell_type": "markdown",
   "metadata": {
    "deletable": true,
    "editable": true
   },
   "source": [
    "### <font color='red'>2.7) Keep the following columns in the dataframe : Temperature, Precipitation, Conditions and DateUTC</font>"
   ]
  },
  {
   "cell_type": "code",
   "execution_count": null,
   "metadata": {
    "collapsed": true,
    "deletable": true,
    "editable": true
   },
   "outputs": [],
   "source": [
    "raw_weather_data = #### ONLY KEEP THE ABOVE COLUMNS OF raw_weather_data ####"
   ]
  },
  {
   "cell_type": "markdown",
   "metadata": {
    "deletable": true,
    "editable": true
   },
   "source": [
    "### Enrich every day in June"
   ]
  },
  {
   "cell_type": "markdown",
   "metadata": {
    "deletable": true,
    "editable": true
   },
   "source": [
    "### <font color='red'>2.8.1) What is the webpage giving the necessary weather/temperature information in 2015, on June 29th? on July 2nd ?</font>"
   ]
  },
  {
   "cell_type": "code",
   "execution_count": null,
   "metadata": {
    "collapsed": true,
    "deletable": true,
    "editable": true
   },
   "outputs": [],
   "source": [
    "url_example = #### COPY URL AS A STRING ####"
   ]
  },
  {
   "cell_type": "markdown",
   "metadata": {
    "deletable": true,
    "editable": true
   },
   "source": [
    "### <font color='red'>2.8.2) Isolate fixed parts of the webpage address (URL)</font>"
   ]
  },
  {
   "cell_type": "code",
   "execution_count": null,
   "metadata": {
    "collapsed": true,
    "deletable": true,
    "editable": true
   },
   "outputs": [],
   "source": [
    "url_prefix = #### KEEP URL PREFIX ####\n",
    "url_suffix = #### KEEP URL SUFFIX ####\n",
    "url_variable = '2015/6/29'\n",
    "url_2906 = #### USE THE '+' OPERATOR TO CONCATENATE THE DIFFERENT PART OF THE URL ####"
   ]
  },
  {
   "cell_type": "markdown",
   "metadata": {
    "deletable": true,
    "editable": true
   },
   "source": [
    "### <font color='red'>2.9) For every day from May 30th to July 2nd :\n",
    "- Scrape weather data from the website using the adequate URL\n",
    "- Transform the html file into a csv-like format as we did above\n",
    "- Append the result to the existing raw_weather_data dataframe</font>\n",
    "\n",
    "<b>WARNING</b>: the urls are requested from the Internet, so you might run into connection problems. If this happens, since the data has already been uploaded on the servers, you can request it with the <i>urllib2.urlopen</i> function:\n",
    "`urllib2.urlopen('file:///home/data/weather_webpages/weather_{}_{}.html'.format(month, day))`"
   ]
  },
  {
   "cell_type": "code",
   "execution_count": null,
   "metadata": {
    "collapsed": true,
    "deletable": true,
    "editable": true
   },
   "outputs": [],
   "source": [
    "raw_weather_data = pd.DataFrame()\n",
    "\n",
    "for month in [5, 6,7]:\n",
    "    if month == 5:\n",
    "        day_range = [30,31]\n",
    "    elif month == 6:\n",
    "        day_range = range(1,31)\n",
    "    else:\n",
    "        day_range = [1,2]\n",
    "        \n",
    "    for day in day_range:  # make requests for every day of June, and append result to existing Dataframe\n",
    "        print 'Collecting weather for Day {} ...'.format(day)\n",
    "\n",
    "        response = #### OPEN THE URL CORRESPONDING TO THE RIGHT MONTH AND DAY HERE, USING THE PREVIOUS METHOD ####\n",
    "        \n",
    "        html = #### READ THE RESPONSE HERE ####\n",
    "        \n",
    "        csv_file = #### TRANSFORM THE HTML FILE INTO A CSV-LIKE FORMAT HERE BY DELETING THE <br /> TAG ####\n",
    "\n",
    "        weather_data_day = #### LOAD THE WEATHER DATA AS A CSV HERE AND KEEP THE SAME COLUMNS AS ABOVE ####\n",
    "        raw_weather_data = #### APPEND WEATHER_DATA_DAY TO RAW_WEATHER_DATA DATAFRAME ####"
   ]
  },
  {
   "cell_type": "markdown",
   "metadata": {
    "deletable": true,
    "editable": true
   },
   "source": [
    "### <font color='red'>2.10) Copy the data using <i>.copy()</i> and print samples</font>"
   ]
  },
  {
   "cell_type": "code",
   "execution_count": 93,
   "metadata": {
    "collapsed": true,
    "deletable": true,
    "editable": true
   },
   "outputs": [],
   "source": [
    "weather_data = #### COPY RAW_WEATHER_DATA INTO THIS NEW DATAFRAME ####"
   ]
  },
  {
   "cell_type": "code",
   "execution_count": null,
   "metadata": {
    "collapsed": true,
    "deletable": true,
    "editable": true
   },
   "outputs": [],
   "source": []
  },
  {
   "cell_type": "code",
   "execution_count": null,
   "metadata": {
    "collapsed": true,
    "deletable": true,
    "editable": true
   },
   "outputs": [],
   "source": []
  },
  {
   "cell_type": "markdown",
   "metadata": {
    "deletable": true,
    "editable": true
   },
   "source": [
    "### <font color='red'>2.11) Transform the DateUTC column to standard datetime format, using <i>pd.to_datetime()</i>. Do not hesitate to add cells to test your code, before assigning the values to the existing dataset.</font>"
   ]
  },
  {
   "cell_type": "code",
   "execution_count": 95,
   "metadata": {
    "collapsed": true,
    "deletable": true,
    "editable": true
   },
   "outputs": [],
   "source": [
    "weather_data.DateUTC = #### TRANSFORM THE COLUMN TO DATETIME FORMAT ####"
   ]
  },
  {
   "cell_type": "markdown",
   "metadata": {
    "deletable": true,
    "editable": true
   },
   "source": [
    "### Rounding the timeslots"
   ]
  },
  {
   "cell_type": "markdown",
   "metadata": {
    "deletable": true,
    "editable": true
   },
   "source": [
    "### <font color='red'> Run the following function, which rounds hours </font>"
   ]
  },
  {
   "cell_type": "code",
   "execution_count": 96,
   "metadata": {
    "collapsed": true,
    "deletable": true,
    "editable": true
   },
   "outputs": [],
   "source": [
    "def round_hour(dt):\n",
    "    if dt.minute < 30:\n",
    "        return datetime.datetime(dt.year, dt.month, dt.day, dt.hour)\n",
    "    else:\n",
    "        return datetime.datetime(dt.year, dt.month, dt.day, dt.hour) + datetime.timedelta(hours=1)"
   ]
  },
  {
   "cell_type": "markdown",
   "metadata": {
    "deletable": true,
    "editable": true
   },
   "source": [
    "### <font color='red'>2.12) Round the DateUTC hours column with <i>dataframe.column.apply()</i> function</font>"
   ]
  },
  {
   "cell_type": "code",
   "execution_count": null,
   "metadata": {
    "collapsed": true,
    "deletable": true,
    "editable": true
   },
   "outputs": [],
   "source": [
    "weather_data.DateUTC = #### APPLY THE HOURS ROUNDING FUNCTION TO DateUTC COLUMN ####"
   ]
  },
  {
   "cell_type": "markdown",
   "metadata": {
    "deletable": true,
    "editable": true
   },
   "source": [
    "### <font color='red'>2.13) Show data samples once rounded</font>"
   ]
  },
  {
   "cell_type": "code",
   "execution_count": null,
   "metadata": {
    "collapsed": true,
    "deletable": true,
    "editable": true
   },
   "outputs": [],
   "source": []
  },
  {
   "cell_type": "markdown",
   "metadata": {
    "deletable": true,
    "editable": true
   },
   "source": [
    "### <font color='red'>What does the following block do ?</font>"
   ]
  },
  {
   "cell_type": "code",
   "execution_count": 99,
   "metadata": {
    "collapsed": false,
    "deletable": true,
    "editable": true
   },
   "outputs": [
    {
     "name": "stderr",
     "output_type": "stream",
     "text": [
      "/Users/Nathaniel/anaconda/lib/python2.7/site-packages/numpy/lib/nanfunctions.py:675: RuntimeWarning: Mean of empty slice\n",
      "  warnings.warn(\"Mean of empty slice\", RuntimeWarning)\n"
     ]
    }
   ],
   "source": [
    "weather_data = weather_data.groupby('DateUTC', as_index=False).agg({\n",
    "                                    'Precipitationmm': np.nanmean,\n",
    "                                    'TemperatureC': np.nanmean,\n",
    "                                    'Conditions': lambda x: x.value_counts().index[0]\n",
    "                                    })"
   ]
  },
  {
   "cell_type": "markdown",
   "metadata": {
    "deletable": true,
    "editable": true
   },
   "source": [
    "### <font color='red'>What do the following blocks do ?</font>"
   ]
  },
  {
   "cell_type": "code",
   "execution_count": null,
   "metadata": {
    "collapsed": true,
    "deletable": true,
    "editable": true
   },
   "outputs": [],
   "source": [
    "print 'Missing precipitations values: {:%}'.format(sum(weather_data.Precipitationmm.isnull())/len(weather_data))"
   ]
  },
  {
   "cell_type": "code",
   "execution_count": null,
   "metadata": {
    "collapsed": true,
    "deletable": true,
    "editable": true
   },
   "outputs": [],
   "source": [
    "weather_data.sample(5)"
   ]
  },
  {
   "cell_type": "markdown",
   "metadata": {
    "deletable": true,
    "editable": true
   },
   "source": [
    "### Fill NaN values with forward and backward methods"
   ]
  },
  {
   "cell_type": "markdown",
   "metadata": {
    "deletable": true,
    "editable": true
   },
   "source": [
    "### <font color='red'>Run the following blocks; what do <i>fillna(method='pad')</i> and <i>fillna(method='bfill')</i> do ?</font>"
   ]
  },
  {
   "cell_type": "code",
   "execution_count": 104,
   "metadata": {
    "collapsed": true,
    "deletable": true,
    "editable": true
   },
   "outputs": [],
   "source": [
    "weather_data[['TemperatureC','Precipitationmm']] = (\n",
    "    weather_data[['TemperatureC','Precipitationmm']].apply(lambda x: np.round(x,2)))"
   ]
  },
  {
   "cell_type": "code",
   "execution_count": 102,
   "metadata": {
    "collapsed": false,
    "deletable": true,
    "editable": true
   },
   "outputs": [],
   "source": [
    "weather_data.Precipitationmm.fillna(method=\"pad\", inplace=True)\n",
    "weather_data.Precipitationmm.fillna(method=\"bfill\", inplace=True)"
   ]
  },
  {
   "cell_type": "markdown",
   "metadata": {
    "deletable": true,
    "editable": true
   },
   "source": [
    "### <font color='red'>2.14) Merge data and weather data</font>"
   ]
  },
  {
   "cell_type": "code",
   "execution_count": 109,
   "metadata": {
    "collapsed": false,
    "deletable": true,
    "editable": true
   },
   "outputs": [],
   "source": [
    "weather_data.rename(columns = {'DateUTC' : 'join_time'}, inplace=True)  # This renames the weather data Date column\n",
    "data['join_time'] = data.starttime.apply(round_hour)  # This rounds the time slots for the start time in initial dataset\n",
    "\n",
    "\n",
    "data = #### MERGE DATA AND WEATHER DATA USING A LEFT MERGE WITH data.merge(weather_data, how='left') ####\n",
    "\n",
    "\n",
    "del data['join_time']"
   ]
  },
  {
   "cell_type": "markdown",
   "metadata": {
    "deletable": true,
    "editable": true
   },
   "source": [
    "### <font color='red'>2.15) Show sample observations of <i>data</i></font>"
   ]
  },
  {
   "cell_type": "code",
   "execution_count": null,
   "metadata": {
    "collapsed": true,
    "deletable": true,
    "editable": true
   },
   "outputs": [],
   "source": []
  },
  {
   "cell_type": "markdown",
   "metadata": {
    "deletable": true,
    "editable": true
   },
   "source": [
    "## 3) Collect number of available docks <font color='blue'> (20 min) </font>"
   ]
  },
  {
   "cell_type": "markdown",
   "metadata": {
    "deletable": true,
    "editable": true
   },
   "source": [
    "### <font color='red'>3.1) Load stations sizes in response, read the html response and load the json, from the following website:</font>\n",
    "- https://www.citibikenyc.com/stations/json"
   ]
  },
  {
   "cell_type": "code",
   "execution_count": null,
   "metadata": {
    "collapsed": true,
    "deletable": true,
    "editable": true
   },
   "outputs": [],
   "source": [
    "response = #### USE urllib2.urlopen() TO OPEN THE WEBPAGE ####\n",
    "html = #### READ THE HTML RESPONSE ####\n",
    "stations = #### LOAD THIS JSON FILE WITH json.loads() ####"
   ]
  },
  {
   "cell_type": "markdown",
   "metadata": {
    "deletable": true,
    "editable": true
   },
   "source": [
    "### <font color='red'>3.2) Understand the structure of the stations object </font>"
   ]
  },
  {
   "cell_type": "code",
   "execution_count": null,
   "metadata": {
    "collapsed": true,
    "deletable": true,
    "editable": true
   },
   "outputs": [],
   "source": []
  },
  {
   "cell_type": "markdown",
   "metadata": {
    "deletable": true,
    "editable": true
   },
   "source": [
    "### <font color='red'>Run the following block that groups the stations ids and capacities in a dictionary </font>"
   ]
  },
  {
   "cell_type": "code",
   "execution_count": 32,
   "metadata": {
    "collapsed": true,
    "deletable": true,
    "editable": true
   },
   "outputs": [],
   "source": [
    "total_docks = dict()\n",
    "\n",
    "for x in stations['stationBeanList']:\n",
    "    total_docks.update({x['id']:x['totalDocks']})"
   ]
  },
  {
   "cell_type": "markdown",
   "metadata": {
    "deletable": true,
    "editable": true
   },
   "source": [
    "### <font color='red'>3.3) Create a pandas Dataframe from <i>total_docks</i> using pd.DataFrame.from_dict()</font>"
   ]
  },
  {
   "cell_type": "code",
   "execution_count": 36,
   "metadata": {
    "collapsed": false,
    "deletable": true,
    "editable": true,
    "scrolled": true
   },
   "outputs": [],
   "source": [
    "stations_df = #### CREATE A DATAFRAME FROM THE DICTIONARY.ITEMS() ####\n",
    "stations_df.columns = ['start station id','total_docks_start']  # This renames the columns of the created DataFrame"
   ]
  },
  {
   "cell_type": "markdown",
   "metadata": {
    "deletable": true,
    "editable": true
   },
   "source": [
    "### <font color='red'>3.4) Show a sample of the created DataFrame</font>"
   ]
  },
  {
   "cell_type": "code",
   "execution_count": null,
   "metadata": {
    "collapsed": true,
    "deletable": true,
    "editable": true
   },
   "outputs": [],
   "source": []
  },
  {
   "cell_type": "markdown",
   "metadata": {
    "deletable": true,
    "editable": true
   },
   "source": [
    "### <font color='red'>3.5) Left merge data and start stations capacities using <i>data.merge()</i></font>"
   ]
  },
  {
   "cell_type": "code",
   "execution_count": null,
   "metadata": {
    "collapsed": true,
    "deletable": true,
    "editable": true
   },
   "outputs": [],
   "source": [
    "data = #### LEFT MERGE DATA AND stations_df using data.merge() ####"
   ]
  },
  {
   "cell_type": "markdown",
   "metadata": {
    "deletable": true,
    "editable": true
   },
   "source": [
    "### <font color='red'>3.6) Left merge data and end stations capacities using <i>data.merge()</i></font>"
   ]
  },
  {
   "cell_type": "code",
   "execution_count": 41,
   "metadata": {
    "collapsed": false,
    "deletable": true,
    "editable": true,
    "scrolled": true
   },
   "outputs": [],
   "source": [
    "stations_df.rename(columns = {'start station id': 'end station id',\n",
    "                             'total_docks_start' : 'total_docks_end'},\n",
    "                               inplace=True)  # This renames the columns \n",
    "                                            # so as to merge data with end stations capacities"
   ]
  },
  {
   "cell_type": "code",
   "execution_count": 43,
   "metadata": {
    "collapsed": false,
    "deletable": true,
    "editable": true
   },
   "outputs": [],
   "source": [
    "data = #### LEFT MERGE DATA AND stations_df using data.merge() ####"
   ]
  },
  {
   "cell_type": "markdown",
   "metadata": {
    "deletable": true,
    "editable": true
   },
   "source": [
    "### <font color='red'>3.7) Show a sample of data with start and end stations capacities</font>"
   ]
  },
  {
   "cell_type": "code",
   "execution_count": null,
   "metadata": {
    "collapsed": true,
    "deletable": true,
    "editable": true
   },
   "outputs": [],
   "source": []
  },
  {
   "cell_type": "markdown",
   "metadata": {
    "deletable": true,
    "editable": true
   },
   "source": [
    "### Fill NaN values"
   ]
  },
  {
   "cell_type": "markdown",
   "metadata": {
    "deletable": true,
    "editable": true
   },
   "source": [
    "### <font color='red'>3.8) Print the median dock size using for instance <i>numpy</i></font>"
   ]
  },
  {
   "cell_type": "code",
   "execution_count": null,
   "metadata": {
    "collapsed": true,
    "deletable": true,
    "editable": true
   },
   "outputs": [],
   "source": [
    "median_dock_size = #### FIND THE MEDIAN DOCK SIZE FROM total_docks.values() ####\n",
    "print median_dock_size"
   ]
  },
  {
   "cell_type": "markdown",
   "metadata": {
    "deletable": true,
    "editable": true
   },
   "source": [
    "### <font color='red'>3.9) What does the following block do ?</font>"
   ]
  },
  {
   "cell_type": "code",
   "execution_count": 49,
   "metadata": {
    "collapsed": false,
    "deletable": true,
    "editable": true
   },
   "outputs": [],
   "source": [
    "data.total_docks_start.fillna(median_dock_size,inplace = True)\n",
    "data.total_docks_end.fillna(median_dock_size,inplace = True)"
   ]
  },
  {
   "cell_type": "markdown",
   "metadata": {
    "deletable": true,
    "editable": true
   },
   "source": [
    "### <font color='red'>3.10) Check that there are no NaN dock capacities anymore in <i>data</i></font>"
   ]
  },
  {
   "cell_type": "code",
   "execution_count": null,
   "metadata": {
    "collapsed": true,
    "deletable": true,
    "editable": true
   },
   "outputs": [],
   "source": []
  },
  {
   "cell_type": "markdown",
   "metadata": {
    "deletable": true,
    "editable": true
   },
   "source": [
    "# Dataset we will be working on"
   ]
  },
  {
   "cell_type": "code",
   "execution_count": 111,
   "metadata": {
    "collapsed": false,
    "deletable": true,
    "editable": true
   },
   "outputs": [
    {
     "data": {
      "text/html": [
       "<div>\n",
       "<table border=\"1\" class=\"dataframe\">\n",
       "  <thead>\n",
       "    <tr style=\"text-align: right;\">\n",
       "      <th></th>\n",
       "      <th>tripduration</th>\n",
       "      <th>starttime</th>\n",
       "      <th>stoptime</th>\n",
       "      <th>start station id</th>\n",
       "      <th>start station name</th>\n",
       "      <th>start station latitude</th>\n",
       "      <th>start station longitude</th>\n",
       "      <th>end station id</th>\n",
       "      <th>end station name</th>\n",
       "      <th>end station latitude</th>\n",
       "      <th>end station longitude</th>\n",
       "      <th>bikeid</th>\n",
       "      <th>usertype</th>\n",
       "      <th>birth year</th>\n",
       "      <th>gender</th>\n",
       "      <th>total_docks_start</th>\n",
       "      <th>total_docks_end</th>\n",
       "      <th>Precipitationmm</th>\n",
       "      <th>Conditions</th>\n",
       "      <th>TemperatureC</th>\n",
       "    </tr>\n",
       "  </thead>\n",
       "  <tbody>\n",
       "    <tr>\n",
       "      <th>621065</th>\n",
       "      <td>855</td>\n",
       "      <td>2015-06-21 14:50:00</td>\n",
       "      <td>2015-06-21 15:04:00</td>\n",
       "      <td>432</td>\n",
       "      <td>E 7 St &amp; Avenue A</td>\n",
       "      <td>40.726218</td>\n",
       "      <td>-73.983799</td>\n",
       "      <td>168</td>\n",
       "      <td>W 18 St &amp; 6 Ave</td>\n",
       "      <td>40.739713</td>\n",
       "      <td>-73.994564</td>\n",
       "      <td>17291</td>\n",
       "      <td>Subscriber</td>\n",
       "      <td>1964</td>\n",
       "      <td>1</td>\n",
       "      <td>31</td>\n",
       "      <td>47</td>\n",
       "      <td>0.02</td>\n",
       "      <td>Mostly Cloudy</td>\n",
       "      <td>25.0</td>\n",
       "    </tr>\n",
       "    <tr>\n",
       "      <th>767631</th>\n",
       "      <td>680</td>\n",
       "      <td>2015-06-25 16:07:00</td>\n",
       "      <td>2015-06-25 16:18:00</td>\n",
       "      <td>228</td>\n",
       "      <td>E 48 St &amp; 3 Ave</td>\n",
       "      <td>40.754601</td>\n",
       "      <td>-73.971879</td>\n",
       "      <td>477</td>\n",
       "      <td>W 41 St &amp; 8 Ave</td>\n",
       "      <td>40.756405</td>\n",
       "      <td>-73.990026</td>\n",
       "      <td>19406</td>\n",
       "      <td>Subscriber</td>\n",
       "      <td>1980</td>\n",
       "      <td>1</td>\n",
       "      <td>55</td>\n",
       "      <td>59</td>\n",
       "      <td>0.00</td>\n",
       "      <td>Clear</td>\n",
       "      <td>27.2</td>\n",
       "    </tr>\n",
       "  </tbody>\n",
       "</table>\n",
       "</div>"
      ],
      "text/plain": [
       "        tripduration           starttime            stoptime  \\\n",
       "621065           855 2015-06-21 14:50:00 2015-06-21 15:04:00   \n",
       "767631           680 2015-06-25 16:07:00 2015-06-25 16:18:00   \n",
       "\n",
       "        start station id start station name  start station latitude  \\\n",
       "621065               432  E 7 St & Avenue A               40.726218   \n",
       "767631               228    E 48 St & 3 Ave               40.754601   \n",
       "\n",
       "        start station longitude  end station id end station name  \\\n",
       "621065               -73.983799             168  W 18 St & 6 Ave   \n",
       "767631               -73.971879             477  W 41 St & 8 Ave   \n",
       "\n",
       "        end station latitude  end station longitude  bikeid    usertype  \\\n",
       "621065             40.739713             -73.994564   17291  Subscriber   \n",
       "767631             40.756405             -73.990026   19406  Subscriber   \n",
       "\n",
       "        birth year  gender  total_docks_start  total_docks_end  \\\n",
       "621065        1964       1                 31               47   \n",
       "767631        1980       1                 55               59   \n",
       "\n",
       "        Precipitationmm     Conditions  TemperatureC  \n",
       "621065             0.02  Mostly Cloudy          25.0  \n",
       "767631             0.00          Clear          27.2  "
      ]
     },
     "execution_count": 111,
     "metadata": {},
     "output_type": "execute_result"
    }
   ],
   "source": [
    "data.sample(2)"
   ]
  },
  {
   "cell_type": "markdown",
   "metadata": {
    "deletable": true,
    "editable": true
   },
   "source": [
    "# Save dataset to csv file"
   ]
  },
  {
   "cell_type": "code",
   "execution_count": null,
   "metadata": {
    "collapsed": true,
    "deletable": true,
    "editable": true
   },
   "outputs": [],
   "source": [
    "data.to_csv('my_data_after_collection.csv', index=False)"
   ]
  },
  {
   "cell_type": "markdown",
   "metadata": {
    "deletable": true,
    "editable": true
   },
   "source": [
    "# Implement your own ideas for data enrichment !"
   ]
  },
  {
   "cell_type": "code",
   "execution_count": null,
   "metadata": {
    "collapsed": true,
    "deletable": true,
    "editable": true
   },
   "outputs": [],
   "source": [
    "## Use your imagination to enrich this dataset ##"
   ]
  },
  {
   "cell_type": "code",
   "execution_count": null,
   "metadata": {
    "collapsed": true,
    "deletable": true,
    "editable": true
   },
   "outputs": [],
   "source": []
  },
  {
   "cell_type": "code",
   "execution_count": null,
   "metadata": {
    "collapsed": true,
    "deletable": true,
    "editable": true
   },
   "outputs": [],
   "source": []
  },
  {
   "cell_type": "code",
   "execution_count": null,
   "metadata": {
    "collapsed": true,
    "deletable": true,
    "editable": true
   },
   "outputs": [],
   "source": []
  }
 ],
 "metadata": {
  "kernelspec": {
   "display_name": "Python 2",
   "language": "python",
   "name": "python2"
  },
  "language_info": {
   "codemirror_mode": {
    "name": "ipython",
    "version": 2
   },
   "file_extension": ".py",
   "mimetype": "text/x-python",
   "name": "python",
   "nbconvert_exporter": "python",
   "pygments_lexer": "ipython2",
   "version": "2.7.13"
  }
 },
 "nbformat": 4,
 "nbformat_minor": 0
}
