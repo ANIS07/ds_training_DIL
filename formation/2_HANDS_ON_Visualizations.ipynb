{
 "cells": [
  {
   "cell_type": "markdown",
   "metadata": {},
   "source": [
    "# Introduction to Data Visualization <font color='blue'> (15 min) </font>"
   ]
  },
  {
   "cell_type": "markdown",
   "metadata": {},
   "source": [
    "# Google doc with code corrections is accessible at:\n",
    "### https://docs.google.com/document/d/1Ks66tyNbHA5GobgiAY_S2ApvKMJmCF57N4cwuXLpjfQ/edit?usp=sharing"
   ]
  },
  {
   "cell_type": "markdown",
   "metadata": {},
   "source": [
    "# 0) Importing the right tools <font color='blue'> (5 min) </font>"
   ]
  },
  {
   "cell_type": "markdown",
   "metadata": {},
   "source": [
    "### <font color='red'>0.1) Import the necessary packages: </font>\n",
    "\n",
    "- pandas (aliased as pd)\n",
    "- seaborn (aliased as sns)\n",
    "- matplotlib.pyplot (aliased as plt)"
   ]
  },
  {
   "cell_type": "code",
   "execution_count": null,
   "metadata": {
    "collapsed": true
   },
   "outputs": [],
   "source": [
    "from __future__ import division\n",
    "\n",
    "#### IMPORT THE ABOVE PACKAGES WITH THE ADEQUATE ALIASES ####\n",
    "\n",
    "from mpl_toolkits.basemap import Basemap  # This imports the Basemap package\n",
    "%pylab inline"
   ]
  },
  {
   "cell_type": "markdown",
   "metadata": {},
   "source": [
    "### <font color='red'>0.2) Import the dataset from <i>'../data/data_after_collection_cleaning.csv'</i> using the <i>pd.read_csv()</i> function</font>"
   ]
  },
  {
   "cell_type": "code",
   "execution_count": 2,
   "metadata": {
    "collapsed": false
   },
   "outputs": [],
   "source": [
    "data = #### IMPORT THE DATASET AS A CSV FILE HERE ####"
   ]
  },
  {
   "cell_type": "markdown",
   "metadata": {},
   "source": [
    "### <font color='red'>0.3) Show a sample of 2 observations from the dataset, using the <i>.sample()</i> function</font>"
   ]
  },
  {
   "cell_type": "code",
   "execution_count": null,
   "metadata": {
    "collapsed": true
   },
   "outputs": [],
   "source": []
  },
  {
   "cell_type": "markdown",
   "metadata": {},
   "source": [
    "# Visualizations"
   ]
  },
  {
   "cell_type": "markdown",
   "metadata": {},
   "source": [
    "## 1) Plotting bike stations with Basemap <font color='blue'> (15 min) </font>"
   ]
  },
  {
   "cell_type": "markdown",
   "metadata": {},
   "source": [
    "### <font color='red'>1.1) Go on the following websites to understand how Basemap functions </font>"
   ]
  },
  {
   "cell_type": "markdown",
   "metadata": {},
   "source": [
    "- http://matplotlib.org/basemap/users/geography.html\n",
    "- http://matplotlib.org/basemap/users/examples.html"
   ]
  },
  {
   "cell_type": "markdown",
   "metadata": {},
   "source": [
    "### <font color='red'>Run the following block, and understand what the <i>stations</i> object is </font>"
   ]
  },
  {
   "cell_type": "code",
   "execution_count": 4,
   "metadata": {
    "collapsed": false
   },
   "outputs": [],
   "source": [
    "stations = (set(zip(data['start station latitude'], \n",
    "                    data['start station longitude']))\n",
    "            .union(set(zip(data['end station latitude'], \n",
    "                           data['end station longitude']))))"
   ]
  },
  {
   "cell_type": "markdown",
   "metadata": {},
   "source": [
    "### <font color='red'>1.2) Print the total number of stations, using the <i>len</i> function</font>"
   ]
  },
  {
   "cell_type": "code",
   "execution_count": null,
   "metadata": {
    "collapsed": true
   },
   "outputs": [],
   "source": []
  },
  {
   "cell_type": "markdown",
   "metadata": {},
   "source": [
    "### <font color='red'>Run the following blocks, that will define the bounds for the Basemap plot</font>"
   ]
  },
  {
   "cell_type": "code",
   "execution_count": 6,
   "metadata": {
    "collapsed": true
   },
   "outputs": [],
   "source": [
    "stations_lat = [x[0] for x in stations]\n",
    "stations_long = [x[1] for x in stations]"
   ]
  },
  {
   "cell_type": "code",
   "execution_count": 7,
   "metadata": {
    "collapsed": true
   },
   "outputs": [],
   "source": [
    "b = min(stations_lat)  # bottom\n",
    "t = max(stations_lat)  # top\n",
    "l = min(stations_long)  # left\n",
    "r = max(stations_long)  # right"
   ]
  },
  {
   "cell_type": "markdown",
   "metadata": {},
   "source": [
    "### <font color='red'>Run the following block, that defines the Basemap Map with the adequate bounds</font>"
   ]
  },
  {
   "cell_type": "code",
   "execution_count": 8,
   "metadata": {
    "collapsed": true
   },
   "outputs": [],
   "source": [
    "map_manhattan = Basemap(projection='merc', resolution='h',\n",
    "             area_thresh=0.1, llcrnrlon=l, llcrnrlat=b,\n",
    "             urcrnrlon=r, urcrnrlat=t)"
   ]
  },
  {
   "cell_type": "markdown",
   "metadata": {},
   "source": [
    "### <font color='red'>1.3) Compute the map projection coordinates of stations longitudes and latitudes, using the <i>map</i> object over both stations_long and stations_lat lists </font>"
   ]
  },
  {
   "cell_type": "code",
   "execution_count": 9,
   "metadata": {
    "collapsed": true
   },
   "outputs": [],
   "source": [
    "x, y = #### USE THE map OBJECT TO PROJECT STATIONS LONGITUDES AND LATITUDES, GET HELP ON THE BASEMAP WEBPAGE ####\n",
    "       #### MAKE SURE YOU PROJECT LONGITUDES AND LATITUDES IN THE RIGHT ORDER ####"
   ]
  },
  {
   "cell_type": "markdown",
   "metadata": {},
   "source": [
    "### <font color='red'>1.4) Draw the map, along with: </font>\n",
    "- stations longitudes and latitudes (i.e : x and y)\n",
    "- coastlines\n",
    "- map boundaries\n",
    "- fill the continents with the 'coral' color\n",
    "- Add a title to the map"
   ]
  },
  {
   "cell_type": "code",
   "execution_count": null,
   "metadata": {
    "collapsed": true
   },
   "outputs": [],
   "source": [
    "plt.figure(figsize=(10,20))\n",
    "\n",
    "#### DRAW THE MAP ALONG WITH COASTLINES, MAP BOUNDARIES, AND BIKE STATIONS ####\n",
    "\n",
    "plt.show()"
   ]
  },
  {
   "cell_type": "markdown",
   "metadata": {},
   "source": [
    "## 2) Plotting with a background image from OpenStreetMap <font color='blue'> (15 min) </font>"
   ]
  },
  {
   "cell_type": "markdown",
   "metadata": {},
   "source": [
    "### <font color='red'>2.1) An image of Manhattan has been downloaded on https://www.openstreetmap.org. For ease of use, you just need to import the image, so you will be able to plot stations on this image. Run the following block, that defines the right box bounds.</font>"
   ]
  },
  {
   "cell_type": "code",
   "execution_count": 85,
   "metadata": {
    "collapsed": true
   },
   "outputs": [],
   "source": [
    "l,r,b,t = (-74.0173,-73.9584,40.6990,40.7708)  # Left, right, bottom, top corners"
   ]
  },
  {
   "cell_type": "markdown",
   "metadata": {},
   "source": [
    "### <font color='red'>2.2) Read the uploaded image using the <i>plt.imread()</i> function</font>"
   ]
  },
  {
   "cell_type": "code",
   "execution_count": null,
   "metadata": {
    "collapsed": true
   },
   "outputs": [],
   "source": [
    "im = #### READ THE IMAGE LOCATED IN '../images/map.png' ####"
   ]
  },
  {
   "cell_type": "markdown",
   "metadata": {},
   "source": [
    "### <font color='red'>2.3) Plot the stations on the image background, using the following:</font>\n",
    "- plt.imshow() with the <i>extent=[l,r,b,t]</i> attribute\n",
    "- plt.plot() on stations_long and stations_lat lists\n",
    "- Add a title for the plot, as well as labels for x and y axes\n",
    "- <b>Warning</b> : do not use <i>x</i> and <i>y</i> computed above any more, since they were the projections on the Basemap image in the previous section, and are not of any use here any more. Here, only <i>stations_long</i> and <i>stations_lat</i> need to be used."
   ]
  },
  {
   "cell_type": "code",
   "execution_count": null,
   "metadata": {
    "collapsed": true
   },
   "outputs": [],
   "source": [
    "sns.set_style(\"white\")  # Sets a white background \n",
    "plt.figure(figsize=(10,15))  # Initialize the figure\n",
    "\n",
    "#### FIRST PLOT STATIONS USING plt.plot ON stations_long ALONG WITH stations_lat LISTS ####\n",
    "\n",
    "#### THEN PLOT THE BACKGROUND IMAGE USING plt.imshow() ON THE im IMAGE ####\n",
    "### YOU WILL NEED TO ADD THE extent=[l,r,b,t] ATTRIBUTE TO FIX THE RIGHT BOUNDS ON THE IMAGE ####\n",
    "\n",
    "#### ADD A TITLE, AND X AND Y LABELS ####\n",
    "\n",
    "plt.show()  # Show the figure"
   ]
  },
  {
   "cell_type": "markdown",
   "metadata": {},
   "source": [
    "### Going further\n",
    "- C3.js and D3.js : http://d3js.org/ and http://c3js.org/\n",
    "- Meteor : https://www.meteor.com/ used for DIL Telematics Dashboards as follows\n",
    "- Angular : https://angularjs.org"
   ]
  },
  {
   "cell_type": "markdown",
   "metadata": {},
   "source": [
    "### <font color='red'>Run the following block, that shows you how Meteor does the work in the Telematics Exchange project within the Data Innovation Lab</font>"
   ]
  },
  {
   "cell_type": "code",
   "execution_count": null,
   "metadata": {
    "collapsed": true
   },
   "outputs": [],
   "source": [
    "dashboards = plt.imread('../images/dashboard.png')  # Importing dashboards images\n",
    "\n",
    "plt.figure(figsize=(20,20))\n",
    "plt.imshow(dashboards)\n",
    "plt.show()"
   ]
  },
  {
   "cell_type": "markdown",
   "metadata": {
    "collapsed": true
   },
   "source": [
    "## 3) Plotting features distributions with seaborn package <font color='blue'> (20 min) </font>"
   ]
  },
  {
   "cell_type": "markdown",
   "metadata": {},
   "source": [
    "### <font color='red'>Refer to the following pages to understand how you can leverage the <i>seaborn</i> package to understand your data:</font>\n",
    "\n",
    "- http://stanford.edu/~mwaskom/software/seaborn/examples/distplot_options.html\n",
    "- http://stanford.edu/~mwaskom/software/seaborn/examples/"
   ]
  },
  {
   "cell_type": "markdown",
   "metadata": {},
   "source": [
    "### <font color='red'>3.1) Plot the distribution of trip durations (in minutes) using <i>sns.distplot(data.column_name)</i></font>"
   ]
  },
  {
   "cell_type": "code",
   "execution_count": null,
   "metadata": {
    "collapsed": true
   },
   "outputs": [],
   "source": [
    "sns.set_style(\"darkgrid\")  # This uses the dark style of seaborn for better understanding\n",
    "\n",
    "#### PLOT THE DISTRIBUTION OF TRIP DURATIONS, MAKING SURE YOU ADD X AND Y LABELS, AS WELL AS A CLEAR TITLE ####"
   ]
  },
  {
   "cell_type": "markdown",
   "metadata": {},
   "source": [
    "### <font color='red'>3.2) Filter out data for which gender is unknown (i.e gender=0) and birth year is before 1935</font>"
   ]
  },
  {
   "cell_type": "code",
   "execution_count": 90,
   "metadata": {
    "collapsed": true
   },
   "outputs": [],
   "source": [
    "#### TO ADD FILTERING CONDITIONS USE (data[column_name]<value) & (data[column_name]==value) ####\n",
    "\n",
    "filtering_condition = data[#### INSERT YOUR SLICING CONDITION HERE ####]\n",
    "\n",
    "truncated_data = data[filtering_condition]"
   ]
  },
  {
   "cell_type": "markdown",
   "metadata": {},
   "source": [
    "### <font color='red'>3.3) Plot the distribution of bikes riders subscribers ages</font>"
   ]
  },
  {
   "cell_type": "code",
   "execution_count": null,
   "metadata": {
    "collapsed": true
   },
   "outputs": [],
   "source": [
    "#### PLOT THE DISTRIBUTION OF SUBSCRIBERS AGES, MAKING SURE YOU ADD X AND Y LABELS, AS WELL AS A CLEAR TITLE ####"
   ]
  },
  {
   "cell_type": "markdown",
   "metadata": {},
   "source": [
    "### <font color='red'>3.4) Use <i>sns.countplot</i> on <i>data.usertype</i> to understand the repartition of genders and usertypes</font>"
   ]
  },
  {
   "cell_type": "code",
   "execution_count": null,
   "metadata": {
    "collapsed": true
   },
   "outputs": [],
   "source": [
    "#### PLOT THE DISTRIBUTION OF GENDERS HERE, MAKING SURE YOU ADD X AND Y LABELS, AS WELL AS A CLEAR TITLE ####"
   ]
  },
  {
   "cell_type": "code",
   "execution_count": null,
   "metadata": {
    "collapsed": true
   },
   "outputs": [],
   "source": [
    "#### PLOT THE DISTRIBUTION OF USERTYPES HERE, MAKING SURE YOU ADD X AND Y LABELS, AS WELL AS A CLEAR TITLE ####"
   ]
  },
  {
   "cell_type": "markdown",
   "metadata": {},
   "source": [
    "## Matplotlib piecharts"
   ]
  },
  {
   "cell_type": "markdown",
   "metadata": {},
   "source": [
    "### <font color='red'>Run the following blocks, that group by data with respect to gender</font>"
   ]
  },
  {
   "cell_type": "code",
   "execution_count": null,
   "metadata": {
    "collapsed": true
   },
   "outputs": [],
   "source": [
    "groupby_gender = data.groupby(['gender']).count()"
   ]
  },
  {
   "cell_type": "code",
   "execution_count": null,
   "metadata": {
    "collapsed": true
   },
   "outputs": [],
   "source": [
    "groupby_gender"
   ]
  },
  {
   "cell_type": "markdown",
   "metadata": {},
   "source": [
    "### <font color='red'>3.5) Use <i>plt.pie</i> with the <i>labels</i> and <i>explode</i> attributes to plot differently the number of males, females, and unknown genders</font>"
   ]
  },
  {
   "cell_type": "code",
   "execution_count": 93,
   "metadata": {
    "collapsed": false
   },
   "outputs": [],
   "source": [
    "explode = (0, 0, 0.1)\n",
    "labels = ['Unknown','Male','Female']\n",
    "\n",
    "plt.figure(figsize=(7,7))\n",
    "\n",
    "#### USE plt.pie() WITH THE RIGHT ATTRIBUTES TO PIE PLOT MALES, FEMALES, UNKNOWN GENDERS ####\n",
    "\n",
    "plt.show()"
   ]
  },
  {
   "cell_type": "markdown",
   "metadata": {},
   "source": [
    "### <font color='red'>3.6) Use <i>sns.countplot</i> to plot number of trips vs. weather conditions for <i>truncated_data</i></font>"
   ]
  },
  {
   "cell_type": "code",
   "execution_count": null,
   "metadata": {
    "collapsed": true
   },
   "outputs": [],
   "source": [
    "#### USE sns.countplot() HERE FOR NUMBER OF TRIPS VS. WEATHER CONDITIONS ####\n",
    "#### ADD A CLEAR TITLE ####"
   ]
  },
  {
   "cell_type": "markdown",
   "metadata": {},
   "source": [
    "## 4) Build a graph with the <i>networkx</i> package <font color='blue'> (40 min) </font>\n",
    "\n",
    "- NetworkX is a Python language software package for the creation, manipulation, and study of the structure, dynamics, and functions of complex networks\n",
    "- Package tutorial can be found on http://networkx.readthedocs.io/en/networkx-1.11/tutorial/\n",
    "- It can be used in the case of NYC Bikes Dataset : stations will be the nodes, and trips from station to station will be directed edges"
   ]
  },
  {
   "cell_type": "markdown",
   "metadata": {},
   "source": [
    "### <font color='red'>4.1) Import the <i>networkx</i> package and alias it as <i>nx</i></font>"
   ]
  },
  {
   "cell_type": "code",
   "execution_count": 4,
   "metadata": {
    "collapsed": false
   },
   "outputs": [],
   "source": []
  },
  {
   "cell_type": "markdown",
   "metadata": {},
   "source": [
    "### <font color='red'>4.2) Create a new directed graph with the <i>DiGraph()</i> function of the <i>nx</i> module</font>"
   ]
  },
  {
   "cell_type": "code",
   "execution_count": 5,
   "metadata": {
    "collapsed": false
   },
   "outputs": [],
   "source": [
    "graph_stations = #### CREATE A DIRECTED GRAPH ####"
   ]
  },
  {
   "cell_type": "markdown",
   "metadata": {},
   "source": [
    "##### Add directed links from station to station"
   ]
  },
  {
   "cell_type": "markdown",
   "metadata": {},
   "source": [
    "### <font color='red'>4.3) Run the following block and understand what the <i>stations_indexes</i> and stations_links objects are</font>"
   ]
  },
  {
   "cell_type": "code",
   "execution_count": null,
   "metadata": {
    "collapsed": true
   },
   "outputs": [],
   "source": [
    "stations_indexes = data.groupby(['start station id', 'end station id']).groups"
   ]
  },
  {
   "cell_type": "code",
   "execution_count": 7,
   "metadata": {
    "collapsed": false
   },
   "outputs": [],
   "source": [
    "stations_links = {(k[0],k[1],len(v)) for k,v in stations_indexes.iteritems()}"
   ]
  },
  {
   "cell_type": "code",
   "execution_count": null,
   "metadata": {
    "collapsed": true
   },
   "outputs": [],
   "source": [
    "#### UNDERSTAND THE STRUCTURE OF stations_links  and stations_indexes ####"
   ]
  },
  {
   "cell_type": "markdown",
   "metadata": {},
   "source": [
    "### <font color='red'>4.3) Use the <i>add_weighted_edges_from()</i> function of any networkx Directed Graph to build the directed links from station to station</font>"
   ]
  },
  {
   "cell_type": "code",
   "execution_count": 8,
   "metadata": {
    "collapsed": false
   },
   "outputs": [],
   "source": [
    "#### ADD THE WEIGHTED EDGES FROM stations_links TO graph_stations ####"
   ]
  },
  {
   "cell_type": "markdown",
   "metadata": {},
   "source": [
    "##### Analyze graph"
   ]
  },
  {
   "cell_type": "markdown",
   "metadata": {},
   "source": [
    "### <font color='red'>4.4) Analyze the graph using the following functions on the graph:</font>\n",
    "- nodes()\n",
    "- edges()\n",
    "- in_degree()\n",
    "- nodes_with_selfloops()"
   ]
  },
  {
   "cell_type": "code",
   "execution_count": null,
   "metadata": {
    "collapsed": true
   },
   "outputs": [],
   "source": []
  },
  {
   "cell_type": "code",
   "execution_count": null,
   "metadata": {
    "collapsed": true
   },
   "outputs": [],
   "source": []
  },
  {
   "cell_type": "code",
   "execution_count": null,
   "metadata": {
    "collapsed": true
   },
   "outputs": [],
   "source": []
  },
  {
   "cell_type": "code",
   "execution_count": null,
   "metadata": {
    "collapsed": true
   },
   "outputs": [],
   "source": []
  },
  {
   "cell_type": "markdown",
   "metadata": {},
   "source": [
    "### <font color='red'>4.4) Run the following block. What does it show ?</font>"
   ]
  },
  {
   "cell_type": "code",
   "execution_count": null,
   "metadata": {
    "collapsed": true
   },
   "outputs": [],
   "source": [
    "sorted(graph_stations.edges(data=True), key = lambda x: x[2]['weight'], reverse=True)[:10]"
   ]
  },
  {
   "cell_type": "markdown",
   "metadata": {},
   "source": [
    "### <font color='red'>4.5) Print the id of the graph-centric station using <i>nx.degree_centrality()</i></font>"
   ]
  },
  {
   "cell_type": "code",
   "execution_count": null,
   "metadata": {
    "collapsed": true
   },
   "outputs": [],
   "source": []
  },
  {
   "cell_type": "markdown",
   "metadata": {},
   "source": [
    "### <font color='red'>4.6) Plot the graph using the <i>draw_networkx</i> function of the module. You can use the following attributes for clarity:</font>\n",
    "- arrows=False\n",
    "- pos = nx.spring_layout(graph_stations)\n",
    "- width=0.1\n",
    "\n",
    "<b>Note</b>: You will get different plots for different executions, as initial positions within the graph are random."
   ]
  },
  {
   "cell_type": "code",
   "execution_count": null,
   "metadata": {
    "collapsed": true
   },
   "outputs": [],
   "source": [
    "plt.figure(figsize=(20,20))\n",
    "\n",
    "#### PLOT THE NETWORK HERE ####\n",
    "\n",
    "plt.axis('off')\n",
    "plt.show()"
   ]
  },
  {
   "cell_type": "markdown",
   "metadata": {},
   "source": [
    "#### *Plot most common self-looping stations*"
   ]
  },
  {
   "cell_type": "code",
   "execution_count": 17,
   "metadata": {
    "collapsed": true
   },
   "outputs": [],
   "source": [
    "self_looping_stations = sorted(graph_stations.selfloop_edges(data=True),\n",
    "                               key = lambda x : x[2]['weight'], reverse=True)[:10]"
   ]
  },
  {
   "cell_type": "code",
   "execution_count": 18,
   "metadata": {
    "collapsed": false
   },
   "outputs": [
    {
     "data": {
      "text/plain": [
       "[(2006, 2006, {'weight': 1940}),\n",
       " (281, 281, {'weight': 712}),\n",
       " (499, 499, {'weight': 623}),\n",
       " (387, 387, {'weight': 540}),\n",
       " (426, 426, {'weight': 382}),\n",
       " (457, 457, {'weight': 346}),\n",
       " (514, 514, {'weight': 275}),\n",
       " (3002, 3002, {'weight': 245}),\n",
       " (217, 217, {'weight': 187}),\n",
       " (327, 327, {'weight': 187})]"
      ]
     },
     "execution_count": 18,
     "metadata": {},
     "output_type": "execute_result"
    }
   ],
   "source": [
    "self_looping_stations"
   ]
  },
  {
   "cell_type": "markdown",
   "metadata": {},
   "source": [
    "### <font color='red'>4.7) Create a Directed Graph containing only the self-looping stations</font>"
   ]
  },
  {
   "cell_type": "code",
   "execution_count": 19,
   "metadata": {
    "collapsed": true
   },
   "outputs": [],
   "source": [
    "self_looping_stations_graph = #### CREATE A DIRECTED GRAPH FROM THE SELF-LOOPING STATIONS ####"
   ]
  },
  {
   "cell_type": "markdown",
   "metadata": {},
   "source": [
    "### <font color='red'>Run the following blocks, they define the self-looping stations latitudes and longitudes and add them to two lists</font>"
   ]
  },
  {
   "cell_type": "code",
   "execution_count": 20,
   "metadata": {
    "collapsed": true
   },
   "outputs": [],
   "source": [
    "self_looping_stations_ids = self_looping_stations_graph.nodes()"
   ]
  },
  {
   "cell_type": "code",
   "execution_count": 21,
   "metadata": {
    "collapsed": true
   },
   "outputs": [],
   "source": [
    "self_looping_stations_long = \\\n",
    "[data[data['start station id']==id].iloc[0]['start station longitude'] for id in self_looping_stations_ids]\n",
    "\n",
    "self_looping_stations_lat = \\\n",
    "[data[data['start station id']==id].iloc[0]['start station latitude'] for id in self_looping_stations_ids]"
   ]
  },
  {
   "cell_type": "markdown",
   "metadata": {},
   "source": [
    "### <font color='red'>4.8) Plot the self looping stations on the Manhattan background as you did in the first part of the hands-on session:</font>"
   ]
  },
  {
   "cell_type": "code",
   "execution_count": null,
   "metadata": {
    "collapsed": true
   },
   "outputs": [],
   "source": [
    "l,r,b,t = (-74.0173,-73.9584,40.6990,40.7708)\n",
    "im = plt.imread('../images/map.png')\n",
    "sns.set_style('white')\n",
    "\n",
    "plt.figure(figsize=(12,12))\n",
    "\n",
    "#### PLOT THE SELF-LOOPING STATIONS ON THE BACKGROUND IMAGE. HOW ARE THEY DISTRIBUTED AROUND MANHATTAN ? ####\n",
    "\n",
    "plt.show()"
   ]
  },
  {
   "cell_type": "markdown",
   "metadata": {},
   "source": [
    "##### Draw most common directed trips"
   ]
  },
  {
   "cell_type": "markdown",
   "metadata": {},
   "source": [
    "### <font color='red'>Run the following block, that keeps the most common trips:</font>"
   ]
  },
  {
   "cell_type": "code",
   "execution_count": 69,
   "metadata": {
    "collapsed": false
   },
   "outputs": [],
   "source": [
    "common_trips = sorted([(u,v,d) for (u,v,d) in graph_stations.edges(data=True) if u!=v],\n",
    "                              key = lambda x : x[2]['weight'], reverse=True)[:5]"
   ]
  },
  {
   "cell_type": "markdown",
   "metadata": {},
   "source": [
    "### <font color='red'>4.9) Understand the structure of <i>common_trips</i>, and build a directed graph from these trips:</font>"
   ]
  },
  {
   "cell_type": "code",
   "execution_count": null,
   "metadata": {
    "collapsed": true
   },
   "outputs": [],
   "source": [
    "#### ANALYZE THE STRUCTURE OF THE OBJECT common_trips ####"
   ]
  },
  {
   "cell_type": "code",
   "execution_count": null,
   "metadata": {
    "collapsed": true
   },
   "outputs": [],
   "source": [
    "common_trips_graph = #### BUILD A DIRECTED GRAPH FROM THESE TRIPS ####"
   ]
  },
  {
   "cell_type": "markdown",
   "metadata": {},
   "source": [
    "### <font color='red'>4.10) Plot the graph of the most common trips:</font>"
   ]
  },
  {
   "cell_type": "code",
   "execution_count": null,
   "metadata": {
    "collapsed": true
   },
   "outputs": [],
   "source": [
    "plt.figure(figsize=(7,7))\n",
    "\n",
    "\n",
    "#### DRAW THE GRAPH OF THE MOST COMMON TRIPS ####\n",
    "\n",
    "\n",
    "plt.show()"
   ]
  },
  {
   "cell_type": "markdown",
   "metadata": {},
   "source": [
    "##### Plot these common trips"
   ]
  },
  {
   "cell_type": "markdown",
   "metadata": {},
   "source": [
    "### <font color='red'>4.11) Run the following block, understand what it does, as well as the structure of <i>coordinates_common_trips</i>:</font>"
   ]
  },
  {
   "cell_type": "code",
   "execution_count": 75,
   "metadata": {
    "collapsed": false
   },
   "outputs": [],
   "source": [
    "common_trips_ids = common_trips_graph.nodes()\n",
    "coordinates_common_trips = {}\n",
    "\n",
    "for id_station in common_trips_ids:\n",
    "    station = data[data['start station id']==id_station].iloc[0]\n",
    "    coordinates_common_trips.update({\n",
    "                                    id_station: (station['start station longitude'],\n",
    "                                         station['start station latitude'])\n",
    "                                    }\n",
    "                                    )"
   ]
  },
  {
   "cell_type": "code",
   "execution_count": null,
   "metadata": {
    "collapsed": true
   },
   "outputs": [],
   "source": [
    "#### UNDERSTAND THE OBJECT coordinates_common_trips ####"
   ]
  },
  {
   "cell_type": "markdown",
   "metadata": {},
   "source": [
    "### <font color='red'>4.12) Plot the different start and end coordinates of the most frequent trips on the background image of Manhattan. Add arrows showing the directions of the trips. You might use the following functions:</font>\n",
    "- plt.plot()\n",
    "- plt.annotate('', xy=..., xytext=..., arrowprops=...)\n",
    "- plt.imshow()"
   ]
  },
  {
   "cell_type": "code",
   "execution_count": null,
   "metadata": {
    "collapsed": true
   },
   "outputs": [],
   "source": [
    "plt.figure(figsize=(12,12))\n",
    "sns.set_style('white')\n",
    "\n",
    "for (start,end,weight) in common_trips:  # This loops over the most frequent trips\n",
    "\n",
    "    #### PLOT THE DIFFERENT START AND END STATIONS FOR THE MOST FREQUENT TRIPS ####\n",
    "    \n",
    "    #### ADD ARROWS ON THE PLOT SO WE CAN SEE THE DIRECTION OF THE TRIPS ####\n",
    "\n",
    "plt.imshow(im, extent=[l,r,b,t])\n",
    "plt.title('Most frequent trips', size=17)\n",
    "plt.xlabel('Latitude')\n",
    "plt.ylabel('Longitude')\n",
    "plt.show()"
   ]
  },
  {
   "cell_type": "markdown",
   "metadata": {},
   "source": [
    "## 5) Build interactive maps with Leaflet <font color='blue'> (10 min) </font>"
   ]
  },
  {
   "cell_type": "markdown",
   "metadata": {},
   "source": [
    "Refer to the following webpage for more information:\n",
    "- http://folium.readthedocs.org/en/latest/"
   ]
  },
  {
   "cell_type": "markdown",
   "metadata": {},
   "source": [
    "### <font color='red'>5.1) Import the <i>folium</i> package</font>"
   ]
  },
  {
   "cell_type": "code",
   "execution_count": null,
   "metadata": {
    "collapsed": true
   },
   "outputs": [],
   "source": []
  },
  {
   "cell_type": "markdown",
   "metadata": {},
   "source": [
    "### <font color='red'>5.2) Create a new map using the <i>.Map()</i> function, located around a given station latitude and longitude:</font>"
   ]
  },
  {
   "cell_type": "code",
   "execution_count": null,
   "metadata": {
    "collapsed": true
   },
   "outputs": [],
   "source": [
    "map_osm = #### CREATE A FOLIUM MAP HERE, INITIATED ON A MANHATTAN COORDINATE ####"
   ]
  },
  {
   "cell_type": "markdown",
   "metadata": {},
   "source": [
    "### <font color='red'>5.3) Run the following block, and study the structure of the <i>stations</i> object:</font>"
   ]
  },
  {
   "cell_type": "code",
   "execution_count": 120,
   "metadata": {
    "collapsed": false
   },
   "outputs": [],
   "source": [
    "stations = set(zip(data['start station latitude'],\n",
    "                   data['start station longitude'],\n",
    "                   data['start station name'],\n",
    "                  data['total_docks_start']))\\\n",
    "            .union(set(zip(data['end station latitude'],\n",
    "                           data['end station longitude'],\n",
    "                           data['end station name'],\n",
    "                          data['total_docks_end'])))"
   ]
  },
  {
   "cell_type": "code",
   "execution_count": null,
   "metadata": {
    "collapsed": true
   },
   "outputs": [],
   "source": []
  },
  {
   "cell_type": "markdown",
   "metadata": {},
   "source": [
    "### <font color='red'>5.4) Add markers to the map using the <i>map_osm.simple_marker()</i> function. You can use the following attributes:</font>\n",
    "- clustered_marker=True (this will clusterize the markers in a pretty way)\n",
    "- popup= ... (this will put text when you click on a specific marker. Add for instance the name of the station, and the total number of docks)"
   ]
  },
  {
   "cell_type": "code",
   "execution_count": null,
   "metadata": {
    "collapsed": true
   },
   "outputs": [],
   "source": [
    "for latitude, longitude, station_name, total_docks in stations:\n",
    "    #### ADD THE STATION ON THE MAP AS A SIMPLE MARKER ####\n",
    "    #### YOU CAN ADD A POPUP ATTRIBUTE THAT SHOWS THE STATION NAME AND TOTAL DOCKS ####"
   ]
  },
  {
   "cell_type": "markdown",
   "metadata": {},
   "source": [
    "### <font color='red'>Display the map using the <i>display</i> function on the map_osm object. This should show the stations interactively !</font>"
   ]
  },
  {
   "cell_type": "code",
   "execution_count": null,
   "metadata": {
    "collapsed": true
   },
   "outputs": [],
   "source": []
  },
  {
   "cell_type": "markdown",
   "metadata": {},
   "source": [
    "# 6) Try other visualizations yourself !"
   ]
  },
  {
   "cell_type": "code",
   "execution_count": null,
   "metadata": {
    "collapsed": true
   },
   "outputs": [],
   "source": []
  },
  {
   "cell_type": "code",
   "execution_count": null,
   "metadata": {
    "collapsed": true
   },
   "outputs": [],
   "source": []
  },
  {
   "cell_type": "code",
   "execution_count": null,
   "metadata": {
    "collapsed": true
   },
   "outputs": [],
   "source": []
  },
  {
   "cell_type": "code",
   "execution_count": null,
   "metadata": {
    "collapsed": true
   },
   "outputs": [],
   "source": []
  },
  {
   "cell_type": "code",
   "execution_count": null,
   "metadata": {
    "collapsed": true
   },
   "outputs": [],
   "source": []
  },
  {
   "cell_type": "markdown",
   "metadata": {},
   "source": [
    "# Other nice visualizations"
   ]
  },
  {
   "cell_type": "markdown",
   "metadata": {},
   "source": [
    "- http://www.newyorker.com/news/news-desk/interactive-a-month-of-citi-bike\n",
    "- http://bikes.oobrien.com/newyork/#zoom=14&lon=-74.0045&lat=40.7319\n",
    "- https://vimeo.com/89305412\n",
    "- http://www.r-bloggers.com/new-yorkers-municipal-bikes-and-the-weather/?utm_source=feedburner&utm_medium=feed&utm_campaign=Feed%3A+RBloggers+%28R+bloggers%29"
   ]
  }
 ],
 "metadata": {
  "kernelspec": {
   "display_name": "Python 2",
   "language": "python",
   "name": "python2"
  },
  "language_info": {
   "codemirror_mode": {
    "name": "ipython",
    "version": 2
   },
   "file_extension": ".py",
   "mimetype": "text/x-python",
   "name": "python",
   "nbconvert_exporter": "python",
   "pygments_lexer": "ipython2",
   "version": "2.7.12"
  }
 },
 "nbformat": 4,
 "nbformat_minor": 0
}
