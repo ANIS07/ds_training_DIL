{
 "cells": [
  {
   "cell_type": "markdown",
   "metadata": {},
   "source": [
    "# Introduction to Feature Engineering <font color='blue'> (10 min) </font>"
   ]
  },
  {
   "cell_type": "markdown",
   "metadata": {},
   "source": [
    "# Google doc with code corrections is accessible at:\n",
    "### https://docs.google.com/document/d/19Um3u0V7dekptT0NBE-ArPf0MHe74xQA_BMueBD0Vpw/edit?usp=sharing"
   ]
  },
  {
   "cell_type": "markdown",
   "metadata": {},
   "source": [
    "# 0) Importing the right tools <font color='blue'> (5 min) </font>"
   ]
  },
  {
   "cell_type": "markdown",
   "metadata": {},
   "source": [
    "### <font color='red'>0.1) Import the necessary packages: </font>\n",
    "\n",
    "- pandas (aliased as pd)\n",
    "- numpy (aliased as np)\n",
    "- seaborn (aliased as sns)\n",
    "- matplotlib.pyplot (aliased as plt)"
   ]
  },
  {
   "cell_type": "code",
   "execution_count": 2,
   "metadata": {
    "collapsed": false
   },
   "outputs": [
    {
     "name": "stdout",
     "output_type": "stream",
     "text": [
      "Populating the interactive namespace from numpy and matplotlib\n"
     ]
    },
    {
     "name": "stderr",
     "output_type": "stream",
     "text": [
      "/Users/axa/.pyenv/versions/2.7.12/envs/DS/lib/python2.7/site-packages/IPython/html.py:14: ShimWarning: The `IPython.html` package has been deprecated. You should import from `notebook` instead. `IPython.html.widgets` has moved to `ipywidgets`.\n",
      "  \"`IPython.html.widgets` has moved to `ipywidgets`.\", ShimWarning)\n"
     ]
    }
   ],
   "source": [
    "from __future__ import division\n",
    "#### IMPORT THE NECESSARY PACKAGES WITH THEIR ALIASES ####\n",
    "\n",
    "\n",
    "import pandas as pd\n",
    "import numpy as np\n",
    "import seaborn as sns\n",
    "import matplotlib.pyplot as plt\n",
    "%pylab inline "
   ]
  },
  {
   "cell_type": "markdown",
   "metadata": {},
   "source": [
    "### <font color='red'>0.2) Import the dataset from <i>'../data/data_after_collection_cleaning.csv'</i></font>"
   ]
  },
  {
   "cell_type": "code",
   "execution_count": 3,
   "metadata": {
    "collapsed": true
   },
   "outputs": [],
   "source": [
    "raw_data = pd.read_csv('./my_data_after_collection.csv')\n",
    "data = raw_data.copy()"
   ]
  },
  {
   "cell_type": "markdown",
   "metadata": {},
   "source": [
    "### <font color='red'>0.3) Print samples of data so you are familiar with the data </font>"
   ]
  },
  {
   "cell_type": "code",
   "execution_count": 4,
   "metadata": {
    "collapsed": false
   },
   "outputs": [
    {
     "data": {
      "text/html": [
       "<div>\n",
       "<table border=\"1\" class=\"dataframe\">\n",
       "  <thead>\n",
       "    <tr style=\"text-align: right;\">\n",
       "      <th></th>\n",
       "      <th>tripduration</th>\n",
       "      <th>starttime</th>\n",
       "      <th>stoptime</th>\n",
       "      <th>start station id</th>\n",
       "      <th>start station name</th>\n",
       "      <th>start station latitude</th>\n",
       "      <th>start station longitude</th>\n",
       "      <th>end station id</th>\n",
       "      <th>end station name</th>\n",
       "      <th>end station latitude</th>\n",
       "      <th>end station longitude</th>\n",
       "      <th>bikeid</th>\n",
       "      <th>usertype</th>\n",
       "      <th>birth year</th>\n",
       "      <th>gender</th>\n",
       "      <th>Precipitationmm</th>\n",
       "      <th>Conditions</th>\n",
       "      <th>TemperatureC</th>\n",
       "      <th>total_docks_start</th>\n",
       "      <th>total_docks_end</th>\n",
       "    </tr>\n",
       "  </thead>\n",
       "  <tbody>\n",
       "    <tr>\n",
       "      <th>882959</th>\n",
       "      <td>561</td>\n",
       "      <td>2015-06-29 17:26:00</td>\n",
       "      <td>2015-06-29 17:36:00</td>\n",
       "      <td>407</td>\n",
       "      <td>Henry St &amp; Poplar St</td>\n",
       "      <td>40.700469</td>\n",
       "      <td>-73.991454</td>\n",
       "      <td>395</td>\n",
       "      <td>Bond St &amp; Schermerhorn St</td>\n",
       "      <td>40.68807</td>\n",
       "      <td>-73.984106</td>\n",
       "      <td>19473</td>\n",
       "      <td>Subscriber</td>\n",
       "      <td>1976.0</td>\n",
       "      <td>1</td>\n",
       "      <td>0.0</td>\n",
       "      <td>Scattered Clouds</td>\n",
       "      <td>24.4</td>\n",
       "      <td>37.0</td>\n",
       "      <td>30.0</td>\n",
       "    </tr>\n",
       "    <tr>\n",
       "      <th>516600</th>\n",
       "      <td>920</td>\n",
       "      <td>2015-06-18 07:22:00</td>\n",
       "      <td>2015-06-18 07:37:00</td>\n",
       "      <td>489</td>\n",
       "      <td>10 Ave &amp; W 28 St</td>\n",
       "      <td>40.750664</td>\n",
       "      <td>-74.001768</td>\n",
       "      <td>510</td>\n",
       "      <td>W 51 St &amp; 6 Ave</td>\n",
       "      <td>40.76066</td>\n",
       "      <td>-73.980420</td>\n",
       "      <td>18627</td>\n",
       "      <td>Subscriber</td>\n",
       "      <td>1992.0</td>\n",
       "      <td>1</td>\n",
       "      <td>0.0</td>\n",
       "      <td>Overcast</td>\n",
       "      <td>18.9</td>\n",
       "      <td>37.0</td>\n",
       "      <td>51.0</td>\n",
       "    </tr>\n",
       "  </tbody>\n",
       "</table>\n",
       "</div>"
      ],
      "text/plain": [
       "        tripduration            starttime             stoptime  \\\n",
       "882959           561  2015-06-29 17:26:00  2015-06-29 17:36:00   \n",
       "516600           920  2015-06-18 07:22:00  2015-06-18 07:37:00   \n",
       "\n",
       "        start station id    start station name  start station latitude  \\\n",
       "882959               407  Henry St & Poplar St               40.700469   \n",
       "516600               489      10 Ave & W 28 St               40.750664   \n",
       "\n",
       "        start station longitude  end station id           end station name  \\\n",
       "882959               -73.991454             395  Bond St & Schermerhorn St   \n",
       "516600               -74.001768             510            W 51 St & 6 Ave   \n",
       "\n",
       "        end station latitude  end station longitude  bikeid    usertype  \\\n",
       "882959              40.68807             -73.984106   19473  Subscriber   \n",
       "516600              40.76066             -73.980420   18627  Subscriber   \n",
       "\n",
       "        birth year  gender  Precipitationmm        Conditions  TemperatureC  \\\n",
       "882959      1976.0       1              0.0  Scattered Clouds          24.4   \n",
       "516600      1992.0       1              0.0          Overcast          18.9   \n",
       "\n",
       "        total_docks_start  total_docks_end  \n",
       "882959               37.0             30.0  \n",
       "516600               37.0             51.0  "
      ]
     },
     "execution_count": 4,
     "metadata": {},
     "output_type": "execute_result"
    }
   ],
   "source": [
    "data.sample(2)"
   ]
  },
  {
   "cell_type": "markdown",
   "metadata": {},
   "source": [
    "## 1) Week-end, Weekday <font color='blue'> (20 min) </font>"
   ]
  },
  {
   "cell_type": "markdown",
   "metadata": {},
   "source": [
    "### Weekday"
   ]
  },
  {
   "cell_type": "markdown",
   "metadata": {},
   "source": [
    "### <font color='red'>1.1) Import the <i>calendar</i> package and get help on it </font>"
   ]
  },
  {
   "cell_type": "code",
   "execution_count": 5,
   "metadata": {
    "collapsed": true
   },
   "outputs": [],
   "source": [
    "#### IMPORT THE PACKAGE ####\n",
    "import calendar"
   ]
  },
  {
   "cell_type": "code",
   "execution_count": 6,
   "metadata": {
    "collapsed": false
   },
   "outputs": [
    {
     "name": "stdout",
     "output_type": "stream",
     "text": [
      "Help on module calendar:\n",
      "\n",
      "NAME\n",
      "    calendar - Calendar printing functions\n",
      "\n",
      "FILE\n",
      "    /Users/axa/.pyenv/versions/2.7.12/lib/python2.7/calendar.py\n",
      "\n",
      "DESCRIPTION\n",
      "    Note when comparing these calendars to the ones printed by cal(1): By\n",
      "    default, these calendars have Monday as the first day of the week, and\n",
      "    Sunday as the last (the European convention). Use setfirstweekday() to\n",
      "    set the first day of the week (0=Monday, 6=Sunday).\n",
      "\n",
      "CLASSES\n",
      "    exceptions.ValueError(exceptions.StandardError)\n",
      "        IllegalMonthError\n",
      "        IllegalWeekdayError\n",
      "    \n",
      "    class IllegalMonthError(exceptions.ValueError)\n",
      "     |  # Exceptions raised for bad input\n",
      "     |  \n",
      "     |  Method resolution order:\n",
      "     |      IllegalMonthError\n",
      "     |      exceptions.ValueError\n",
      "     |      exceptions.StandardError\n",
      "     |      exceptions.Exception\n",
      "     |      exceptions.BaseException\n",
      "     |      __builtin__.object\n",
      "     |  \n",
      "     |  Methods defined here:\n",
      "     |  \n",
      "     |  __init__(self, month)\n",
      "     |  \n",
      "     |  __str__(self)\n",
      "     |  \n",
      "     |  ----------------------------------------------------------------------\n",
      "     |  Data descriptors defined here:\n",
      "     |  \n",
      "     |  __weakref__\n",
      "     |      list of weak references to the object (if defined)\n",
      "     |  \n",
      "     |  ----------------------------------------------------------------------\n",
      "     |  Data and other attributes inherited from exceptions.ValueError:\n",
      "     |  \n",
      "     |  __new__ = <built-in method __new__ of type object>\n",
      "     |      T.__new__(S, ...) -> a new object with type S, a subtype of T\n",
      "     |  \n",
      "     |  ----------------------------------------------------------------------\n",
      "     |  Methods inherited from exceptions.BaseException:\n",
      "     |  \n",
      "     |  __delattr__(...)\n",
      "     |      x.__delattr__('name') <==> del x.name\n",
      "     |  \n",
      "     |  __getattribute__(...)\n",
      "     |      x.__getattribute__('name') <==> x.name\n",
      "     |  \n",
      "     |  __getitem__(...)\n",
      "     |      x.__getitem__(y) <==> x[y]\n",
      "     |  \n",
      "     |  __getslice__(...)\n",
      "     |      x.__getslice__(i, j) <==> x[i:j]\n",
      "     |      \n",
      "     |      Use of negative indices is not supported.\n",
      "     |  \n",
      "     |  __reduce__(...)\n",
      "     |  \n",
      "     |  __repr__(...)\n",
      "     |      x.__repr__() <==> repr(x)\n",
      "     |  \n",
      "     |  __setattr__(...)\n",
      "     |      x.__setattr__('name', value) <==> x.name = value\n",
      "     |  \n",
      "     |  __setstate__(...)\n",
      "     |  \n",
      "     |  __unicode__(...)\n",
      "     |  \n",
      "     |  ----------------------------------------------------------------------\n",
      "     |  Data descriptors inherited from exceptions.BaseException:\n",
      "     |  \n",
      "     |  __dict__\n",
      "     |  \n",
      "     |  args\n",
      "     |  \n",
      "     |  message\n",
      "    \n",
      "    class IllegalWeekdayError(exceptions.ValueError)\n",
      "     |  Method resolution order:\n",
      "     |      IllegalWeekdayError\n",
      "     |      exceptions.ValueError\n",
      "     |      exceptions.StandardError\n",
      "     |      exceptions.Exception\n",
      "     |      exceptions.BaseException\n",
      "     |      __builtin__.object\n",
      "     |  \n",
      "     |  Methods defined here:\n",
      "     |  \n",
      "     |  __init__(self, weekday)\n",
      "     |  \n",
      "     |  __str__(self)\n",
      "     |  \n",
      "     |  ----------------------------------------------------------------------\n",
      "     |  Data descriptors defined here:\n",
      "     |  \n",
      "     |  __weakref__\n",
      "     |      list of weak references to the object (if defined)\n",
      "     |  \n",
      "     |  ----------------------------------------------------------------------\n",
      "     |  Data and other attributes inherited from exceptions.ValueError:\n",
      "     |  \n",
      "     |  __new__ = <built-in method __new__ of type object>\n",
      "     |      T.__new__(S, ...) -> a new object with type S, a subtype of T\n",
      "     |  \n",
      "     |  ----------------------------------------------------------------------\n",
      "     |  Methods inherited from exceptions.BaseException:\n",
      "     |  \n",
      "     |  __delattr__(...)\n",
      "     |      x.__delattr__('name') <==> del x.name\n",
      "     |  \n",
      "     |  __getattribute__(...)\n",
      "     |      x.__getattribute__('name') <==> x.name\n",
      "     |  \n",
      "     |  __getitem__(...)\n",
      "     |      x.__getitem__(y) <==> x[y]\n",
      "     |  \n",
      "     |  __getslice__(...)\n",
      "     |      x.__getslice__(i, j) <==> x[i:j]\n",
      "     |      \n",
      "     |      Use of negative indices is not supported.\n",
      "     |  \n",
      "     |  __reduce__(...)\n",
      "     |  \n",
      "     |  __repr__(...)\n",
      "     |      x.__repr__() <==> repr(x)\n",
      "     |  \n",
      "     |  __setattr__(...)\n",
      "     |      x.__setattr__('name', value) <==> x.name = value\n",
      "     |  \n",
      "     |  __setstate__(...)\n",
      "     |  \n",
      "     |  __unicode__(...)\n",
      "     |  \n",
      "     |  ----------------------------------------------------------------------\n",
      "     |  Data descriptors inherited from exceptions.BaseException:\n",
      "     |  \n",
      "     |  __dict__\n",
      "     |  \n",
      "     |  args\n",
      "     |  \n",
      "     |  message\n",
      "\n",
      "FUNCTIONS\n",
      "    calendar = formatyear(self, theyear, w=2, l=1, c=6, m=3) method of TextCalendar instance\n",
      "        Returns a year's calendar as a multi-line string.\n",
      "    \n",
      "    firstweekday = getfirstweekday(self) method of TextCalendar instance\n",
      "    \n",
      "    isleap(year)\n",
      "        Return True for leap years, False for non-leap years.\n",
      "    \n",
      "    leapdays(y1, y2)\n",
      "        Return number of leap years in range [y1, y2).\n",
      "        Assume y1 <= y2.\n",
      "    \n",
      "    month = formatmonth(self, theyear, themonth, w=0, l=0) method of TextCalendar instance\n",
      "        Return a month's calendar string (multi-line).\n",
      "    \n",
      "    monthcalendar = monthdayscalendar(self, year, month) method of TextCalendar instance\n",
      "        Return a matrix representing a month's calendar.\n",
      "        Each row represents a week; days outside this month are zero.\n",
      "    \n",
      "    monthrange(year, month)\n",
      "        Return weekday (0-6 ~ Mon-Sun) and number of days (28-31) for\n",
      "        year, month.\n",
      "    \n",
      "    prcal = pryear(self, theyear, w=0, l=0, c=6, m=3) method of TextCalendar instance\n",
      "        Print a year's calendar.\n",
      "    \n",
      "    prmonth(self, theyear, themonth, w=0, l=0) method of TextCalendar instance\n",
      "        Print a month's calendar.\n",
      "    \n",
      "    setfirstweekday(firstweekday)\n",
      "    \n",
      "    timegm(tuple)\n",
      "        Unrelated but handy function to calculate Unix timestamp from GMT.\n",
      "    \n",
      "    weekday(year, month, day)\n",
      "        Return weekday (0-6 ~ Mon-Sun) for year (1970-...), month (1-12),\n",
      "        day (1-31).\n",
      "\n",
      "DATA\n",
      "    __all__ = ['IllegalMonthError', 'IllegalWeekdayError', 'setfirstweekda...\n",
      "    day_abbr = <calendar._localized_day instance>\n",
      "    day_name = <calendar._localized_day instance>\n",
      "    month_abbr = <calendar._localized_month instance>\n",
      "    month_name = <calendar._localized_month instance>\n",
      "\n",
      "\n"
     ]
    }
   ],
   "source": [
    "#### CALL HELP ON IT ####\n",
    "help(calendar)"
   ]
  },
  {
   "cell_type": "markdown",
   "metadata": {},
   "source": [
    "### <font color='red'>1.2) Run the following block, so it changes starttime and stoptime columns of <i>data</i> to the right <i>datetime</i> format </font>"
   ]
  },
  {
   "cell_type": "code",
   "execution_count": 7,
   "metadata": {
    "collapsed": true
   },
   "outputs": [],
   "source": [
    "data['starttime'] = pd.to_datetime(data['starttime'], format=\"%Y-%m-%d %H:%M\")\n",
    "data['stoptime'] = pd.to_datetime(data['stoptime'], format=\"%Y-%m-%d %H:%M\")"
   ]
  },
  {
   "cell_type": "code",
   "execution_count": 8,
   "metadata": {
    "collapsed": false
   },
   "outputs": [
    {
     "data": {
      "text/html": [
       "<div>\n",
       "<table border=\"1\" class=\"dataframe\">\n",
       "  <thead>\n",
       "    <tr style=\"text-align: right;\">\n",
       "      <th></th>\n",
       "      <th>tripduration</th>\n",
       "      <th>starttime</th>\n",
       "      <th>stoptime</th>\n",
       "      <th>start station id</th>\n",
       "      <th>start station name</th>\n",
       "      <th>start station latitude</th>\n",
       "      <th>start station longitude</th>\n",
       "      <th>end station id</th>\n",
       "      <th>end station name</th>\n",
       "      <th>end station latitude</th>\n",
       "      <th>end station longitude</th>\n",
       "      <th>bikeid</th>\n",
       "      <th>usertype</th>\n",
       "      <th>birth year</th>\n",
       "      <th>gender</th>\n",
       "      <th>Precipitationmm</th>\n",
       "      <th>Conditions</th>\n",
       "      <th>TemperatureC</th>\n",
       "      <th>total_docks_start</th>\n",
       "      <th>total_docks_end</th>\n",
       "    </tr>\n",
       "  </thead>\n",
       "  <tbody>\n",
       "    <tr>\n",
       "      <th>0</th>\n",
       "      <td>1338</td>\n",
       "      <td>2015-06-01 00:00:00</td>\n",
       "      <td>2015-06-01 00:22:00</td>\n",
       "      <td>128</td>\n",
       "      <td>MacDougal St &amp; Prince St</td>\n",
       "      <td>40.727103</td>\n",
       "      <td>-74.002971</td>\n",
       "      <td>2021</td>\n",
       "      <td>W 45 St &amp; 8 Ave</td>\n",
       "      <td>40.759291</td>\n",
       "      <td>-73.988597</td>\n",
       "      <td>20721</td>\n",
       "      <td>Subscriber</td>\n",
       "      <td>1984.0</td>\n",
       "      <td>1</td>\n",
       "      <td>0.07</td>\n",
       "      <td>Overcast</td>\n",
       "      <td>15.0</td>\n",
       "      <td>30.0</td>\n",
       "      <td>43.0</td>\n",
       "    </tr>\n",
       "    <tr>\n",
       "      <th>1</th>\n",
       "      <td>290</td>\n",
       "      <td>2015-06-01 00:00:00</td>\n",
       "      <td>2015-06-01 00:05:00</td>\n",
       "      <td>438</td>\n",
       "      <td>St Marks Pl &amp; 1 Ave</td>\n",
       "      <td>40.727791</td>\n",
       "      <td>-73.985649</td>\n",
       "      <td>312</td>\n",
       "      <td>Allen St &amp; E Houston St</td>\n",
       "      <td>40.722055</td>\n",
       "      <td>-73.989111</td>\n",
       "      <td>21606</td>\n",
       "      <td>Subscriber</td>\n",
       "      <td>1997.0</td>\n",
       "      <td>1</td>\n",
       "      <td>0.07</td>\n",
       "      <td>Overcast</td>\n",
       "      <td>15.0</td>\n",
       "      <td>27.0</td>\n",
       "      <td>31.0</td>\n",
       "    </tr>\n",
       "    <tr>\n",
       "      <th>2</th>\n",
       "      <td>634</td>\n",
       "      <td>2015-06-01 00:01:00</td>\n",
       "      <td>2015-06-01 00:11:00</td>\n",
       "      <td>383</td>\n",
       "      <td>Greenwich Ave &amp; Charles St</td>\n",
       "      <td>40.735238</td>\n",
       "      <td>-74.000271</td>\n",
       "      <td>388</td>\n",
       "      <td>W 26 St &amp; 10 Ave</td>\n",
       "      <td>40.749718</td>\n",
       "      <td>-74.002950</td>\n",
       "      <td>16595</td>\n",
       "      <td>Subscriber</td>\n",
       "      <td>1993.0</td>\n",
       "      <td>1</td>\n",
       "      <td>0.07</td>\n",
       "      <td>Overcast</td>\n",
       "      <td>15.0</td>\n",
       "      <td>39.0</td>\n",
       "      <td>35.0</td>\n",
       "    </tr>\n",
       "    <tr>\n",
       "      <th>3</th>\n",
       "      <td>159</td>\n",
       "      <td>2015-06-01 00:01:00</td>\n",
       "      <td>2015-06-01 00:04:00</td>\n",
       "      <td>361</td>\n",
       "      <td>Allen St &amp; Hester St</td>\n",
       "      <td>40.716059</td>\n",
       "      <td>-73.991908</td>\n",
       "      <td>531</td>\n",
       "      <td>Forsyth St &amp; Broome St</td>\n",
       "      <td>40.718939</td>\n",
       "      <td>-73.992663</td>\n",
       "      <td>16949</td>\n",
       "      <td>Subscriber</td>\n",
       "      <td>1981.0</td>\n",
       "      <td>1</td>\n",
       "      <td>0.07</td>\n",
       "      <td>Overcast</td>\n",
       "      <td>15.0</td>\n",
       "      <td>43.0</td>\n",
       "      <td>39.0</td>\n",
       "    </tr>\n",
       "    <tr>\n",
       "      <th>4</th>\n",
       "      <td>1233</td>\n",
       "      <td>2015-06-01 00:02:00</td>\n",
       "      <td>2015-06-01 00:22:00</td>\n",
       "      <td>382</td>\n",
       "      <td>University Pl &amp; E 14 St</td>\n",
       "      <td>40.734927</td>\n",
       "      <td>-73.992005</td>\n",
       "      <td>532</td>\n",
       "      <td>S 5 Pl &amp; S 4 St</td>\n",
       "      <td>40.710451</td>\n",
       "      <td>-73.960876</td>\n",
       "      <td>17028</td>\n",
       "      <td>Customer</td>\n",
       "      <td>1979.0</td>\n",
       "      <td>0</td>\n",
       "      <td>0.07</td>\n",
       "      <td>Overcast</td>\n",
       "      <td>15.0</td>\n",
       "      <td>36.0</td>\n",
       "      <td>43.0</td>\n",
       "    </tr>\n",
       "    <tr>\n",
       "      <th>5</th>\n",
       "      <td>690</td>\n",
       "      <td>2015-06-01 00:03:00</td>\n",
       "      <td>2015-06-01 00:15:00</td>\n",
       "      <td>284</td>\n",
       "      <td>Greenwich Ave &amp; 8 Ave</td>\n",
       "      <td>40.739017</td>\n",
       "      <td>-74.002638</td>\n",
       "      <td>410</td>\n",
       "      <td>Suffolk St &amp; Stanton St</td>\n",
       "      <td>40.720664</td>\n",
       "      <td>-73.985180</td>\n",
       "      <td>20857</td>\n",
       "      <td>Subscriber</td>\n",
       "      <td>1976.0</td>\n",
       "      <td>1</td>\n",
       "      <td>0.07</td>\n",
       "      <td>Overcast</td>\n",
       "      <td>15.0</td>\n",
       "      <td>43.0</td>\n",
       "      <td>35.0</td>\n",
       "    </tr>\n",
       "    <tr>\n",
       "      <th>6</th>\n",
       "      <td>766</td>\n",
       "      <td>2015-06-01 00:04:00</td>\n",
       "      <td>2015-06-01 00:17:00</td>\n",
       "      <td>346</td>\n",
       "      <td>Bank St &amp; Hudson St</td>\n",
       "      <td>40.736529</td>\n",
       "      <td>-74.006180</td>\n",
       "      <td>2003</td>\n",
       "      <td>1 Ave &amp; E 18 St</td>\n",
       "      <td>40.733812</td>\n",
       "      <td>-73.980544</td>\n",
       "      <td>15978</td>\n",
       "      <td>Subscriber</td>\n",
       "      <td>1976.0</td>\n",
       "      <td>1</td>\n",
       "      <td>0.07</td>\n",
       "      <td>Overcast</td>\n",
       "      <td>15.0</td>\n",
       "      <td>27.0</td>\n",
       "      <td>39.0</td>\n",
       "    </tr>\n",
       "    <tr>\n",
       "      <th>7</th>\n",
       "      <td>1160</td>\n",
       "      <td>2015-06-01 00:06:00</td>\n",
       "      <td>2015-06-01 00:25:00</td>\n",
       "      <td>512</td>\n",
       "      <td>W 29 St &amp; 9 Ave</td>\n",
       "      <td>40.750073</td>\n",
       "      <td>-73.998393</td>\n",
       "      <td>445</td>\n",
       "      <td>E 10 St &amp; Avenue A</td>\n",
       "      <td>40.727408</td>\n",
       "      <td>-73.981420</td>\n",
       "      <td>17306</td>\n",
       "      <td>Subscriber</td>\n",
       "      <td>1962.0</td>\n",
       "      <td>2</td>\n",
       "      <td>0.07</td>\n",
       "      <td>Overcast</td>\n",
       "      <td>15.0</td>\n",
       "      <td>27.0</td>\n",
       "      <td>42.0</td>\n",
       "    </tr>\n",
       "    <tr>\n",
       "      <th>8</th>\n",
       "      <td>550</td>\n",
       "      <td>2015-06-01 00:07:00</td>\n",
       "      <td>2015-06-01 00:16:00</td>\n",
       "      <td>525</td>\n",
       "      <td>W 34 St &amp; 11 Ave</td>\n",
       "      <td>40.755942</td>\n",
       "      <td>-74.002116</td>\n",
       "      <td>447</td>\n",
       "      <td>8 Ave &amp; W 52 St</td>\n",
       "      <td>40.763707</td>\n",
       "      <td>-73.985162</td>\n",
       "      <td>18392</td>\n",
       "      <td>Subscriber</td>\n",
       "      <td>1973.0</td>\n",
       "      <td>1</td>\n",
       "      <td>0.07</td>\n",
       "      <td>Overcast</td>\n",
       "      <td>15.0</td>\n",
       "      <td>39.0</td>\n",
       "      <td>31.0</td>\n",
       "    </tr>\n",
       "    <tr>\n",
       "      <th>9</th>\n",
       "      <td>545</td>\n",
       "      <td>2015-06-01 00:08:00</td>\n",
       "      <td>2015-06-01 00:17:00</td>\n",
       "      <td>403</td>\n",
       "      <td>E 2 St &amp; 2 Ave</td>\n",
       "      <td>40.725029</td>\n",
       "      <td>-73.990697</td>\n",
       "      <td>439</td>\n",
       "      <td>E 4 St &amp; 2 Ave</td>\n",
       "      <td>40.726281</td>\n",
       "      <td>-73.989780</td>\n",
       "      <td>16300</td>\n",
       "      <td>Subscriber</td>\n",
       "      <td>1958.0</td>\n",
       "      <td>1</td>\n",
       "      <td>0.07</td>\n",
       "      <td>Overcast</td>\n",
       "      <td>15.0</td>\n",
       "      <td>31.0</td>\n",
       "      <td>39.0</td>\n",
       "    </tr>\n",
       "    <tr>\n",
       "      <th>10</th>\n",
       "      <td>752</td>\n",
       "      <td>2015-06-01 00:08:00</td>\n",
       "      <td>2015-06-01 00:21:00</td>\n",
       "      <td>441</td>\n",
       "      <td>E 52 St &amp; 2 Ave</td>\n",
       "      <td>40.756014</td>\n",
       "      <td>-73.967416</td>\n",
       "      <td>492</td>\n",
       "      <td>W 33 St &amp; 7 Ave</td>\n",
       "      <td>40.750200</td>\n",
       "      <td>-73.990931</td>\n",
       "      <td>16874</td>\n",
       "      <td>Subscriber</td>\n",
       "      <td>1964.0</td>\n",
       "      <td>1</td>\n",
       "      <td>0.07</td>\n",
       "      <td>Overcast</td>\n",
       "      <td>15.0</td>\n",
       "      <td>35.0</td>\n",
       "      <td>49.0</td>\n",
       "    </tr>\n",
       "    <tr>\n",
       "      <th>11</th>\n",
       "      <td>1743</td>\n",
       "      <td>2015-06-01 00:08:00</td>\n",
       "      <td>2015-06-01 00:37:00</td>\n",
       "      <td>329</td>\n",
       "      <td>Greenwich St &amp; N Moore St</td>\n",
       "      <td>40.720434</td>\n",
       "      <td>-74.010206</td>\n",
       "      <td>147</td>\n",
       "      <td>Greenwich St &amp; Warren St</td>\n",
       "      <td>40.715422</td>\n",
       "      <td>-74.011220</td>\n",
       "      <td>14726</td>\n",
       "      <td>Subscriber</td>\n",
       "      <td>1982.0</td>\n",
       "      <td>2</td>\n",
       "      <td>0.07</td>\n",
       "      <td>Overcast</td>\n",
       "      <td>15.0</td>\n",
       "      <td>31.0</td>\n",
       "      <td>33.0</td>\n",
       "    </tr>\n",
       "    <tr>\n",
       "      <th>12</th>\n",
       "      <td>964</td>\n",
       "      <td>2015-06-01 00:10:00</td>\n",
       "      <td>2015-06-01 00:27:00</td>\n",
       "      <td>505</td>\n",
       "      <td>6 Ave &amp; W 33 St</td>\n",
       "      <td>40.749013</td>\n",
       "      <td>-73.988484</td>\n",
       "      <td>377</td>\n",
       "      <td>6 Ave &amp; Canal St</td>\n",
       "      <td>40.722438</td>\n",
       "      <td>-74.005664</td>\n",
       "      <td>18699</td>\n",
       "      <td>Subscriber</td>\n",
       "      <td>1985.0</td>\n",
       "      <td>2</td>\n",
       "      <td>0.07</td>\n",
       "      <td>Overcast</td>\n",
       "      <td>15.0</td>\n",
       "      <td>36.0</td>\n",
       "      <td>47.0</td>\n",
       "    </tr>\n",
       "    <tr>\n",
       "      <th>13</th>\n",
       "      <td>207</td>\n",
       "      <td>2015-06-01 00:11:00</td>\n",
       "      <td>2015-06-01 00:14:00</td>\n",
       "      <td>294</td>\n",
       "      <td>Washington Square E</td>\n",
       "      <td>40.730494</td>\n",
       "      <td>-73.995721</td>\n",
       "      <td>439</td>\n",
       "      <td>E 4 St &amp; 2 Ave</td>\n",
       "      <td>40.726281</td>\n",
       "      <td>-73.989780</td>\n",
       "      <td>17390</td>\n",
       "      <td>Subscriber</td>\n",
       "      <td>1989.0</td>\n",
       "      <td>1</td>\n",
       "      <td>0.07</td>\n",
       "      <td>Overcast</td>\n",
       "      <td>15.0</td>\n",
       "      <td>31.0</td>\n",
       "      <td>39.0</td>\n",
       "    </tr>\n",
       "    <tr>\n",
       "      <th>14</th>\n",
       "      <td>511</td>\n",
       "      <td>2015-06-01 00:13:00</td>\n",
       "      <td>2015-06-01 00:21:00</td>\n",
       "      <td>257</td>\n",
       "      <td>Lispenard St &amp; Broadway</td>\n",
       "      <td>40.719392</td>\n",
       "      <td>-74.002472</td>\n",
       "      <td>408</td>\n",
       "      <td>Market St &amp; Cherry St</td>\n",
       "      <td>40.710762</td>\n",
       "      <td>-73.994004</td>\n",
       "      <td>14777</td>\n",
       "      <td>Subscriber</td>\n",
       "      <td>1983.0</td>\n",
       "      <td>2</td>\n",
       "      <td>0.07</td>\n",
       "      <td>Overcast</td>\n",
       "      <td>15.0</td>\n",
       "      <td>39.0</td>\n",
       "      <td>23.0</td>\n",
       "    </tr>\n",
       "    <tr>\n",
       "      <th>15</th>\n",
       "      <td>635</td>\n",
       "      <td>2015-06-01 00:13:00</td>\n",
       "      <td>2015-06-01 00:24:00</td>\n",
       "      <td>480</td>\n",
       "      <td>W 53 St &amp; 10 Ave</td>\n",
       "      <td>40.766697</td>\n",
       "      <td>-73.990617</td>\n",
       "      <td>490</td>\n",
       "      <td>8 Ave &amp; W 33 St</td>\n",
       "      <td>40.751551</td>\n",
       "      <td>-73.993934</td>\n",
       "      <td>15170</td>\n",
       "      <td>Subscriber</td>\n",
       "      <td>1976.0</td>\n",
       "      <td>1</td>\n",
       "      <td>0.07</td>\n",
       "      <td>Overcast</td>\n",
       "      <td>15.0</td>\n",
       "      <td>27.0</td>\n",
       "      <td>59.0</td>\n",
       "    </tr>\n",
       "    <tr>\n",
       "      <th>16</th>\n",
       "      <td>131</td>\n",
       "      <td>2015-06-01 00:13:00</td>\n",
       "      <td>2015-06-01 00:16:00</td>\n",
       "      <td>307</td>\n",
       "      <td>Canal St &amp; Rutgers St</td>\n",
       "      <td>40.714275</td>\n",
       "      <td>-73.989900</td>\n",
       "      <td>350</td>\n",
       "      <td>Clinton St &amp; Grand St</td>\n",
       "      <td>40.715595</td>\n",
       "      <td>-73.987030</td>\n",
       "      <td>15984</td>\n",
       "      <td>Subscriber</td>\n",
       "      <td>1985.0</td>\n",
       "      <td>1</td>\n",
       "      <td>0.07</td>\n",
       "      <td>Overcast</td>\n",
       "      <td>15.0</td>\n",
       "      <td>29.0</td>\n",
       "      <td>28.0</td>\n",
       "    </tr>\n",
       "    <tr>\n",
       "      <th>17</th>\n",
       "      <td>338</td>\n",
       "      <td>2015-06-01 00:14:00</td>\n",
       "      <td>2015-06-01 00:19:00</td>\n",
       "      <td>224</td>\n",
       "      <td>Spruce St &amp; Nassau St</td>\n",
       "      <td>40.711464</td>\n",
       "      <td>-74.005524</td>\n",
       "      <td>257</td>\n",
       "      <td>Lispenard St &amp; Broadway</td>\n",
       "      <td>40.719392</td>\n",
       "      <td>-74.002472</td>\n",
       "      <td>19240</td>\n",
       "      <td>Subscriber</td>\n",
       "      <td>1955.0</td>\n",
       "      <td>1</td>\n",
       "      <td>0.07</td>\n",
       "      <td>Overcast</td>\n",
       "      <td>15.0</td>\n",
       "      <td>31.0</td>\n",
       "      <td>39.0</td>\n",
       "    </tr>\n",
       "    <tr>\n",
       "      <th>18</th>\n",
       "      <td>923</td>\n",
       "      <td>2015-06-01 00:14:00</td>\n",
       "      <td>2015-06-01 00:29:00</td>\n",
       "      <td>485</td>\n",
       "      <td>W 37 St &amp; 5 Ave</td>\n",
       "      <td>40.750380</td>\n",
       "      <td>-73.983390</td>\n",
       "      <td>174</td>\n",
       "      <td>E 25 St &amp; 1 Ave</td>\n",
       "      <td>40.738177</td>\n",
       "      <td>-73.977387</td>\n",
       "      <td>14911</td>\n",
       "      <td>Subscriber</td>\n",
       "      <td>1977.0</td>\n",
       "      <td>1</td>\n",
       "      <td>0.07</td>\n",
       "      <td>Overcast</td>\n",
       "      <td>15.0</td>\n",
       "      <td>39.0</td>\n",
       "      <td>30.0</td>\n",
       "    </tr>\n",
       "    <tr>\n",
       "      <th>19</th>\n",
       "      <td>741</td>\n",
       "      <td>2015-06-01 00:14:00</td>\n",
       "      <td>2015-06-01 00:27:00</td>\n",
       "      <td>309</td>\n",
       "      <td>Murray St &amp; West St</td>\n",
       "      <td>40.714979</td>\n",
       "      <td>-74.013012</td>\n",
       "      <td>296</td>\n",
       "      <td>Division St &amp; Bowery</td>\n",
       "      <td>40.714131</td>\n",
       "      <td>-73.997047</td>\n",
       "      <td>17702</td>\n",
       "      <td>Subscriber</td>\n",
       "      <td>1984.0</td>\n",
       "      <td>1</td>\n",
       "      <td>0.07</td>\n",
       "      <td>Overcast</td>\n",
       "      <td>15.0</td>\n",
       "      <td>41.0</td>\n",
       "      <td>35.0</td>\n",
       "    </tr>\n",
       "    <tr>\n",
       "      <th>20</th>\n",
       "      <td>297</td>\n",
       "      <td>2015-06-01 00:15:00</td>\n",
       "      <td>2015-06-01 00:20:00</td>\n",
       "      <td>350</td>\n",
       "      <td>Clinton St &amp; Grand St</td>\n",
       "      <td>40.715595</td>\n",
       "      <td>-73.987030</td>\n",
       "      <td>428</td>\n",
       "      <td>E 3 St &amp; 1 Ave</td>\n",
       "      <td>40.724677</td>\n",
       "      <td>-73.987834</td>\n",
       "      <td>20216</td>\n",
       "      <td>Subscriber</td>\n",
       "      <td>1971.0</td>\n",
       "      <td>1</td>\n",
       "      <td>0.07</td>\n",
       "      <td>Overcast</td>\n",
       "      <td>15.0</td>\n",
       "      <td>28.0</td>\n",
       "      <td>31.0</td>\n",
       "    </tr>\n",
       "    <tr>\n",
       "      <th>21</th>\n",
       "      <td>430</td>\n",
       "      <td>2015-06-01 00:15:00</td>\n",
       "      <td>2015-06-01 00:22:00</td>\n",
       "      <td>388</td>\n",
       "      <td>W 26 St &amp; 10 Ave</td>\n",
       "      <td>40.749718</td>\n",
       "      <td>-74.002950</td>\n",
       "      <td>383</td>\n",
       "      <td>Greenwich Ave &amp; Charles St</td>\n",
       "      <td>40.735238</td>\n",
       "      <td>-74.000271</td>\n",
       "      <td>16595</td>\n",
       "      <td>Subscriber</td>\n",
       "      <td>1993.0</td>\n",
       "      <td>1</td>\n",
       "      <td>0.07</td>\n",
       "      <td>Overcast</td>\n",
       "      <td>15.0</td>\n",
       "      <td>35.0</td>\n",
       "      <td>39.0</td>\n",
       "    </tr>\n",
       "    <tr>\n",
       "      <th>22</th>\n",
       "      <td>1061</td>\n",
       "      <td>2015-06-01 00:16:00</td>\n",
       "      <td>2015-06-01 00:34:00</td>\n",
       "      <td>316</td>\n",
       "      <td>Fulton St &amp; William St</td>\n",
       "      <td>40.709560</td>\n",
       "      <td>-74.006536</td>\n",
       "      <td>313</td>\n",
       "      <td>Washington Ave &amp; Park Ave</td>\n",
       "      <td>40.696102</td>\n",
       "      <td>-73.967510</td>\n",
       "      <td>18745</td>\n",
       "      <td>Subscriber</td>\n",
       "      <td>1990.0</td>\n",
       "      <td>1</td>\n",
       "      <td>0.07</td>\n",
       "      <td>Overcast</td>\n",
       "      <td>15.0</td>\n",
       "      <td>43.0</td>\n",
       "      <td>23.0</td>\n",
       "    </tr>\n",
       "    <tr>\n",
       "      <th>23</th>\n",
       "      <td>643</td>\n",
       "      <td>2015-06-01 00:19:00</td>\n",
       "      <td>2015-06-01 00:30:00</td>\n",
       "      <td>439</td>\n",
       "      <td>E 4 St &amp; 2 Ave</td>\n",
       "      <td>40.726281</td>\n",
       "      <td>-73.989780</td>\n",
       "      <td>263</td>\n",
       "      <td>Elizabeth St &amp; Hester St</td>\n",
       "      <td>40.717290</td>\n",
       "      <td>-73.996375</td>\n",
       "      <td>16003</td>\n",
       "      <td>Subscriber</td>\n",
       "      <td>1972.0</td>\n",
       "      <td>1</td>\n",
       "      <td>0.07</td>\n",
       "      <td>Overcast</td>\n",
       "      <td>15.0</td>\n",
       "      <td>39.0</td>\n",
       "      <td>31.0</td>\n",
       "    </tr>\n",
       "    <tr>\n",
       "      <th>24</th>\n",
       "      <td>158</td>\n",
       "      <td>2015-06-01 00:22:00</td>\n",
       "      <td>2015-06-01 00:24:00</td>\n",
       "      <td>153</td>\n",
       "      <td>E 40 St &amp; 5 Ave</td>\n",
       "      <td>40.752062</td>\n",
       "      <td>-73.981632</td>\n",
       "      <td>160</td>\n",
       "      <td>E 37 St &amp; Lexington Ave</td>\n",
       "      <td>40.748238</td>\n",
       "      <td>-73.978311</td>\n",
       "      <td>21629</td>\n",
       "      <td>Subscriber</td>\n",
       "      <td>1986.0</td>\n",
       "      <td>1</td>\n",
       "      <td>0.07</td>\n",
       "      <td>Overcast</td>\n",
       "      <td>15.0</td>\n",
       "      <td>55.0</td>\n",
       "      <td>26.0</td>\n",
       "    </tr>\n",
       "    <tr>\n",
       "      <th>25</th>\n",
       "      <td>160</td>\n",
       "      <td>2015-06-01 00:22:00</td>\n",
       "      <td>2015-06-01 00:25:00</td>\n",
       "      <td>368</td>\n",
       "      <td>Carmine St &amp; 6 Ave</td>\n",
       "      <td>40.730386</td>\n",
       "      <td>-74.002150</td>\n",
       "      <td>358</td>\n",
       "      <td>Christopher St &amp; Greenwich St</td>\n",
       "      <td>40.732916</td>\n",
       "      <td>-74.007114</td>\n",
       "      <td>20136</td>\n",
       "      <td>Customer</td>\n",
       "      <td>1979.0</td>\n",
       "      <td>0</td>\n",
       "      <td>0.07</td>\n",
       "      <td>Overcast</td>\n",
       "      <td>15.0</td>\n",
       "      <td>39.0</td>\n",
       "      <td>36.0</td>\n",
       "    </tr>\n",
       "    <tr>\n",
       "      <th>26</th>\n",
       "      <td>1108</td>\n",
       "      <td>2015-06-01 00:23:00</td>\n",
       "      <td>2015-06-01 00:41:00</td>\n",
       "      <td>404</td>\n",
       "      <td>9 Ave &amp; W 14 St</td>\n",
       "      <td>40.740583</td>\n",
       "      <td>-74.005509</td>\n",
       "      <td>428</td>\n",
       "      <td>E 3 St &amp; 1 Ave</td>\n",
       "      <td>40.724677</td>\n",
       "      <td>-73.987834</td>\n",
       "      <td>15676</td>\n",
       "      <td>Subscriber</td>\n",
       "      <td>1989.0</td>\n",
       "      <td>1</td>\n",
       "      <td>0.07</td>\n",
       "      <td>Overcast</td>\n",
       "      <td>15.0</td>\n",
       "      <td>31.0</td>\n",
       "      <td>31.0</td>\n",
       "    </tr>\n",
       "    <tr>\n",
       "      <th>27</th>\n",
       "      <td>845</td>\n",
       "      <td>2015-06-01 00:24:00</td>\n",
       "      <td>2015-06-01 00:38:00</td>\n",
       "      <td>432</td>\n",
       "      <td>E 7 St &amp; Avenue A</td>\n",
       "      <td>40.726218</td>\n",
       "      <td>-73.983799</td>\n",
       "      <td>472</td>\n",
       "      <td>E 32 St &amp; Park Ave</td>\n",
       "      <td>40.745712</td>\n",
       "      <td>-73.981948</td>\n",
       "      <td>14686</td>\n",
       "      <td>Subscriber</td>\n",
       "      <td>1983.0</td>\n",
       "      <td>1</td>\n",
       "      <td>0.07</td>\n",
       "      <td>Overcast</td>\n",
       "      <td>15.0</td>\n",
       "      <td>31.0</td>\n",
       "      <td>41.0</td>\n",
       "    </tr>\n",
       "    <tr>\n",
       "      <th>28</th>\n",
       "      <td>299</td>\n",
       "      <td>2015-06-01 00:24:00</td>\n",
       "      <td>2015-06-01 00:29:00</td>\n",
       "      <td>405</td>\n",
       "      <td>Washington St &amp; Gansevoort St</td>\n",
       "      <td>40.739323</td>\n",
       "      <td>-74.008119</td>\n",
       "      <td>462</td>\n",
       "      <td>W 22 St &amp; 10 Ave</td>\n",
       "      <td>40.746920</td>\n",
       "      <td>-74.004519</td>\n",
       "      <td>14937</td>\n",
       "      <td>Subscriber</td>\n",
       "      <td>1989.0</td>\n",
       "      <td>1</td>\n",
       "      <td>0.07</td>\n",
       "      <td>Overcast</td>\n",
       "      <td>15.0</td>\n",
       "      <td>40.0</td>\n",
       "      <td>47.0</td>\n",
       "    </tr>\n",
       "    <tr>\n",
       "      <th>29</th>\n",
       "      <td>363</td>\n",
       "      <td>2015-06-01 00:25:00</td>\n",
       "      <td>2015-06-01 00:31:00</td>\n",
       "      <td>489</td>\n",
       "      <td>10 Ave &amp; W 28 St</td>\n",
       "      <td>40.750664</td>\n",
       "      <td>-74.001768</td>\n",
       "      <td>488</td>\n",
       "      <td>W 39 St &amp; 9 Ave</td>\n",
       "      <td>40.756458</td>\n",
       "      <td>-73.993722</td>\n",
       "      <td>19780</td>\n",
       "      <td>Subscriber</td>\n",
       "      <td>1986.0</td>\n",
       "      <td>1</td>\n",
       "      <td>0.07</td>\n",
       "      <td>Overcast</td>\n",
       "      <td>15.0</td>\n",
       "      <td>37.0</td>\n",
       "      <td>41.0</td>\n",
       "    </tr>\n",
       "    <tr>\n",
       "      <th>...</th>\n",
       "      <td>...</td>\n",
       "      <td>...</td>\n",
       "      <td>...</td>\n",
       "      <td>...</td>\n",
       "      <td>...</td>\n",
       "      <td>...</td>\n",
       "      <td>...</td>\n",
       "      <td>...</td>\n",
       "      <td>...</td>\n",
       "      <td>...</td>\n",
       "      <td>...</td>\n",
       "      <td>...</td>\n",
       "      <td>...</td>\n",
       "      <td>...</td>\n",
       "      <td>...</td>\n",
       "      <td>...</td>\n",
       "      <td>...</td>\n",
       "      <td>...</td>\n",
       "      <td>...</td>\n",
       "      <td>...</td>\n",
       "    </tr>\n",
       "    <tr>\n",
       "      <th>935605</th>\n",
       "      <td>1887</td>\n",
       "      <td>2015-06-30 23:56:00</td>\n",
       "      <td>2015-07-01 00:27:00</td>\n",
       "      <td>259</td>\n",
       "      <td>South St &amp; Whitehall St</td>\n",
       "      <td>40.701221</td>\n",
       "      <td>-74.012342</td>\n",
       "      <td>504</td>\n",
       "      <td>1 Ave &amp; E 15 St</td>\n",
       "      <td>40.732219</td>\n",
       "      <td>-73.981656</td>\n",
       "      <td>17578</td>\n",
       "      <td>Subscriber</td>\n",
       "      <td>1977.0</td>\n",
       "      <td>2</td>\n",
       "      <td>0.00</td>\n",
       "      <td>Overcast</td>\n",
       "      <td>23.3</td>\n",
       "      <td>39.0</td>\n",
       "      <td>45.0</td>\n",
       "    </tr>\n",
       "    <tr>\n",
       "      <th>935606</th>\n",
       "      <td>376</td>\n",
       "      <td>2015-06-30 23:56:00</td>\n",
       "      <td>2015-07-01 00:02:00</td>\n",
       "      <td>293</td>\n",
       "      <td>Lafayette St &amp; E 8 St</td>\n",
       "      <td>40.730287</td>\n",
       "      <td>-73.990765</td>\n",
       "      <td>491</td>\n",
       "      <td>E 24 St &amp; Park Ave S</td>\n",
       "      <td>40.740964</td>\n",
       "      <td>-73.986022</td>\n",
       "      <td>21118</td>\n",
       "      <td>Subscriber</td>\n",
       "      <td>1990.0</td>\n",
       "      <td>2</td>\n",
       "      <td>0.00</td>\n",
       "      <td>Overcast</td>\n",
       "      <td>23.3</td>\n",
       "      <td>55.0</td>\n",
       "      <td>53.0</td>\n",
       "    </tr>\n",
       "    <tr>\n",
       "      <th>935607</th>\n",
       "      <td>379</td>\n",
       "      <td>2015-06-30 23:56:00</td>\n",
       "      <td>2015-07-01 00:03:00</td>\n",
       "      <td>432</td>\n",
       "      <td>E 7 St &amp; Avenue A</td>\n",
       "      <td>40.726218</td>\n",
       "      <td>-73.983799</td>\n",
       "      <td>252</td>\n",
       "      <td>MacDougal St &amp; Washington Sq</td>\n",
       "      <td>40.732264</td>\n",
       "      <td>-73.998522</td>\n",
       "      <td>17315</td>\n",
       "      <td>Subscriber</td>\n",
       "      <td>1988.0</td>\n",
       "      <td>1</td>\n",
       "      <td>0.00</td>\n",
       "      <td>Overcast</td>\n",
       "      <td>23.3</td>\n",
       "      <td>31.0</td>\n",
       "      <td>33.0</td>\n",
       "    </tr>\n",
       "    <tr>\n",
       "      <th>935608</th>\n",
       "      <td>710</td>\n",
       "      <td>2015-06-30 23:56:00</td>\n",
       "      <td>2015-07-01 00:08:00</td>\n",
       "      <td>527</td>\n",
       "      <td>E 33 St &amp; 2 Ave</td>\n",
       "      <td>40.744023</td>\n",
       "      <td>-73.976056</td>\n",
       "      <td>477</td>\n",
       "      <td>W 41 St &amp; 8 Ave</td>\n",
       "      <td>40.756405</td>\n",
       "      <td>-73.990026</td>\n",
       "      <td>14930</td>\n",
       "      <td>Customer</td>\n",
       "      <td>1979.0</td>\n",
       "      <td>0</td>\n",
       "      <td>0.00</td>\n",
       "      <td>Overcast</td>\n",
       "      <td>23.3</td>\n",
       "      <td>59.0</td>\n",
       "      <td>59.0</td>\n",
       "    </tr>\n",
       "    <tr>\n",
       "      <th>935609</th>\n",
       "      <td>1954</td>\n",
       "      <td>2015-06-30 23:57:00</td>\n",
       "      <td>2015-07-01 00:29:00</td>\n",
       "      <td>386</td>\n",
       "      <td>Centre St &amp; Worth St</td>\n",
       "      <td>40.714948</td>\n",
       "      <td>-74.002345</td>\n",
       "      <td>282</td>\n",
       "      <td>Kent Ave &amp; S 11 St</td>\n",
       "      <td>40.708273</td>\n",
       "      <td>-73.968341</td>\n",
       "      <td>16025</td>\n",
       "      <td>Customer</td>\n",
       "      <td>1979.0</td>\n",
       "      <td>0</td>\n",
       "      <td>0.00</td>\n",
       "      <td>Overcast</td>\n",
       "      <td>23.3</td>\n",
       "      <td>43.0</td>\n",
       "      <td>27.0</td>\n",
       "    </tr>\n",
       "    <tr>\n",
       "      <th>935610</th>\n",
       "      <td>125</td>\n",
       "      <td>2015-06-30 23:57:00</td>\n",
       "      <td>2015-06-30 23:59:00</td>\n",
       "      <td>323</td>\n",
       "      <td>Lawrence St &amp; Willoughby St</td>\n",
       "      <td>40.692362</td>\n",
       "      <td>-73.986317</td>\n",
       "      <td>323</td>\n",
       "      <td>Lawrence St &amp; Willoughby St</td>\n",
       "      <td>40.692362</td>\n",
       "      <td>-73.986317</td>\n",
       "      <td>17785</td>\n",
       "      <td>Subscriber</td>\n",
       "      <td>1989.0</td>\n",
       "      <td>1</td>\n",
       "      <td>0.00</td>\n",
       "      <td>Overcast</td>\n",
       "      <td>23.3</td>\n",
       "      <td>39.0</td>\n",
       "      <td>39.0</td>\n",
       "    </tr>\n",
       "    <tr>\n",
       "      <th>935611</th>\n",
       "      <td>340</td>\n",
       "      <td>2015-06-30 23:57:00</td>\n",
       "      <td>2015-07-01 00:03:00</td>\n",
       "      <td>153</td>\n",
       "      <td>E 40 St &amp; 5 Ave</td>\n",
       "      <td>40.752062</td>\n",
       "      <td>-73.981632</td>\n",
       "      <td>537</td>\n",
       "      <td>Lexington Ave &amp; E 24 St</td>\n",
       "      <td>40.740259</td>\n",
       "      <td>-73.984092</td>\n",
       "      <td>20160</td>\n",
       "      <td>Customer</td>\n",
       "      <td>1979.0</td>\n",
       "      <td>0</td>\n",
       "      <td>0.00</td>\n",
       "      <td>Overcast</td>\n",
       "      <td>23.3</td>\n",
       "      <td>55.0</td>\n",
       "      <td>39.0</td>\n",
       "    </tr>\n",
       "    <tr>\n",
       "      <th>935612</th>\n",
       "      <td>837</td>\n",
       "      <td>2015-06-30 23:57:00</td>\n",
       "      <td>2015-07-01 00:11:00</td>\n",
       "      <td>403</td>\n",
       "      <td>E 2 St &amp; 2 Ave</td>\n",
       "      <td>40.725029</td>\n",
       "      <td>-73.990697</td>\n",
       "      <td>334</td>\n",
       "      <td>W 20 St &amp; 7 Ave</td>\n",
       "      <td>40.742388</td>\n",
       "      <td>-73.997262</td>\n",
       "      <td>20166</td>\n",
       "      <td>Subscriber</td>\n",
       "      <td>1976.0</td>\n",
       "      <td>2</td>\n",
       "      <td>0.00</td>\n",
       "      <td>Overcast</td>\n",
       "      <td>23.3</td>\n",
       "      <td>31.0</td>\n",
       "      <td>31.0</td>\n",
       "    </tr>\n",
       "    <tr>\n",
       "      <th>935613</th>\n",
       "      <td>1908</td>\n",
       "      <td>2015-06-30 23:57:00</td>\n",
       "      <td>2015-07-01 00:29:00</td>\n",
       "      <td>386</td>\n",
       "      <td>Centre St &amp; Worth St</td>\n",
       "      <td>40.714948</td>\n",
       "      <td>-74.002345</td>\n",
       "      <td>282</td>\n",
       "      <td>Kent Ave &amp; S 11 St</td>\n",
       "      <td>40.708273</td>\n",
       "      <td>-73.968341</td>\n",
       "      <td>18024</td>\n",
       "      <td>Subscriber</td>\n",
       "      <td>1990.0</td>\n",
       "      <td>1</td>\n",
       "      <td>0.00</td>\n",
       "      <td>Overcast</td>\n",
       "      <td>23.3</td>\n",
       "      <td>43.0</td>\n",
       "      <td>27.0</td>\n",
       "    </tr>\n",
       "    <tr>\n",
       "      <th>935614</th>\n",
       "      <td>815</td>\n",
       "      <td>2015-06-30 23:57:00</td>\n",
       "      <td>2015-07-01 00:11:00</td>\n",
       "      <td>490</td>\n",
       "      <td>8 Ave &amp; W 33 St</td>\n",
       "      <td>40.751551</td>\n",
       "      <td>-73.993934</td>\n",
       "      <td>513</td>\n",
       "      <td>W 56 St &amp; 10 Ave</td>\n",
       "      <td>40.768254</td>\n",
       "      <td>-73.988639</td>\n",
       "      <td>20178</td>\n",
       "      <td>Subscriber</td>\n",
       "      <td>1984.0</td>\n",
       "      <td>1</td>\n",
       "      <td>0.00</td>\n",
       "      <td>Overcast</td>\n",
       "      <td>23.3</td>\n",
       "      <td>59.0</td>\n",
       "      <td>27.0</td>\n",
       "    </tr>\n",
       "    <tr>\n",
       "      <th>935615</th>\n",
       "      <td>601</td>\n",
       "      <td>2015-06-30 23:57:00</td>\n",
       "      <td>2015-07-01 00:07:00</td>\n",
       "      <td>534</td>\n",
       "      <td>Water - Whitehall Plaza</td>\n",
       "      <td>40.702551</td>\n",
       "      <td>-74.012723</td>\n",
       "      <td>355</td>\n",
       "      <td>Bayard St &amp; Baxter St</td>\n",
       "      <td>40.716021</td>\n",
       "      <td>-73.999744</td>\n",
       "      <td>17011</td>\n",
       "      <td>Customer</td>\n",
       "      <td>1979.0</td>\n",
       "      <td>0</td>\n",
       "      <td>0.00</td>\n",
       "      <td>Overcast</td>\n",
       "      <td>23.3</td>\n",
       "      <td>31.0</td>\n",
       "      <td>43.0</td>\n",
       "    </tr>\n",
       "    <tr>\n",
       "      <th>935616</th>\n",
       "      <td>841</td>\n",
       "      <td>2015-06-30 23:57:00</td>\n",
       "      <td>2015-07-01 00:11:00</td>\n",
       "      <td>251</td>\n",
       "      <td>Mott St &amp; Prince St</td>\n",
       "      <td>40.723180</td>\n",
       "      <td>-73.994800</td>\n",
       "      <td>507</td>\n",
       "      <td>E 25 St &amp; 2 Ave</td>\n",
       "      <td>40.739126</td>\n",
       "      <td>-73.979738</td>\n",
       "      <td>19614</td>\n",
       "      <td>Subscriber</td>\n",
       "      <td>1984.0</td>\n",
       "      <td>2</td>\n",
       "      <td>0.00</td>\n",
       "      <td>Overcast</td>\n",
       "      <td>23.3</td>\n",
       "      <td>27.0</td>\n",
       "      <td>46.0</td>\n",
       "    </tr>\n",
       "    <tr>\n",
       "      <th>935617</th>\n",
       "      <td>408</td>\n",
       "      <td>2015-06-30 23:58:00</td>\n",
       "      <td>2015-07-01 00:04:00</td>\n",
       "      <td>455</td>\n",
       "      <td>1 Ave &amp; E 44 St</td>\n",
       "      <td>40.750020</td>\n",
       "      <td>-73.969053</td>\n",
       "      <td>367</td>\n",
       "      <td>E 53 St &amp; Lexington Ave</td>\n",
       "      <td>40.758281</td>\n",
       "      <td>-73.970694</td>\n",
       "      <td>16093</td>\n",
       "      <td>Subscriber</td>\n",
       "      <td>1963.0</td>\n",
       "      <td>1</td>\n",
       "      <td>0.00</td>\n",
       "      <td>Overcast</td>\n",
       "      <td>23.3</td>\n",
       "      <td>39.0</td>\n",
       "      <td>34.0</td>\n",
       "    </tr>\n",
       "    <tr>\n",
       "      <th>935618</th>\n",
       "      <td>818</td>\n",
       "      <td>2015-06-30 23:58:00</td>\n",
       "      <td>2015-07-01 00:11:00</td>\n",
       "      <td>526</td>\n",
       "      <td>E 33 St &amp; 5 Ave</td>\n",
       "      <td>40.747659</td>\n",
       "      <td>-73.984907</td>\n",
       "      <td>403</td>\n",
       "      <td>E 2 St &amp; 2 Ave</td>\n",
       "      <td>40.725029</td>\n",
       "      <td>-73.990697</td>\n",
       "      <td>19909</td>\n",
       "      <td>Subscriber</td>\n",
       "      <td>1987.0</td>\n",
       "      <td>2</td>\n",
       "      <td>0.00</td>\n",
       "      <td>Overcast</td>\n",
       "      <td>23.3</td>\n",
       "      <td>39.0</td>\n",
       "      <td>31.0</td>\n",
       "    </tr>\n",
       "    <tr>\n",
       "      <th>935619</th>\n",
       "      <td>1911</td>\n",
       "      <td>2015-06-30 23:58:00</td>\n",
       "      <td>2015-07-01 00:30:00</td>\n",
       "      <td>405</td>\n",
       "      <td>Washington St &amp; Gansevoort St</td>\n",
       "      <td>40.739323</td>\n",
       "      <td>-74.008119</td>\n",
       "      <td>405</td>\n",
       "      <td>Washington St &amp; Gansevoort St</td>\n",
       "      <td>40.739323</td>\n",
       "      <td>-74.008119</td>\n",
       "      <td>18609</td>\n",
       "      <td>Customer</td>\n",
       "      <td>1979.0</td>\n",
       "      <td>0</td>\n",
       "      <td>0.00</td>\n",
       "      <td>Overcast</td>\n",
       "      <td>23.3</td>\n",
       "      <td>40.0</td>\n",
       "      <td>40.0</td>\n",
       "    </tr>\n",
       "    <tr>\n",
       "      <th>935620</th>\n",
       "      <td>614</td>\n",
       "      <td>2015-06-30 23:58:00</td>\n",
       "      <td>2015-07-01 00:08:00</td>\n",
       "      <td>348</td>\n",
       "      <td>W Broadway &amp; Spring St</td>\n",
       "      <td>40.724910</td>\n",
       "      <td>-74.001547</td>\n",
       "      <td>254</td>\n",
       "      <td>W 11 St &amp; 6 Ave</td>\n",
       "      <td>40.735324</td>\n",
       "      <td>-73.998004</td>\n",
       "      <td>18242</td>\n",
       "      <td>Subscriber</td>\n",
       "      <td>1955.0</td>\n",
       "      <td>1</td>\n",
       "      <td>0.00</td>\n",
       "      <td>Overcast</td>\n",
       "      <td>23.3</td>\n",
       "      <td>42.0</td>\n",
       "      <td>31.0</td>\n",
       "    </tr>\n",
       "    <tr>\n",
       "      <th>935621</th>\n",
       "      <td>465</td>\n",
       "      <td>2015-06-30 23:58:00</td>\n",
       "      <td>2015-07-01 00:06:00</td>\n",
       "      <td>144</td>\n",
       "      <td>Nassau St &amp; Navy St</td>\n",
       "      <td>40.698399</td>\n",
       "      <td>-73.980689</td>\n",
       "      <td>419</td>\n",
       "      <td>Carlton Ave &amp; Park Ave</td>\n",
       "      <td>40.695807</td>\n",
       "      <td>-73.973556</td>\n",
       "      <td>17835</td>\n",
       "      <td>Subscriber</td>\n",
       "      <td>1991.0</td>\n",
       "      <td>2</td>\n",
       "      <td>0.00</td>\n",
       "      <td>Overcast</td>\n",
       "      <td>23.3</td>\n",
       "      <td>19.0</td>\n",
       "      <td>23.0</td>\n",
       "    </tr>\n",
       "    <tr>\n",
       "      <th>935622</th>\n",
       "      <td>414</td>\n",
       "      <td>2015-06-30 23:58:00</td>\n",
       "      <td>2015-07-01 00:05:00</td>\n",
       "      <td>505</td>\n",
       "      <td>6 Ave &amp; W 33 St</td>\n",
       "      <td>40.749013</td>\n",
       "      <td>-73.988484</td>\n",
       "      <td>517</td>\n",
       "      <td>Pershing Square South</td>\n",
       "      <td>40.751581</td>\n",
       "      <td>-73.977910</td>\n",
       "      <td>20118</td>\n",
       "      <td>Subscriber</td>\n",
       "      <td>1959.0</td>\n",
       "      <td>1</td>\n",
       "      <td>0.00</td>\n",
       "      <td>Overcast</td>\n",
       "      <td>23.3</td>\n",
       "      <td>36.0</td>\n",
       "      <td>59.0</td>\n",
       "    </tr>\n",
       "    <tr>\n",
       "      <th>935623</th>\n",
       "      <td>473</td>\n",
       "      <td>2015-06-30 23:58:00</td>\n",
       "      <td>2015-07-01 00:06:00</td>\n",
       "      <td>380</td>\n",
       "      <td>W 4 St &amp; 7 Ave S</td>\n",
       "      <td>40.734011</td>\n",
       "      <td>-74.002939</td>\n",
       "      <td>248</td>\n",
       "      <td>Laight St &amp; Hudson St</td>\n",
       "      <td>40.721854</td>\n",
       "      <td>-74.007718</td>\n",
       "      <td>14661</td>\n",
       "      <td>Subscriber</td>\n",
       "      <td>1991.0</td>\n",
       "      <td>2</td>\n",
       "      <td>0.00</td>\n",
       "      <td>Overcast</td>\n",
       "      <td>23.3</td>\n",
       "      <td>39.0</td>\n",
       "      <td>23.0</td>\n",
       "    </tr>\n",
       "    <tr>\n",
       "      <th>935624</th>\n",
       "      <td>332</td>\n",
       "      <td>2015-06-30 23:58:00</td>\n",
       "      <td>2015-07-01 00:04:00</td>\n",
       "      <td>237</td>\n",
       "      <td>E 11 St &amp; 2 Ave</td>\n",
       "      <td>40.730473</td>\n",
       "      <td>-73.986724</td>\n",
       "      <td>403</td>\n",
       "      <td>E 2 St &amp; 2 Ave</td>\n",
       "      <td>40.725029</td>\n",
       "      <td>-73.990697</td>\n",
       "      <td>16402</td>\n",
       "      <td>Subscriber</td>\n",
       "      <td>1987.0</td>\n",
       "      <td>1</td>\n",
       "      <td>0.00</td>\n",
       "      <td>Overcast</td>\n",
       "      <td>23.3</td>\n",
       "      <td>39.0</td>\n",
       "      <td>31.0</td>\n",
       "    </tr>\n",
       "    <tr>\n",
       "      <th>935625</th>\n",
       "      <td>451</td>\n",
       "      <td>2015-06-30 23:58:00</td>\n",
       "      <td>2015-07-01 00:06:00</td>\n",
       "      <td>520</td>\n",
       "      <td>W 52 St &amp; 5 Ave</td>\n",
       "      <td>40.759923</td>\n",
       "      <td>-73.976485</td>\n",
       "      <td>290</td>\n",
       "      <td>2 Ave &amp; E 58 St</td>\n",
       "      <td>40.760203</td>\n",
       "      <td>-73.964785</td>\n",
       "      <td>16327</td>\n",
       "      <td>Subscriber</td>\n",
       "      <td>1977.0</td>\n",
       "      <td>1</td>\n",
       "      <td>0.00</td>\n",
       "      <td>Overcast</td>\n",
       "      <td>23.3</td>\n",
       "      <td>39.0</td>\n",
       "      <td>31.0</td>\n",
       "    </tr>\n",
       "    <tr>\n",
       "      <th>935626</th>\n",
       "      <td>1922</td>\n",
       "      <td>2015-06-30 23:58:00</td>\n",
       "      <td>2015-07-01 00:30:00</td>\n",
       "      <td>405</td>\n",
       "      <td>Washington St &amp; Gansevoort St</td>\n",
       "      <td>40.739323</td>\n",
       "      <td>-74.008119</td>\n",
       "      <td>405</td>\n",
       "      <td>Washington St &amp; Gansevoort St</td>\n",
       "      <td>40.739323</td>\n",
       "      <td>-74.008119</td>\n",
       "      <td>14597</td>\n",
       "      <td>Customer</td>\n",
       "      <td>1979.0</td>\n",
       "      <td>0</td>\n",
       "      <td>0.00</td>\n",
       "      <td>Overcast</td>\n",
       "      <td>23.3</td>\n",
       "      <td>40.0</td>\n",
       "      <td>40.0</td>\n",
       "    </tr>\n",
       "    <tr>\n",
       "      <th>935627</th>\n",
       "      <td>168</td>\n",
       "      <td>2015-06-30 23:59:00</td>\n",
       "      <td>2015-07-01 00:02:00</td>\n",
       "      <td>529</td>\n",
       "      <td>W 42 St &amp; 8 Ave</td>\n",
       "      <td>40.757570</td>\n",
       "      <td>-73.990985</td>\n",
       "      <td>478</td>\n",
       "      <td>11 Ave &amp; W 41 St</td>\n",
       "      <td>40.760301</td>\n",
       "      <td>-73.998842</td>\n",
       "      <td>14680</td>\n",
       "      <td>Subscriber</td>\n",
       "      <td>1994.0</td>\n",
       "      <td>2</td>\n",
       "      <td>0.00</td>\n",
       "      <td>Overcast</td>\n",
       "      <td>23.3</td>\n",
       "      <td>41.0</td>\n",
       "      <td>31.0</td>\n",
       "    </tr>\n",
       "    <tr>\n",
       "      <th>935628</th>\n",
       "      <td>1146</td>\n",
       "      <td>2015-06-30 23:59:00</td>\n",
       "      <td>2015-07-01 00:18:00</td>\n",
       "      <td>116</td>\n",
       "      <td>W 17 St &amp; 8 Ave</td>\n",
       "      <td>40.741776</td>\n",
       "      <td>-74.001497</td>\n",
       "      <td>487</td>\n",
       "      <td>E 20 St &amp; FDR Drive</td>\n",
       "      <td>40.733143</td>\n",
       "      <td>-73.975739</td>\n",
       "      <td>18213</td>\n",
       "      <td>Customer</td>\n",
       "      <td>1979.0</td>\n",
       "      <td>0</td>\n",
       "      <td>0.00</td>\n",
       "      <td>Overcast</td>\n",
       "      <td>23.3</td>\n",
       "      <td>39.0</td>\n",
       "      <td>36.0</td>\n",
       "    </tr>\n",
       "    <tr>\n",
       "      <th>935629</th>\n",
       "      <td>170</td>\n",
       "      <td>2015-06-30 23:59:00</td>\n",
       "      <td>2015-07-01 00:02:00</td>\n",
       "      <td>312</td>\n",
       "      <td>Allen St &amp; E Houston St</td>\n",
       "      <td>40.722055</td>\n",
       "      <td>-73.989111</td>\n",
       "      <td>251</td>\n",
       "      <td>Mott St &amp; Prince St</td>\n",
       "      <td>40.723180</td>\n",
       "      <td>-73.994800</td>\n",
       "      <td>16535</td>\n",
       "      <td>Subscriber</td>\n",
       "      <td>1987.0</td>\n",
       "      <td>1</td>\n",
       "      <td>0.00</td>\n",
       "      <td>Overcast</td>\n",
       "      <td>23.3</td>\n",
       "      <td>31.0</td>\n",
       "      <td>27.0</td>\n",
       "    </tr>\n",
       "    <tr>\n",
       "      <th>935630</th>\n",
       "      <td>1053</td>\n",
       "      <td>2015-06-30 23:59:00</td>\n",
       "      <td>2015-07-01 00:17:00</td>\n",
       "      <td>323</td>\n",
       "      <td>Lawrence St &amp; Willoughby St</td>\n",
       "      <td>40.692362</td>\n",
       "      <td>-73.986317</td>\n",
       "      <td>436</td>\n",
       "      <td>Hancock St &amp; Bedford Ave</td>\n",
       "      <td>40.682166</td>\n",
       "      <td>-73.953990</td>\n",
       "      <td>17785</td>\n",
       "      <td>Subscriber</td>\n",
       "      <td>1989.0</td>\n",
       "      <td>1</td>\n",
       "      <td>0.00</td>\n",
       "      <td>Overcast</td>\n",
       "      <td>23.3</td>\n",
       "      <td>39.0</td>\n",
       "      <td>27.0</td>\n",
       "    </tr>\n",
       "    <tr>\n",
       "      <th>935631</th>\n",
       "      <td>1149</td>\n",
       "      <td>2015-06-30 23:59:00</td>\n",
       "      <td>2015-07-01 00:18:00</td>\n",
       "      <td>116</td>\n",
       "      <td>W 17 St &amp; 8 Ave</td>\n",
       "      <td>40.741776</td>\n",
       "      <td>-74.001497</td>\n",
       "      <td>487</td>\n",
       "      <td>E 20 St &amp; FDR Drive</td>\n",
       "      <td>40.733143</td>\n",
       "      <td>-73.975739</td>\n",
       "      <td>21612</td>\n",
       "      <td>Customer</td>\n",
       "      <td>1979.0</td>\n",
       "      <td>0</td>\n",
       "      <td>0.00</td>\n",
       "      <td>Overcast</td>\n",
       "      <td>23.3</td>\n",
       "      <td>39.0</td>\n",
       "      <td>36.0</td>\n",
       "    </tr>\n",
       "    <tr>\n",
       "      <th>935632</th>\n",
       "      <td>3557</td>\n",
       "      <td>2015-06-30 23:59:00</td>\n",
       "      <td>2015-07-01 00:58:00</td>\n",
       "      <td>454</td>\n",
       "      <td>E 51 St &amp; 1 Ave</td>\n",
       "      <td>40.754557</td>\n",
       "      <td>-73.965930</td>\n",
       "      <td>418</td>\n",
       "      <td>Front St &amp; Gold St</td>\n",
       "      <td>40.702240</td>\n",
       "      <td>-73.982578</td>\n",
       "      <td>19976</td>\n",
       "      <td>Customer</td>\n",
       "      <td>1979.0</td>\n",
       "      <td>0</td>\n",
       "      <td>0.00</td>\n",
       "      <td>Overcast</td>\n",
       "      <td>23.3</td>\n",
       "      <td>35.0</td>\n",
       "      <td>23.0</td>\n",
       "    </tr>\n",
       "    <tr>\n",
       "      <th>935633</th>\n",
       "      <td>819</td>\n",
       "      <td>2015-06-30 23:59:00</td>\n",
       "      <td>2015-07-01 00:13:00</td>\n",
       "      <td>410</td>\n",
       "      <td>Suffolk St &amp; Stanton St</td>\n",
       "      <td>40.720664</td>\n",
       "      <td>-73.985180</td>\n",
       "      <td>345</td>\n",
       "      <td>W 13 St &amp; 6 Ave</td>\n",
       "      <td>40.736494</td>\n",
       "      <td>-73.997044</td>\n",
       "      <td>15932</td>\n",
       "      <td>Subscriber</td>\n",
       "      <td>1976.0</td>\n",
       "      <td>1</td>\n",
       "      <td>0.00</td>\n",
       "      <td>Overcast</td>\n",
       "      <td>23.3</td>\n",
       "      <td>35.0</td>\n",
       "      <td>35.0</td>\n",
       "    </tr>\n",
       "    <tr>\n",
       "      <th>935634</th>\n",
       "      <td>667</td>\n",
       "      <td>2015-06-30 23:59:00</td>\n",
       "      <td>2015-07-01 00:10:00</td>\n",
       "      <td>308</td>\n",
       "      <td>St James Pl &amp; Oliver St</td>\n",
       "      <td>40.713079</td>\n",
       "      <td>-73.998512</td>\n",
       "      <td>2008</td>\n",
       "      <td>Little West St &amp; 1 Pl</td>\n",
       "      <td>40.705693</td>\n",
       "      <td>-74.016777</td>\n",
       "      <td>16915</td>\n",
       "      <td>Subscriber</td>\n",
       "      <td>1982.0</td>\n",
       "      <td>1</td>\n",
       "      <td>0.00</td>\n",
       "      <td>Overcast</td>\n",
       "      <td>23.3</td>\n",
       "      <td>27.0</td>\n",
       "      <td>24.0</td>\n",
       "    </tr>\n",
       "  </tbody>\n",
       "</table>\n",
       "<p>935635 rows × 20 columns</p>\n",
       "</div>"
      ],
      "text/plain": [
       "        tripduration           starttime            stoptime  \\\n",
       "0               1338 2015-06-01 00:00:00 2015-06-01 00:22:00   \n",
       "1                290 2015-06-01 00:00:00 2015-06-01 00:05:00   \n",
       "2                634 2015-06-01 00:01:00 2015-06-01 00:11:00   \n",
       "3                159 2015-06-01 00:01:00 2015-06-01 00:04:00   \n",
       "4               1233 2015-06-01 00:02:00 2015-06-01 00:22:00   \n",
       "5                690 2015-06-01 00:03:00 2015-06-01 00:15:00   \n",
       "6                766 2015-06-01 00:04:00 2015-06-01 00:17:00   \n",
       "7               1160 2015-06-01 00:06:00 2015-06-01 00:25:00   \n",
       "8                550 2015-06-01 00:07:00 2015-06-01 00:16:00   \n",
       "9                545 2015-06-01 00:08:00 2015-06-01 00:17:00   \n",
       "10               752 2015-06-01 00:08:00 2015-06-01 00:21:00   \n",
       "11              1743 2015-06-01 00:08:00 2015-06-01 00:37:00   \n",
       "12               964 2015-06-01 00:10:00 2015-06-01 00:27:00   \n",
       "13               207 2015-06-01 00:11:00 2015-06-01 00:14:00   \n",
       "14               511 2015-06-01 00:13:00 2015-06-01 00:21:00   \n",
       "15               635 2015-06-01 00:13:00 2015-06-01 00:24:00   \n",
       "16               131 2015-06-01 00:13:00 2015-06-01 00:16:00   \n",
       "17               338 2015-06-01 00:14:00 2015-06-01 00:19:00   \n",
       "18               923 2015-06-01 00:14:00 2015-06-01 00:29:00   \n",
       "19               741 2015-06-01 00:14:00 2015-06-01 00:27:00   \n",
       "20               297 2015-06-01 00:15:00 2015-06-01 00:20:00   \n",
       "21               430 2015-06-01 00:15:00 2015-06-01 00:22:00   \n",
       "22              1061 2015-06-01 00:16:00 2015-06-01 00:34:00   \n",
       "23               643 2015-06-01 00:19:00 2015-06-01 00:30:00   \n",
       "24               158 2015-06-01 00:22:00 2015-06-01 00:24:00   \n",
       "25               160 2015-06-01 00:22:00 2015-06-01 00:25:00   \n",
       "26              1108 2015-06-01 00:23:00 2015-06-01 00:41:00   \n",
       "27               845 2015-06-01 00:24:00 2015-06-01 00:38:00   \n",
       "28               299 2015-06-01 00:24:00 2015-06-01 00:29:00   \n",
       "29               363 2015-06-01 00:25:00 2015-06-01 00:31:00   \n",
       "...              ...                 ...                 ...   \n",
       "935605          1887 2015-06-30 23:56:00 2015-07-01 00:27:00   \n",
       "935606           376 2015-06-30 23:56:00 2015-07-01 00:02:00   \n",
       "935607           379 2015-06-30 23:56:00 2015-07-01 00:03:00   \n",
       "935608           710 2015-06-30 23:56:00 2015-07-01 00:08:00   \n",
       "935609          1954 2015-06-30 23:57:00 2015-07-01 00:29:00   \n",
       "935610           125 2015-06-30 23:57:00 2015-06-30 23:59:00   \n",
       "935611           340 2015-06-30 23:57:00 2015-07-01 00:03:00   \n",
       "935612           837 2015-06-30 23:57:00 2015-07-01 00:11:00   \n",
       "935613          1908 2015-06-30 23:57:00 2015-07-01 00:29:00   \n",
       "935614           815 2015-06-30 23:57:00 2015-07-01 00:11:00   \n",
       "935615           601 2015-06-30 23:57:00 2015-07-01 00:07:00   \n",
       "935616           841 2015-06-30 23:57:00 2015-07-01 00:11:00   \n",
       "935617           408 2015-06-30 23:58:00 2015-07-01 00:04:00   \n",
       "935618           818 2015-06-30 23:58:00 2015-07-01 00:11:00   \n",
       "935619          1911 2015-06-30 23:58:00 2015-07-01 00:30:00   \n",
       "935620           614 2015-06-30 23:58:00 2015-07-01 00:08:00   \n",
       "935621           465 2015-06-30 23:58:00 2015-07-01 00:06:00   \n",
       "935622           414 2015-06-30 23:58:00 2015-07-01 00:05:00   \n",
       "935623           473 2015-06-30 23:58:00 2015-07-01 00:06:00   \n",
       "935624           332 2015-06-30 23:58:00 2015-07-01 00:04:00   \n",
       "935625           451 2015-06-30 23:58:00 2015-07-01 00:06:00   \n",
       "935626          1922 2015-06-30 23:58:00 2015-07-01 00:30:00   \n",
       "935627           168 2015-06-30 23:59:00 2015-07-01 00:02:00   \n",
       "935628          1146 2015-06-30 23:59:00 2015-07-01 00:18:00   \n",
       "935629           170 2015-06-30 23:59:00 2015-07-01 00:02:00   \n",
       "935630          1053 2015-06-30 23:59:00 2015-07-01 00:17:00   \n",
       "935631          1149 2015-06-30 23:59:00 2015-07-01 00:18:00   \n",
       "935632          3557 2015-06-30 23:59:00 2015-07-01 00:58:00   \n",
       "935633           819 2015-06-30 23:59:00 2015-07-01 00:13:00   \n",
       "935634           667 2015-06-30 23:59:00 2015-07-01 00:10:00   \n",
       "\n",
       "        start station id             start station name  \\\n",
       "0                    128       MacDougal St & Prince St   \n",
       "1                    438            St Marks Pl & 1 Ave   \n",
       "2                    383     Greenwich Ave & Charles St   \n",
       "3                    361           Allen St & Hester St   \n",
       "4                    382        University Pl & E 14 St   \n",
       "5                    284          Greenwich Ave & 8 Ave   \n",
       "6                    346            Bank St & Hudson St   \n",
       "7                    512                W 29 St & 9 Ave   \n",
       "8                    525               W 34 St & 11 Ave   \n",
       "9                    403                 E 2 St & 2 Ave   \n",
       "10                   441                E 52 St & 2 Ave   \n",
       "11                   329      Greenwich St & N Moore St   \n",
       "12                   505                6 Ave & W 33 St   \n",
       "13                   294            Washington Square E   \n",
       "14                   257        Lispenard St & Broadway   \n",
       "15                   480               W 53 St & 10 Ave   \n",
       "16                   307          Canal St & Rutgers St   \n",
       "17                   224          Spruce St & Nassau St   \n",
       "18                   485                W 37 St & 5 Ave   \n",
       "19                   309            Murray St & West St   \n",
       "20                   350          Clinton St & Grand St   \n",
       "21                   388               W 26 St & 10 Ave   \n",
       "22                   316         Fulton St & William St   \n",
       "23                   439                 E 4 St & 2 Ave   \n",
       "24                   153                E 40 St & 5 Ave   \n",
       "25                   368             Carmine St & 6 Ave   \n",
       "26                   404                9 Ave & W 14 St   \n",
       "27                   432              E 7 St & Avenue A   \n",
       "28                   405  Washington St & Gansevoort St   \n",
       "29                   489               10 Ave & W 28 St   \n",
       "...                  ...                            ...   \n",
       "935605               259        South St & Whitehall St   \n",
       "935606               293          Lafayette St & E 8 St   \n",
       "935607               432              E 7 St & Avenue A   \n",
       "935608               527                E 33 St & 2 Ave   \n",
       "935609               386           Centre St & Worth St   \n",
       "935610               323    Lawrence St & Willoughby St   \n",
       "935611               153                E 40 St & 5 Ave   \n",
       "935612               403                 E 2 St & 2 Ave   \n",
       "935613               386           Centre St & Worth St   \n",
       "935614               490                8 Ave & W 33 St   \n",
       "935615               534        Water - Whitehall Plaza   \n",
       "935616               251            Mott St & Prince St   \n",
       "935617               455                1 Ave & E 44 St   \n",
       "935618               526                E 33 St & 5 Ave   \n",
       "935619               405  Washington St & Gansevoort St   \n",
       "935620               348         W Broadway & Spring St   \n",
       "935621               144            Nassau St & Navy St   \n",
       "935622               505                6 Ave & W 33 St   \n",
       "935623               380               W 4 St & 7 Ave S   \n",
       "935624               237                E 11 St & 2 Ave   \n",
       "935625               520                W 52 St & 5 Ave   \n",
       "935626               405  Washington St & Gansevoort St   \n",
       "935627               529                W 42 St & 8 Ave   \n",
       "935628               116                W 17 St & 8 Ave   \n",
       "935629               312        Allen St & E Houston St   \n",
       "935630               323    Lawrence St & Willoughby St   \n",
       "935631               116                W 17 St & 8 Ave   \n",
       "935632               454                E 51 St & 1 Ave   \n",
       "935633               410        Suffolk St & Stanton St   \n",
       "935634               308        St James Pl & Oliver St   \n",
       "\n",
       "        start station latitude  start station longitude  end station id  \\\n",
       "0                    40.727103               -74.002971            2021   \n",
       "1                    40.727791               -73.985649             312   \n",
       "2                    40.735238               -74.000271             388   \n",
       "3                    40.716059               -73.991908             531   \n",
       "4                    40.734927               -73.992005             532   \n",
       "5                    40.739017               -74.002638             410   \n",
       "6                    40.736529               -74.006180            2003   \n",
       "7                    40.750073               -73.998393             445   \n",
       "8                    40.755942               -74.002116             447   \n",
       "9                    40.725029               -73.990697             439   \n",
       "10                   40.756014               -73.967416             492   \n",
       "11                   40.720434               -74.010206             147   \n",
       "12                   40.749013               -73.988484             377   \n",
       "13                   40.730494               -73.995721             439   \n",
       "14                   40.719392               -74.002472             408   \n",
       "15                   40.766697               -73.990617             490   \n",
       "16                   40.714275               -73.989900             350   \n",
       "17                   40.711464               -74.005524             257   \n",
       "18                   40.750380               -73.983390             174   \n",
       "19                   40.714979               -74.013012             296   \n",
       "20                   40.715595               -73.987030             428   \n",
       "21                   40.749718               -74.002950             383   \n",
       "22                   40.709560               -74.006536             313   \n",
       "23                   40.726281               -73.989780             263   \n",
       "24                   40.752062               -73.981632             160   \n",
       "25                   40.730386               -74.002150             358   \n",
       "26                   40.740583               -74.005509             428   \n",
       "27                   40.726218               -73.983799             472   \n",
       "28                   40.739323               -74.008119             462   \n",
       "29                   40.750664               -74.001768             488   \n",
       "...                        ...                      ...             ...   \n",
       "935605               40.701221               -74.012342             504   \n",
       "935606               40.730287               -73.990765             491   \n",
       "935607               40.726218               -73.983799             252   \n",
       "935608               40.744023               -73.976056             477   \n",
       "935609               40.714948               -74.002345             282   \n",
       "935610               40.692362               -73.986317             323   \n",
       "935611               40.752062               -73.981632             537   \n",
       "935612               40.725029               -73.990697             334   \n",
       "935613               40.714948               -74.002345             282   \n",
       "935614               40.751551               -73.993934             513   \n",
       "935615               40.702551               -74.012723             355   \n",
       "935616               40.723180               -73.994800             507   \n",
       "935617               40.750020               -73.969053             367   \n",
       "935618               40.747659               -73.984907             403   \n",
       "935619               40.739323               -74.008119             405   \n",
       "935620               40.724910               -74.001547             254   \n",
       "935621               40.698399               -73.980689             419   \n",
       "935622               40.749013               -73.988484             517   \n",
       "935623               40.734011               -74.002939             248   \n",
       "935624               40.730473               -73.986724             403   \n",
       "935625               40.759923               -73.976485             290   \n",
       "935626               40.739323               -74.008119             405   \n",
       "935627               40.757570               -73.990985             478   \n",
       "935628               40.741776               -74.001497             487   \n",
       "935629               40.722055               -73.989111             251   \n",
       "935630               40.692362               -73.986317             436   \n",
       "935631               40.741776               -74.001497             487   \n",
       "935632               40.754557               -73.965930             418   \n",
       "935633               40.720664               -73.985180             345   \n",
       "935634               40.713079               -73.998512            2008   \n",
       "\n",
       "                     end station name  end station latitude  \\\n",
       "0                     W 45 St & 8 Ave             40.759291   \n",
       "1             Allen St & E Houston St             40.722055   \n",
       "2                    W 26 St & 10 Ave             40.749718   \n",
       "3              Forsyth St & Broome St             40.718939   \n",
       "4                     S 5 Pl & S 4 St             40.710451   \n",
       "5             Suffolk St & Stanton St             40.720664   \n",
       "6                     1 Ave & E 18 St             40.733812   \n",
       "7                  E 10 St & Avenue A             40.727408   \n",
       "8                     8 Ave & W 52 St             40.763707   \n",
       "9                      E 4 St & 2 Ave             40.726281   \n",
       "10                    W 33 St & 7 Ave             40.750200   \n",
       "11           Greenwich St & Warren St             40.715422   \n",
       "12                   6 Ave & Canal St             40.722438   \n",
       "13                     E 4 St & 2 Ave             40.726281   \n",
       "14              Market St & Cherry St             40.710762   \n",
       "15                    8 Ave & W 33 St             40.751551   \n",
       "16              Clinton St & Grand St             40.715595   \n",
       "17            Lispenard St & Broadway             40.719392   \n",
       "18                    E 25 St & 1 Ave             40.738177   \n",
       "19               Division St & Bowery             40.714131   \n",
       "20                     E 3 St & 1 Ave             40.724677   \n",
       "21         Greenwich Ave & Charles St             40.735238   \n",
       "22          Washington Ave & Park Ave             40.696102   \n",
       "23           Elizabeth St & Hester St             40.717290   \n",
       "24            E 37 St & Lexington Ave             40.748238   \n",
       "25      Christopher St & Greenwich St             40.732916   \n",
       "26                     E 3 St & 1 Ave             40.724677   \n",
       "27                 E 32 St & Park Ave             40.745712   \n",
       "28                   W 22 St & 10 Ave             40.746920   \n",
       "29                    W 39 St & 9 Ave             40.756458   \n",
       "...                               ...                   ...   \n",
       "935605                1 Ave & E 15 St             40.732219   \n",
       "935606           E 24 St & Park Ave S             40.740964   \n",
       "935607   MacDougal St & Washington Sq             40.732264   \n",
       "935608                W 41 St & 8 Ave             40.756405   \n",
       "935609             Kent Ave & S 11 St             40.708273   \n",
       "935610    Lawrence St & Willoughby St             40.692362   \n",
       "935611        Lexington Ave & E 24 St             40.740259   \n",
       "935612                W 20 St & 7 Ave             40.742388   \n",
       "935613             Kent Ave & S 11 St             40.708273   \n",
       "935614               W 56 St & 10 Ave             40.768254   \n",
       "935615          Bayard St & Baxter St             40.716021   \n",
       "935616                E 25 St & 2 Ave             40.739126   \n",
       "935617        E 53 St & Lexington Ave             40.758281   \n",
       "935618                 E 2 St & 2 Ave             40.725029   \n",
       "935619  Washington St & Gansevoort St             40.739323   \n",
       "935620                W 11 St & 6 Ave             40.735324   \n",
       "935621         Carlton Ave & Park Ave             40.695807   \n",
       "935622          Pershing Square South             40.751581   \n",
       "935623          Laight St & Hudson St             40.721854   \n",
       "935624                 E 2 St & 2 Ave             40.725029   \n",
       "935625                2 Ave & E 58 St             40.760203   \n",
       "935626  Washington St & Gansevoort St             40.739323   \n",
       "935627               11 Ave & W 41 St             40.760301   \n",
       "935628            E 20 St & FDR Drive             40.733143   \n",
       "935629            Mott St & Prince St             40.723180   \n",
       "935630       Hancock St & Bedford Ave             40.682166   \n",
       "935631            E 20 St & FDR Drive             40.733143   \n",
       "935632             Front St & Gold St             40.702240   \n",
       "935633                W 13 St & 6 Ave             40.736494   \n",
       "935634          Little West St & 1 Pl             40.705693   \n",
       "\n",
       "        end station longitude  bikeid    usertype  birth year  gender  \\\n",
       "0                  -73.988597   20721  Subscriber      1984.0       1   \n",
       "1                  -73.989111   21606  Subscriber      1997.0       1   \n",
       "2                  -74.002950   16595  Subscriber      1993.0       1   \n",
       "3                  -73.992663   16949  Subscriber      1981.0       1   \n",
       "4                  -73.960876   17028    Customer      1979.0       0   \n",
       "5                  -73.985180   20857  Subscriber      1976.0       1   \n",
       "6                  -73.980544   15978  Subscriber      1976.0       1   \n",
       "7                  -73.981420   17306  Subscriber      1962.0       2   \n",
       "8                  -73.985162   18392  Subscriber      1973.0       1   \n",
       "9                  -73.989780   16300  Subscriber      1958.0       1   \n",
       "10                 -73.990931   16874  Subscriber      1964.0       1   \n",
       "11                 -74.011220   14726  Subscriber      1982.0       2   \n",
       "12                 -74.005664   18699  Subscriber      1985.0       2   \n",
       "13                 -73.989780   17390  Subscriber      1989.0       1   \n",
       "14                 -73.994004   14777  Subscriber      1983.0       2   \n",
       "15                 -73.993934   15170  Subscriber      1976.0       1   \n",
       "16                 -73.987030   15984  Subscriber      1985.0       1   \n",
       "17                 -74.002472   19240  Subscriber      1955.0       1   \n",
       "18                 -73.977387   14911  Subscriber      1977.0       1   \n",
       "19                 -73.997047   17702  Subscriber      1984.0       1   \n",
       "20                 -73.987834   20216  Subscriber      1971.0       1   \n",
       "21                 -74.000271   16595  Subscriber      1993.0       1   \n",
       "22                 -73.967510   18745  Subscriber      1990.0       1   \n",
       "23                 -73.996375   16003  Subscriber      1972.0       1   \n",
       "24                 -73.978311   21629  Subscriber      1986.0       1   \n",
       "25                 -74.007114   20136    Customer      1979.0       0   \n",
       "26                 -73.987834   15676  Subscriber      1989.0       1   \n",
       "27                 -73.981948   14686  Subscriber      1983.0       1   \n",
       "28                 -74.004519   14937  Subscriber      1989.0       1   \n",
       "29                 -73.993722   19780  Subscriber      1986.0       1   \n",
       "...                       ...     ...         ...         ...     ...   \n",
       "935605             -73.981656   17578  Subscriber      1977.0       2   \n",
       "935606             -73.986022   21118  Subscriber      1990.0       2   \n",
       "935607             -73.998522   17315  Subscriber      1988.0       1   \n",
       "935608             -73.990026   14930    Customer      1979.0       0   \n",
       "935609             -73.968341   16025    Customer      1979.0       0   \n",
       "935610             -73.986317   17785  Subscriber      1989.0       1   \n",
       "935611             -73.984092   20160    Customer      1979.0       0   \n",
       "935612             -73.997262   20166  Subscriber      1976.0       2   \n",
       "935613             -73.968341   18024  Subscriber      1990.0       1   \n",
       "935614             -73.988639   20178  Subscriber      1984.0       1   \n",
       "935615             -73.999744   17011    Customer      1979.0       0   \n",
       "935616             -73.979738   19614  Subscriber      1984.0       2   \n",
       "935617             -73.970694   16093  Subscriber      1963.0       1   \n",
       "935618             -73.990697   19909  Subscriber      1987.0       2   \n",
       "935619             -74.008119   18609    Customer      1979.0       0   \n",
       "935620             -73.998004   18242  Subscriber      1955.0       1   \n",
       "935621             -73.973556   17835  Subscriber      1991.0       2   \n",
       "935622             -73.977910   20118  Subscriber      1959.0       1   \n",
       "935623             -74.007718   14661  Subscriber      1991.0       2   \n",
       "935624             -73.990697   16402  Subscriber      1987.0       1   \n",
       "935625             -73.964785   16327  Subscriber      1977.0       1   \n",
       "935626             -74.008119   14597    Customer      1979.0       0   \n",
       "935627             -73.998842   14680  Subscriber      1994.0       2   \n",
       "935628             -73.975739   18213    Customer      1979.0       0   \n",
       "935629             -73.994800   16535  Subscriber      1987.0       1   \n",
       "935630             -73.953990   17785  Subscriber      1989.0       1   \n",
       "935631             -73.975739   21612    Customer      1979.0       0   \n",
       "935632             -73.982578   19976    Customer      1979.0       0   \n",
       "935633             -73.997044   15932  Subscriber      1976.0       1   \n",
       "935634             -74.016777   16915  Subscriber      1982.0       1   \n",
       "\n",
       "        Precipitationmm Conditions  TemperatureC  total_docks_start  \\\n",
       "0                  0.07   Overcast          15.0               30.0   \n",
       "1                  0.07   Overcast          15.0               27.0   \n",
       "2                  0.07   Overcast          15.0               39.0   \n",
       "3                  0.07   Overcast          15.0               43.0   \n",
       "4                  0.07   Overcast          15.0               36.0   \n",
       "5                  0.07   Overcast          15.0               43.0   \n",
       "6                  0.07   Overcast          15.0               27.0   \n",
       "7                  0.07   Overcast          15.0               27.0   \n",
       "8                  0.07   Overcast          15.0               39.0   \n",
       "9                  0.07   Overcast          15.0               31.0   \n",
       "10                 0.07   Overcast          15.0               35.0   \n",
       "11                 0.07   Overcast          15.0               31.0   \n",
       "12                 0.07   Overcast          15.0               36.0   \n",
       "13                 0.07   Overcast          15.0               31.0   \n",
       "14                 0.07   Overcast          15.0               39.0   \n",
       "15                 0.07   Overcast          15.0               27.0   \n",
       "16                 0.07   Overcast          15.0               29.0   \n",
       "17                 0.07   Overcast          15.0               31.0   \n",
       "18                 0.07   Overcast          15.0               39.0   \n",
       "19                 0.07   Overcast          15.0               41.0   \n",
       "20                 0.07   Overcast          15.0               28.0   \n",
       "21                 0.07   Overcast          15.0               35.0   \n",
       "22                 0.07   Overcast          15.0               43.0   \n",
       "23                 0.07   Overcast          15.0               39.0   \n",
       "24                 0.07   Overcast          15.0               55.0   \n",
       "25                 0.07   Overcast          15.0               39.0   \n",
       "26                 0.07   Overcast          15.0               31.0   \n",
       "27                 0.07   Overcast          15.0               31.0   \n",
       "28                 0.07   Overcast          15.0               40.0   \n",
       "29                 0.07   Overcast          15.0               37.0   \n",
       "...                 ...        ...           ...                ...   \n",
       "935605             0.00   Overcast          23.3               39.0   \n",
       "935606             0.00   Overcast          23.3               55.0   \n",
       "935607             0.00   Overcast          23.3               31.0   \n",
       "935608             0.00   Overcast          23.3               59.0   \n",
       "935609             0.00   Overcast          23.3               43.0   \n",
       "935610             0.00   Overcast          23.3               39.0   \n",
       "935611             0.00   Overcast          23.3               55.0   \n",
       "935612             0.00   Overcast          23.3               31.0   \n",
       "935613             0.00   Overcast          23.3               43.0   \n",
       "935614             0.00   Overcast          23.3               59.0   \n",
       "935615             0.00   Overcast          23.3               31.0   \n",
       "935616             0.00   Overcast          23.3               27.0   \n",
       "935617             0.00   Overcast          23.3               39.0   \n",
       "935618             0.00   Overcast          23.3               39.0   \n",
       "935619             0.00   Overcast          23.3               40.0   \n",
       "935620             0.00   Overcast          23.3               42.0   \n",
       "935621             0.00   Overcast          23.3               19.0   \n",
       "935622             0.00   Overcast          23.3               36.0   \n",
       "935623             0.00   Overcast          23.3               39.0   \n",
       "935624             0.00   Overcast          23.3               39.0   \n",
       "935625             0.00   Overcast          23.3               39.0   \n",
       "935626             0.00   Overcast          23.3               40.0   \n",
       "935627             0.00   Overcast          23.3               41.0   \n",
       "935628             0.00   Overcast          23.3               39.0   \n",
       "935629             0.00   Overcast          23.3               31.0   \n",
       "935630             0.00   Overcast          23.3               39.0   \n",
       "935631             0.00   Overcast          23.3               39.0   \n",
       "935632             0.00   Overcast          23.3               35.0   \n",
       "935633             0.00   Overcast          23.3               35.0   \n",
       "935634             0.00   Overcast          23.3               27.0   \n",
       "\n",
       "        total_docks_end  \n",
       "0                  43.0  \n",
       "1                  31.0  \n",
       "2                  35.0  \n",
       "3                  39.0  \n",
       "4                  43.0  \n",
       "5                  35.0  \n",
       "6                  39.0  \n",
       "7                  42.0  \n",
       "8                  31.0  \n",
       "9                  39.0  \n",
       "10                 49.0  \n",
       "11                 33.0  \n",
       "12                 47.0  \n",
       "13                 39.0  \n",
       "14                 23.0  \n",
       "15                 59.0  \n",
       "16                 28.0  \n",
       "17                 39.0  \n",
       "18                 30.0  \n",
       "19                 35.0  \n",
       "20                 31.0  \n",
       "21                 39.0  \n",
       "22                 23.0  \n",
       "23                 31.0  \n",
       "24                 26.0  \n",
       "25                 36.0  \n",
       "26                 31.0  \n",
       "27                 41.0  \n",
       "28                 47.0  \n",
       "29                 41.0  \n",
       "...                 ...  \n",
       "935605             45.0  \n",
       "935606             53.0  \n",
       "935607             33.0  \n",
       "935608             59.0  \n",
       "935609             27.0  \n",
       "935610             39.0  \n",
       "935611             39.0  \n",
       "935612             31.0  \n",
       "935613             27.0  \n",
       "935614             27.0  \n",
       "935615             43.0  \n",
       "935616             46.0  \n",
       "935617             34.0  \n",
       "935618             31.0  \n",
       "935619             40.0  \n",
       "935620             31.0  \n",
       "935621             23.0  \n",
       "935622             59.0  \n",
       "935623             23.0  \n",
       "935624             31.0  \n",
       "935625             31.0  \n",
       "935626             40.0  \n",
       "935627             31.0  \n",
       "935628             36.0  \n",
       "935629             27.0  \n",
       "935630             27.0  \n",
       "935631             36.0  \n",
       "935632             23.0  \n",
       "935633             35.0  \n",
       "935634             24.0  \n",
       "\n",
       "[935635 rows x 20 columns]"
      ]
     },
     "execution_count": 8,
     "metadata": {},
     "output_type": "execute_result"
    }
   ],
   "source": [
    "data"
   ]
  },
  {
   "cell_type": "markdown",
   "metadata": {},
   "source": [
    "### <font color='red'>1.3) Run the following block with different day indexes, so you can see what <i>calendar.day_name[index_day]</i> returns </font>"
   ]
  },
  {
   "cell_type": "code",
   "execution_count": 10,
   "metadata": {
    "collapsed": false
   },
   "outputs": [
    {
     "name": "stdout",
     "output_type": "stream",
     "text": [
      "Monday\n"
     ]
    }
   ],
   "source": [
    "index_day = 0\n",
    "print calendar.day_name[index_day]"
   ]
  },
  {
   "cell_type": "markdown",
   "metadata": {},
   "source": [
    "### <font color='red'>1.4) Run the following block so you get the day index of a given observation, as well as its week-day using <i>calendar</i></font>"
   ]
  },
  {
   "cell_type": "code",
   "execution_count": 11,
   "metadata": {
    "collapsed": false
   },
   "outputs": [
    {
     "name": "stdout",
     "output_type": "stream",
     "text": [
      "0\n",
      "Monday\n"
     ]
    }
   ],
   "source": [
    "example_observation = data.iloc[0] \n",
    "print example_observation.starttime.weekday()\n",
    "print calendar.day_name[example_observation.starttime.weekday()]"
   ]
  },
  {
   "cell_type": "markdown",
   "metadata": {},
   "source": [
    "### <font color='red'>1.5) Create a column in the dataframe, containing the day of the week of a given trip. You can use the following functions:</font>\n",
    "- pd.column_name.apply()\n",
    "- calendar.day_name[day_number_here] (notice the brackets)\n",
    "- datetime.weekday()\n",
    "\n",
    "<font color='green'> <b>Any function can be passed to pd.column_name.apply(name_of_your_function), for instance you could use the <i>lambda functions</i></b>:\n",
    "- new_column = pd.column_name.apply(lambda x: x.attribute_of_x) will create a new column, based on the attributes of elements of the old column.<font color='green'>"
   ]
  },
  {
   "cell_type": "code",
   "execution_count": 19,
   "metadata": {
    "collapsed": false
   },
   "outputs": [],
   "source": [
    "data['start_day'] = data.starttime.apply(lambda x: calendar.day_name[x.weekday()])"
   ]
  },
  {
   "cell_type": "markdown",
   "metadata": {},
   "source": [
    "### <font color='red'>1.6) Print samples of data to make sure the column has been created successfully </font>"
   ]
  },
  {
   "cell_type": "code",
   "execution_count": 20,
   "metadata": {
    "collapsed": false
   },
   "outputs": [
    {
     "data": {
      "text/html": [
       "<div>\n",
       "<table border=\"1\" class=\"dataframe\">\n",
       "  <thead>\n",
       "    <tr style=\"text-align: right;\">\n",
       "      <th></th>\n",
       "      <th>tripduration</th>\n",
       "      <th>starttime</th>\n",
       "      <th>stoptime</th>\n",
       "      <th>start station id</th>\n",
       "      <th>start station name</th>\n",
       "      <th>start station latitude</th>\n",
       "      <th>start station longitude</th>\n",
       "      <th>end station id</th>\n",
       "      <th>end station name</th>\n",
       "      <th>end station latitude</th>\n",
       "      <th>...</th>\n",
       "      <th>bikeid</th>\n",
       "      <th>usertype</th>\n",
       "      <th>birth year</th>\n",
       "      <th>gender</th>\n",
       "      <th>Precipitationmm</th>\n",
       "      <th>Conditions</th>\n",
       "      <th>TemperatureC</th>\n",
       "      <th>total_docks_start</th>\n",
       "      <th>total_docks_end</th>\n",
       "      <th>start_day</th>\n",
       "    </tr>\n",
       "  </thead>\n",
       "  <tbody>\n",
       "    <tr>\n",
       "      <th>344165</th>\n",
       "      <td>1451</td>\n",
       "      <td>2015-06-12 14:46:00</td>\n",
       "      <td>2015-06-12 15:10:00</td>\n",
       "      <td>195</td>\n",
       "      <td>Liberty St &amp; Broadway</td>\n",
       "      <td>40.709056</td>\n",
       "      <td>-74.010434</td>\n",
       "      <td>285</td>\n",
       "      <td>Broadway &amp; E 14 St</td>\n",
       "      <td>40.734546</td>\n",
       "      <td>...</td>\n",
       "      <td>20379</td>\n",
       "      <td>Subscriber</td>\n",
       "      <td>1984.0</td>\n",
       "      <td>2</td>\n",
       "      <td>0.0</td>\n",
       "      <td>Haze</td>\n",
       "      <td>30.0</td>\n",
       "      <td>45.0</td>\n",
       "      <td>47.0</td>\n",
       "      <td>Friday</td>\n",
       "    </tr>\n",
       "    <tr>\n",
       "      <th>609710</th>\n",
       "      <td>791</td>\n",
       "      <td>2015-06-20 23:18:00</td>\n",
       "      <td>2015-06-20 23:31:00</td>\n",
       "      <td>509</td>\n",
       "      <td>9 Ave &amp; W 22 St</td>\n",
       "      <td>40.745497</td>\n",
       "      <td>-74.001971</td>\n",
       "      <td>515</td>\n",
       "      <td>W 43 St &amp; 10 Ave</td>\n",
       "      <td>40.760094</td>\n",
       "      <td>...</td>\n",
       "      <td>22074</td>\n",
       "      <td>Subscriber</td>\n",
       "      <td>1979.0</td>\n",
       "      <td>1</td>\n",
       "      <td>0.0</td>\n",
       "      <td>Overcast</td>\n",
       "      <td>20.3</td>\n",
       "      <td>36.0</td>\n",
       "      <td>35.0</td>\n",
       "      <td>Saturday</td>\n",
       "    </tr>\n",
       "    <tr>\n",
       "      <th>280673</th>\n",
       "      <td>328</td>\n",
       "      <td>2015-06-10 18:42:00</td>\n",
       "      <td>2015-06-10 18:47:00</td>\n",
       "      <td>435</td>\n",
       "      <td>W 21 St &amp; 6 Ave</td>\n",
       "      <td>40.741740</td>\n",
       "      <td>-73.994156</td>\n",
       "      <td>521</td>\n",
       "      <td>8 Ave &amp; W 31 St</td>\n",
       "      <td>40.750967</td>\n",
       "      <td>...</td>\n",
       "      <td>21568</td>\n",
       "      <td>Subscriber</td>\n",
       "      <td>1973.0</td>\n",
       "      <td>1</td>\n",
       "      <td>0.0</td>\n",
       "      <td>Clear</td>\n",
       "      <td>26.1</td>\n",
       "      <td>47.0</td>\n",
       "      <td>39.0</td>\n",
       "      <td>Wednesday</td>\n",
       "    </tr>\n",
       "  </tbody>\n",
       "</table>\n",
       "<p>3 rows × 21 columns</p>\n",
       "</div>"
      ],
      "text/plain": [
       "        tripduration           starttime            stoptime  \\\n",
       "344165          1451 2015-06-12 14:46:00 2015-06-12 15:10:00   \n",
       "609710           791 2015-06-20 23:18:00 2015-06-20 23:31:00   \n",
       "280673           328 2015-06-10 18:42:00 2015-06-10 18:47:00   \n",
       "\n",
       "        start station id     start station name  start station latitude  \\\n",
       "344165               195  Liberty St & Broadway               40.709056   \n",
       "609710               509        9 Ave & W 22 St               40.745497   \n",
       "280673               435        W 21 St & 6 Ave               40.741740   \n",
       "\n",
       "        start station longitude  end station id    end station name  \\\n",
       "344165               -74.010434             285  Broadway & E 14 St   \n",
       "609710               -74.001971             515    W 43 St & 10 Ave   \n",
       "280673               -73.994156             521     8 Ave & W 31 St   \n",
       "\n",
       "        end station latitude    ...      bikeid    usertype birth year  \\\n",
       "344165             40.734546    ...       20379  Subscriber     1984.0   \n",
       "609710             40.760094    ...       22074  Subscriber     1979.0   \n",
       "280673             40.750967    ...       21568  Subscriber     1973.0   \n",
       "\n",
       "        gender  Precipitationmm  Conditions TemperatureC  total_docks_start  \\\n",
       "344165       2              0.0        Haze         30.0               45.0   \n",
       "609710       1              0.0    Overcast         20.3               36.0   \n",
       "280673       1              0.0       Clear         26.1               47.0   \n",
       "\n",
       "        total_docks_end  start_day  \n",
       "344165             47.0     Friday  \n",
       "609710             35.0   Saturday  \n",
       "280673             39.0  Wednesday  \n",
       "\n",
       "[3 rows x 21 columns]"
      ]
     },
     "execution_count": 20,
     "metadata": {},
     "output_type": "execute_result"
    }
   ],
   "source": [
    "data.sample(3)"
   ]
  },
  {
   "cell_type": "markdown",
   "metadata": {},
   "source": [
    "### <font color='red'>1.7) Use the <i>seaborn</i> package, and more specifically <i>sns.countplot</i>, to plot the number of trips per week day</font>"
   ]
  },
  {
   "cell_type": "code",
   "execution_count": 21,
   "metadata": {
    "collapsed": false
   },
   "outputs": [
    {
     "data": {
      "text/plain": [
       "<matplotlib.axes._subplots.AxesSubplot at 0x138e91610>"
      ]
     },
     "execution_count": 21,
     "metadata": {},
     "output_type": "execute_result"
    },
    {
     "data": {
      "image/png": "[encoded data removed]",
      "text/plain": [
       "<matplotlib.figure.Figure at 0x1090f8cd0>"
      ]
     },
     "metadata": {},
     "output_type": "display_data"
    }
   ],
   "source": [
    "sns.countplot('start_day',data=data)"
   ]
  },
  {
   "cell_type": "markdown",
   "metadata": {},
   "source": [
    "### <font color='red'>1.8) Define a new binary column, with True if day is on the week-end, False otherwise. You can use the <i>pandas.column_name.apply(your_function_here)</i> function.</font>"
   ]
  },
  {
   "cell_type": "code",
   "execution_count": 24,
   "metadata": {
    "collapsed": false
   },
   "outputs": [],
   "source": [
    "data['is_weekend'] = data['start_day'].apply(lambda x: x in ['Saturday','Sunday'])"
   ]
  },
  {
   "cell_type": "markdown",
   "metadata": {},
   "source": [
    "### <font color='red'>1.9) Plot samples of data to check success of operation</font>"
   ]
  },
  {
   "cell_type": "code",
   "execution_count": 26,
   "metadata": {
    "collapsed": false
   },
   "outputs": [
    {
     "data": {
      "text/plain": [
       "<matplotlib.axes._subplots.AxesSubplot at 0x13af0a950>"
      ]
     },
     "execution_count": 26,
     "metadata": {},
     "output_type": "execute_result"
    },
    {
     "data": {
      "image/png": "[encoded data removed]",
      "text/plain": [
       "<matplotlib.figure.Figure at 0x13daa2b50>"
      ]
     },
     "metadata": {},
     "output_type": "display_data"
    }
   ],
   "source": [
    "sns.countplot('is_weekend',data=data.sample(10000))"
   ]
  },
  {
   "cell_type": "markdown",
   "metadata": {},
   "source": [
    "## 2) Morning/afternoon/evening/night <font color='blue'> (15 min) </font>"
   ]
  },
  {
   "cell_type": "markdown",
   "metadata": {},
   "source": [
    "### <font color='red'>2.1) Define a function that returns a string depending on its parameter x. If:</font>\n",
    "- x.hour is strictly under 6 or strictly over 22, return 'night'\n",
    "- x.hour is strictly over 18 and under 22, return 'evening'\n",
    "- x.hour is strictly over 12 and under 18, return 'afternoon'\n",
    "- otherwise return 'morning'"
   ]
  },
  {
   "cell_type": "code",
   "execution_count": 29,
   "metadata": {
    "collapsed": false
   },
   "outputs": [],
   "source": [
    "def time_of_day(x):\n",
    "    if x.hour < 6 or x.hour > 22:    #### COMPLETE THE FUNCTION BELOW ####\n",
    "        return 'night'\n",
    "    elif x.hour > 18 and x.hour <= 22 :\n",
    "        return 'evening'\n",
    "    elif x.hour > 12 and x.hour <= 18:\n",
    "        return 'afternoon'\n",
    "    else:\n",
    "        return 'morning' "
   ]
  },
  {
   "cell_type": "markdown",
   "metadata": {},
   "source": [
    "### <font color='red'>2.2) Apply the function to the <i>starttime</i> column of <i>data</i> to create a new feature , using <i>pd.apply(your_function)</i> function</font>"
   ]
  },
  {
   "cell_type": "code",
   "execution_count": 31,
   "metadata": {
    "collapsed": false
   },
   "outputs": [],
   "source": [
    "data['start_moment'] =data.starttime.apply(lambda x:time_of_day(x))"
   ]
  },
  {
   "cell_type": "markdown",
   "metadata": {},
   "source": [
    "### <font color='red'>2.3) Use <i>seaborn.countplot()</i> to plot the number of trips per moment of the day, with axes labels, and a title</font>"
   ]
  },
  {
   "cell_type": "code",
   "execution_count": 33,
   "metadata": {
    "collapsed": false
   },
   "outputs": [
    {
     "data": {
      "text/plain": [
       "<matplotlib.axes._subplots.AxesSubplot at 0x14062ad10>"
      ]
     },
     "execution_count": 33,
     "metadata": {},
     "output_type": "execute_result"
    },
    {
     "data": {
      "image/png": "[encoded data removed]",
      "text/plain": [
       "<matplotlib.figure.Figure at 0x10b934a10>"
      ]
     },
     "metadata": {},
     "output_type": "display_data"
    }
   ],
   "source": [
    "sns.countplot('start_moment',data=data)"
   ]
  },
  {
   "cell_type": "markdown",
   "metadata": {},
   "source": [
    "### <font color='red'>2.4) Use <i>seaborn.countplot()</i> to plot the number of trips per weekday and per time of day</font>"
   ]
  },
  {
   "cell_type": "code",
   "execution_count": 37,
   "metadata": {
    "collapsed": false
   },
   "outputs": [
    {
     "data": {
      "text/plain": [
       "<matplotlib.text.Text at 0x1170d28d0>"
      ]
     },
     "execution_count": 37,
     "metadata": {},
     "output_type": "execute_result"
    },
    {
     "data": {
      "image/png": "[encoded data removed]",
      "text/plain": [
       "<matplotlib.figure.Figure at 0x10f3e9d10>"
      ]
     },
     "metadata": {},
     "output_type": "display_data"
    }
   ],
   "source": [
    "sns.countplot(x='start_moment' ,hue='is_weekend',data=data)\n",
    "plt.title('number of trips per time of time and per weekday')"
   ]
  },
  {
   "cell_type": "markdown",
   "metadata": {},
   "source": [
    "## 3) Is rainy <font color='blue'> (5 min) </font>"
   ]
  },
  {
   "cell_type": "markdown",
   "metadata": {},
   "source": [
    "### <font color='red'>3.1) Define a new binary column, with True if day is rainy, False otherwise. You can use the <i>pandas.column_name.apply()</i> function on the <i>Conditions</i> column of the dataframe</font>\n",
    "- Hint : you can use a <b>lambda function</b> such as : <i>lambda condition: 'Rain' in condition</i>"
   ]
  },
  {
   "cell_type": "code",
   "execution_count": 39,
   "metadata": {
    "collapsed": false
   },
   "outputs": [
    {
     "data": {
      "text/plain": [
       "{'Clear',\n",
       " 'Haze',\n",
       " 'Heavy Rain',\n",
       " 'Light Rain',\n",
       " 'Mostly Cloudy',\n",
       " 'Overcast',\n",
       " 'Partly Cloudy',\n",
       " 'Rain',\n",
       " 'Scattered Clouds'}"
      ]
     },
     "execution_count": 39,
     "metadata": {},
     "output_type": "execute_result"
    }
   ],
   "source": [
    "set(data.Conditions)"
   ]
  },
  {
   "cell_type": "code",
   "execution_count": 40,
   "metadata": {
    "collapsed": false
   },
   "outputs": [],
   "source": [
    "data['is_rainy'] = data.Conditions.apply(lambda x:x == 'Rain')"
   ]
  },
  {
   "cell_type": "markdown",
   "metadata": {},
   "source": [
    "### <font color='red'>3.2) Print <i>samples</i> of data to check if the operation was successful</font>"
   ]
  },
  {
   "cell_type": "code",
   "execution_count": 41,
   "metadata": {
    "collapsed": false
   },
   "outputs": [
    {
     "data": {
      "text/plain": [
       "<matplotlib.text.Text at 0x108f701d0>"
      ]
     },
     "execution_count": 41,
     "metadata": {},
     "output_type": "execute_result"
    },
    {
     "data": {
      "image/png": "[encoded data removed]",
      "text/plain": [
       "<matplotlib.figure.Figure at 0x10f4810d0>"
      ]
     },
     "metadata": {},
     "output_type": "display_data"
    }
   ],
   "source": [
    "sns.countplot(x='is_rainy',data=data)\n",
    "plt.title('rain distribution')"
   ]
  },
  {
   "cell_type": "markdown",
   "metadata": {},
   "source": [
    "## 4) Is circle trip <font color='blue'> (5 min) </font>"
   ]
  },
  {
   "cell_type": "markdown",
   "metadata": {},
   "source": [
    "### <font color='red'>4.1) Define a new binary column, with 1 if trip was loopy, 0 otherwise. You can use a boolean comparison of two columns of the dataframe:</font>\n",
    "\n",
    "- example of boolean condition : <b>data.column_1 == data.column_2</b>"
   ]
  },
  {
   "cell_type": "code",
   "execution_count": 46,
   "metadata": {
    "collapsed": false
   },
   "outputs": [],
   "source": [
    "data['is_circle_trip'] = data['end station id'] == data['start station id']"
   ]
  },
  {
   "cell_type": "markdown",
   "metadata": {},
   "source": [
    "### <font color='red'>4.2) Print the proportion of circle trips in the dataset</font>"
   ]
  },
  {
   "cell_type": "code",
   "execution_count": 47,
   "metadata": {
    "collapsed": false
   },
   "outputs": [
    {
     "data": {
      "text/plain": [
       "<matplotlib.text.Text at 0x10f3621d0>"
      ]
     },
     "execution_count": 47,
     "metadata": {},
     "output_type": "execute_result"
    },
    {
     "data": {
      "image/png": "[encoded data removed]",
      "text/plain": [
       "<matplotlib.figure.Figure at 0x117282e90>"
      ]
     },
     "metadata": {},
     "output_type": "display_data"
    }
   ],
   "source": [
    "sns.countplot(x='is_circle_trip',data=data)\n",
    "plt.title('is circle trip')"
   ]
  },
  {
   "cell_type": "markdown",
   "metadata": {},
   "source": [
    "## 5) Understanding trip evolution in June <font color='blue'> (15 min) </font>"
   ]
  },
  {
   "cell_type": "markdown",
   "metadata": {},
   "source": [
    "### <font color='red'>5.1) Add a new column with the trip day number. Since all trips in the dataset occured in June, we will name this column \"june_day\". You can use the <i>datetime.day</i> attribute of the starttime</font>"
   ]
  },
  {
   "cell_type": "code",
   "execution_count": 63,
   "metadata": {
    "collapsed": false
   },
   "outputs": [],
   "source": [
    "data['june_day'] = data.starttime.apply(lambda x: x.day)"
   ]
  },
  {
   "cell_type": "code",
   "execution_count": 64,
   "metadata": {
    "collapsed": false
   },
   "outputs": [
    {
     "data": {
      "text/plain": [
       "(array([  61640.,   89899.,   98981.,  111393.,   82416.,  105232.,\n",
       "          86173.,  110484.,   93287.,   96130.]),\n",
       " array([  1. ,   3.9,   6.8,   9.7,  12.6,  15.5,  18.4,  21.3,  24.2,\n",
       "         27.1,  30. ]),\n",
       " <a list of 10 Patch objects>)"
      ]
     },
     "execution_count": 64,
     "metadata": {},
     "output_type": "execute_result"
    },
    {
     "data": {
      "image/png": "[encoded data removed]",
      "text/plain": [
       "<matplotlib.figure.Figure at 0x10f9b7e90>"
      ]
     },
     "metadata": {},
     "output_type": "display_data"
    }
   ],
   "source": [
    "plt.hist(data['june_day'])"
   ]
  },
  {
   "cell_type": "markdown",
   "metadata": {},
   "source": [
    "### <font color='red'>5.2) Group by the columns with respect to day in June, using <i>data.groupby()</i></font>"
   ]
  },
  {
   "cell_type": "code",
   "execution_count": 65,
   "metadata": {
    "collapsed": true
   },
   "outputs": [],
   "source": [
    "grouped_by_data = data.groupby(data['june_day'])"
   ]
  },
  {
   "cell_type": "markdown",
   "metadata": {},
   "source": [
    "### <font color='red'>5.3) Aggregate the grouped by data with respect to mean temperature, and number of trips, using the <i>.count()</i> and <i>.mean()</i> methods of <i>data.groupby()</i></font>"
   ]
  },
  {
   "cell_type": "code",
   "execution_count": 74,
   "metadata": {
    "collapsed": true
   },
   "outputs": [],
   "source": [
    "aggregate_count_trips = grouped_by_data.count()\n",
    "aggregate_temperature = grouped_by_data.mean()"
   ]
  },
  {
   "cell_type": "markdown",
   "metadata": {},
   "source": [
    "### <font color='red'>5.4) Understand what the code below does. How do you understand the plots ? You can look up the following functions:</font>\n",
    "- fig, ax1 = plt.subplots()\n",
    "- ax2=ax1.twinx()\n",
    "- ax1.plot(), ax2.plot()\n",
    "- any other options to set the ticks labels, colors, titles ..."
   ]
  },
  {
   "cell_type": "code",
   "execution_count": 75,
   "metadata": {
    "collapsed": false
   },
   "outputs": [
    {
     "data": {
      "image/png": "[encoded data removed]",
      "text/plain": [
       "<matplotlib.figure.Figure at 0x10e3fad50>"
      ]
     },
     "metadata": {},
     "output_type": "display_data"
    }
   ],
   "source": [
    "sns.set_style('white')\n",
    "\n",
    "fig, ax1 = plt.subplots(figsize=(15,10))\n",
    "\n",
    "june_day = aggregate_count_trips.index\n",
    "\n",
    "number_trips = aggregate_count_trips.tripduration\n",
    "ax1.plot(june_day, number_trips, 'b')\n",
    "ax1.set_xlabel('Day in June')\n",
    "for ticklabel in ax1.get_yticklabels():\n",
    "    ticklabel.set_color('b')\n",
    "ax1.set_ylabel('Number of trips',color='b')\n",
    "\n",
    "ax2 = ax1.twinx()\n",
    "temperature = aggregate_temperature.TemperatureC\n",
    "ax2.plot(june_day, temperature, 'k--')\n",
    "for ticklabel in ax2.get_yticklabels():\n",
    "    ticklabel.set_color('k')\n",
    "ax2.set_ylabel('Temperature',color='k')\n",
    "plt.title('Number of trips and temperature per day in June', fontsize=17)\n",
    "plt.show()"
   ]
  },
  {
   "cell_type": "markdown",
   "metadata": {},
   "source": [
    "## 6) Trip distances and speeds <font color='blue'> (15 min) </font>"
   ]
  },
  {
   "cell_type": "markdown",
   "metadata": {},
   "source": [
    "### <font color='red'>Import the haversine package, that computes the haversine distance from one coordinate to another</font>"
   ]
  },
  {
   "cell_type": "code",
   "execution_count": 77,
   "metadata": {
    "collapsed": false
   },
   "outputs": [
    {
     "name": "stdout",
     "output_type": "stream",
     "text": [
      "Help on function haversine in module haversine:\n",
      "\n",
      "haversine(point1, point2, miles=False)\n",
      "    Calculate the great-circle distance bewteen two points on the Earth surface.\n",
      "    \n",
      "    :input: two 2-tuples, containing the latitude and longitude of each point\n",
      "    in decimal degrees.\n",
      "    \n",
      "    Example: haversine((45.7597, 4.8422), (48.8567, 2.3508))\n",
      "    \n",
      "    :output: Returns the distance bewteen the two points.\n",
      "    The default unit is kilometers. Miles can be returned\n",
      "    if the ``miles`` parameter is set to True.\n",
      "\n"
     ]
    }
   ],
   "source": [
    "from haversine import haversine\n",
    "help(haversine)"
   ]
  },
  {
   "cell_type": "markdown",
   "metadata": {},
   "source": [
    "### <font color='red'>Understand how the <i>haversine</i> function from the package can be used to compute a distance by running the following blocks</font>"
   ]
  },
  {
   "cell_type": "code",
   "execution_count": 78,
   "metadata": {
    "collapsed": true
   },
   "outputs": [],
   "source": [
    "x = data.iloc[0]"
   ]
  },
  {
   "cell_type": "code",
   "execution_count": 79,
   "metadata": {
    "collapsed": false
   },
   "outputs": [
    {
     "name": "stdout",
     "output_type": "stream",
     "text": [
      "Traveled haversine distance for trip 0: 3.8 kilometers\n"
     ]
    }
   ],
   "source": [
    "print 'Traveled haversine distance for trip 0: {:.1f} kilometers'.format(\n",
    "    haversine((x['start station latitude'], x['start station longitude']),\n",
    "              (x['end station latitude'], x['end station longitude'])))"
   ]
  },
  {
   "cell_type": "markdown",
   "metadata": {},
   "source": [
    "### <font color='red'>6.1) Complete the following function so it returns, for a given observation, the haversine distance from a start station to the end station</font>"
   ]
  },
  {
   "cell_type": "code",
   "execution_count": 80,
   "metadata": {
    "collapsed": true
   },
   "outputs": [],
   "source": [
    "def distance_stations(x):\n",
    "    start_lat = x['start station latitude']\n",
    "    start_long = x['start station longitude']\n",
    "    end_lat = x['end station latitude']\n",
    "    end_long = x['end station longitude']\n",
    "    return haversine((start_lat,start_long),(end_lat,end_long))"
   ]
  },
  {
   "cell_type": "markdown",
   "metadata": {},
   "source": [
    "### <font color='red'>6.2) What does the following block do ? It may take a minute or two to run</font>"
   ]
  },
  {
   "cell_type": "code",
   "execution_count": 81,
   "metadata": {
    "collapsed": true
   },
   "outputs": [],
   "source": [
    "data['traveled_distance'] = data.apply(distance_stations, axis=1)"
   ]
  },
  {
   "cell_type": "markdown",
   "metadata": {},
   "source": [
    "### <font color='red'>6.3) Show <i>samples</i> of data, and see how the traveled distance has been added as a new feature in the dataset</font>"
   ]
  },
  {
   "cell_type": "code",
   "execution_count": 82,
   "metadata": {
    "collapsed": false
   },
   "outputs": [
    {
     "data": {
      "text/plain": [
       "(array([  2.91406000e+05,   3.57328000e+05,   1.57880000e+05,\n",
       "          7.12000000e+04,   3.18940000e+04,   1.53670000e+04,\n",
       "          7.74100000e+03,   2.40400000e+03,   3.72000000e+02,\n",
       "          4.30000000e+01]),\n",
       " array([ 0.        ,  0.9932952 ,  1.98659041,  2.97988561,  3.97318081,\n",
       "         4.96647602,  5.95977122,  6.95306642,  7.94636162,  8.93965683,\n",
       "         9.93295203]),\n",
       " <a list of 10 Patch objects>)"
      ]
     },
     "execution_count": 82,
     "metadata": {},
     "output_type": "execute_result"
    },
    {
     "data": {
      "image/png": "[encoded data removed]",
      "text/plain": [
       "<matplotlib.figure.Figure at 0x1111b8110>"
      ]
     },
     "metadata": {},
     "output_type": "display_data"
    }
   ],
   "source": [
    "plt.hist(data['traveled_distance'])"
   ]
  },
  {
   "cell_type": "markdown",
   "metadata": {},
   "source": [
    "### <font color='red'>6.4) Compute the average speed (in km/h) by dividing two dataframe columns</font>"
   ]
  },
  {
   "cell_type": "code",
   "execution_count": 104,
   "metadata": {
    "collapsed": false
   },
   "outputs": [
    {
     "data": {
      "text/plain": [
       "<matplotlib.axes._subplots.AxesSubplot at 0x10e746890>"
      ]
     },
     "execution_count": 104,
     "metadata": {},
     "output_type": "execute_result"
    },
    {
     "data": {
      "image/png": "[encoded data removed]",
      "text/plain": [
       "<matplotlib.figure.Figure at 0x10ea7a590>"
      ]
     },
     "metadata": {},
     "output_type": "display_data"
    }
   ],
   "source": [
    "data['tripduration'].hist()"
   ]
  },
  {
   "cell_type": "code",
   "execution_count": 105,
   "metadata": {
    "collapsed": false
   },
   "outputs": [],
   "source": [
    "data['average_speed'] = data['traveled_distance'] / (data['tripduration']/3600.0)"
   ]
  },
  {
   "cell_type": "code",
   "execution_count": 107,
   "metadata": {
    "collapsed": false
   },
   "outputs": [
    {
     "data": {
      "text/plain": [
       "(array([  9.35527000e+05,   6.80000000e+01,   1.80000000e+01,\n",
       "          6.00000000e+00,   7.00000000e+00,   3.00000000e+00,\n",
       "          3.00000000e+00,   1.00000000e+00,   0.00000000e+00,\n",
       "          2.00000000e+00]),\n",
       " array([   0.        ,   28.06548521,   56.13097043,   84.19645564,\n",
       "         112.26194086,  140.32742607,  168.39291129,  196.4583965 ,\n",
       "         224.52388172,  252.58936693,  280.65485214]),\n",
       " <a list of 10 Patch objects>)"
      ]
     },
     "execution_count": 107,
     "metadata": {},
     "output_type": "execute_result"
    },
    {
     "data": {
      "image/png": "[encoded data removed]",
      "text/plain": [
       "<matplotlib.figure.Figure at 0x110891710>"
      ]
     },
     "metadata": {},
     "output_type": "display_data"
    }
   ],
   "source": [
    "plt.hist(data['average_speed'])"
   ]
  },
  {
   "cell_type": "markdown",
   "metadata": {},
   "source": [
    "### <font color='red'>Run the following block to compute the mean speed on non-loopy trips </font>"
   ]
  },
  {
   "cell_type": "code",
   "execution_count": 108,
   "metadata": {
    "collapsed": true
   },
   "outputs": [],
   "source": [
    "mean_speed = mean(data['average_speed'][data['average_speed'] != 0])"
   ]
  },
  {
   "cell_type": "markdown",
   "metadata": {},
   "source": [
    "### <font color='red'>6.5) Keep only trips for which the speed is under 50 km/h </font>"
   ]
  },
  {
   "cell_type": "code",
   "execution_count": 111,
   "metadata": {
    "collapsed": false
   },
   "outputs": [],
   "source": [
    "data = data[data.average_speed<50]"
   ]
  },
  {
   "cell_type": "markdown",
   "metadata": {},
   "source": [
    "### <font color='red'>What does the following block do ?</font>"
   ]
  },
  {
   "cell_type": "code",
   "execution_count": 112,
   "metadata": {
    "collapsed": false
   },
   "outputs": [
    {
     "name": "stderr",
     "output_type": "stream",
     "text": [
      "/Users/axa/.pyenv/versions/2.7.12/envs/DS/lib/python2.7/site-packages/pandas/core/indexing.py:477: SettingWithCopyWarning: \n",
      "A value is trying to be set on a copy of a slice from a DataFrame.\n",
      "Try using .loc[row_indexer,col_indexer] = value instead\n",
      "\n",
      "See the caveats in the documentation: http://pandas.pydata.org/pandas-docs/stable/indexing.html#indexing-view-versus-copy\n",
      "  self.obj[item] = s\n"
     ]
    }
   ],
   "source": [
    "data.loc[data['average_speed']==0,'average_speed'] = mean_speed"
   ]
  },
  {
   "cell_type": "markdown",
   "metadata": {},
   "source": [
    "### <font color='red'>6.7) Using <i>seaborn.distplot</i>, plot the distribution of speeds</font>"
   ]
  },
  {
   "cell_type": "code",
   "execution_count": 113,
   "metadata": {
    "collapsed": false
   },
   "outputs": [
    {
     "data": {
      "text/plain": [
       "<matplotlib.axes._subplots.AxesSubplot at 0x110313c90>"
      ]
     },
     "execution_count": 113,
     "metadata": {},
     "output_type": "execute_result"
    },
    {
     "data": {
      "image/png": "[encoded data removed]",
      "text/plain": [
       "<matplotlib.figure.Figure at 0x110313690>"
      ]
     },
     "metadata": {},
     "output_type": "display_data"
    }
   ],
   "source": [
    "plt.figure(figsize=(20,10))\n",
    "#### PLOT THE DISTRIBUTION OF SPEEDS ####\n",
    "\n",
    "data['average_speed'].hist()"
   ]
  },
  {
   "cell_type": "markdown",
   "metadata": {},
   "source": [
    "### <font color='red'>6.8) Subsidiary question : plot the average speed vs. the total distance. What do you observe ? You can use the following function: </font>\n",
    "- seaborn.regplot()\n",
    "- data_sample = data.sample(1000) so as not to overload the graph"
   ]
  },
  {
   "cell_type": "code",
   "execution_count": 120,
   "metadata": {
    "collapsed": true
   },
   "outputs": [],
   "source": [
    "data_bis = data.sample(1000)"
   ]
  },
  {
   "cell_type": "code",
   "execution_count": 123,
   "metadata": {
    "collapsed": false
   },
   "outputs": [
    {
     "data": {
      "text/plain": [
       "<matplotlib.axes._subplots.AxesSubplot at 0x1114d1ed0>"
      ]
     },
     "execution_count": 123,
     "metadata": {},
     "output_type": "execute_result"
    },
    {
     "data": {
      "image/png": "[encoded data removed]",
      "text/plain": [
       "<matplotlib.figure.Figure at 0x11134e090>"
      ]
     },
     "metadata": {},
     "output_type": "display_data"
    }
   ],
   "source": [
    "sns.regplot(data_bis.average_speed,data_bis.traveled_distance)"
   ]
  },
  {
   "cell_type": "markdown",
   "metadata": {},
   "source": [
    "# Save dataset to csv file"
   ]
  },
  {
   "cell_type": "code",
   "execution_count": 124,
   "metadata": {
    "collapsed": true
   },
   "outputs": [],
   "source": [
    "data.to_csv('my_data_after_feature_engineering.csv', index=False)"
   ]
  },
  {
   "cell_type": "markdown",
   "metadata": {},
   "source": [
    "# 7) Imagine and build your own features !"
   ]
  },
  {
   "cell_type": "code",
   "execution_count": null,
   "metadata": {
    "collapsed": true
   },
   "outputs": [],
   "source": []
  },
  {
   "cell_type": "code",
   "execution_count": null,
   "metadata": {
    "collapsed": true
   },
   "outputs": [],
   "source": []
  },
  {
   "cell_type": "code",
   "execution_count": null,
   "metadata": {
    "collapsed": true
   },
   "outputs": [],
   "source": []
  }
 ],
 "metadata": {
  "kernelspec": {
   "display_name": "Python 2",
   "language": "python",
   "name": "python2"
  },
  "language_info": {
   "codemirror_mode": {
    "name": "ipython",
    "version": 2
   },
   "file_extension": ".py",
   "mimetype": "text/x-python",
   "name": "python",
   "nbconvert_exporter": "python",
   "pygments_lexer": "ipython2",
   "version": "2.7.12"
  }
 },
 "nbformat": 4,
 "nbformat_minor": 0
}
