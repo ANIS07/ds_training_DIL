{
 "cells": [
  {
   "cell_type": "markdown",
   "metadata": {},
   "source": [
    "# Introduction to Machine Learning <font color='blue'> (35 min) </font>"
   ]
  },
  {
   "cell_type": "markdown",
   "metadata": {},
   "source": [
    "# Google doc with code corrections is accessible at:\n",
    "### https://docs.google.com/document/d/1phmpGjNJbHwxP7448taFqREw6Vw3qVSUEDhu1KcLxog/edit?usp=sharing"
   ]
  },
  {
   "cell_type": "markdown",
   "metadata": {},
   "source": [
    "# 0) Importing the right tools <font color='blue'> (5 min) </font>"
   ]
  },
  {
   "cell_type": "markdown",
   "metadata": {},
   "source": [
    "### <font color='red'>0.1) Import the necessary packages with their usual aliases: </font>\n",
    "\n",
    "- pandas as pd\n",
    "- numpy as np\n",
    "- seaborn as sns\n",
    "- matplotlib.pyplot as plt"
   ]
  },
  {
   "cell_type": "code",
   "execution_count": 3,
   "metadata": {
    "collapsed": false
   },
   "outputs": [
    {
     "name": "stdout",
     "output_type": "stream",
     "text": [
      "Populating the interactive namespace from numpy and matplotlib\n"
     ]
    }
   ],
   "source": [
    "from __future__ import division\n",
    "\n",
    "#### IMPORT THE USUAL PACKAGES WITH THEIR ALIASES ####\n",
    "\n",
    "import pandas as pd\n",
    "import numpy as np\n",
    "import seaborn as sns\n",
    "import matplotlib.pylab as plt\n",
    "\n",
    "%pylab inline"
   ]
  },
  {
   "cell_type": "markdown",
   "metadata": {},
   "source": [
    "### <font color='red'>0.2) Import the dataset from <i>'../data/data_after_feature_engineering.csv'</i></font>"
   ]
  },
  {
   "cell_type": "code",
   "execution_count": 4,
   "metadata": {
    "collapsed": false
   },
   "outputs": [],
   "source": [
    "raw_data = pd.read_csv('./my_data_after_feature_engineering.csv')"
   ]
  },
  {
   "cell_type": "markdown",
   "metadata": {},
   "source": [
    "### <font color='red'>0.3) Copy the raw_data and print samples</font>"
   ]
  },
  {
   "cell_type": "code",
   "execution_count": 5,
   "metadata": {
    "collapsed": true
   },
   "outputs": [],
   "source": [
    "data = raw_data.copy()"
   ]
  },
  {
   "cell_type": "code",
   "execution_count": 6,
   "metadata": {
    "collapsed": false
   },
   "outputs": [
    {
     "data": {
      "text/html": [
       "<div>\n",
       "<table border=\"1\" class=\"dataframe\">\n",
       "  <thead>\n",
       "    <tr style=\"text-align: right;\">\n",
       "      <th></th>\n",
       "      <th>tripduration</th>\n",
       "      <th>starttime</th>\n",
       "      <th>stoptime</th>\n",
       "      <th>start station id</th>\n",
       "      <th>start station name</th>\n",
       "      <th>start station latitude</th>\n",
       "      <th>start station longitude</th>\n",
       "      <th>end station id</th>\n",
       "      <th>end station name</th>\n",
       "      <th>end station latitude</th>\n",
       "      <th>...</th>\n",
       "      <th>total_docks_start</th>\n",
       "      <th>total_docks_end</th>\n",
       "      <th>start_day</th>\n",
       "      <th>is_weekend</th>\n",
       "      <th>start_moment</th>\n",
       "      <th>is_rainy</th>\n",
       "      <th>is_circle_trip</th>\n",
       "      <th>june_day</th>\n",
       "      <th>traveled_distance</th>\n",
       "      <th>average_speed</th>\n",
       "    </tr>\n",
       "  </thead>\n",
       "  <tbody>\n",
       "    <tr>\n",
       "      <th>168864</th>\n",
       "      <td>643</td>\n",
       "      <td>2015-06-07 15:57:00</td>\n",
       "      <td>2015-06-07 16:08:00</td>\n",
       "      <td>495</td>\n",
       "      <td>W 47 St &amp; 10 Ave</td>\n",
       "      <td>40.762699</td>\n",
       "      <td>-73.993012</td>\n",
       "      <td>267</td>\n",
       "      <td>Broadway &amp; W 36 St</td>\n",
       "      <td>40.750977</td>\n",
       "      <td>...</td>\n",
       "      <td>25.0</td>\n",
       "      <td>57.0</td>\n",
       "      <td>Sunday</td>\n",
       "      <td>True</td>\n",
       "      <td>afternoon</td>\n",
       "      <td>False</td>\n",
       "      <td>False</td>\n",
       "      <td>7</td>\n",
       "      <td>1.379312</td>\n",
       "      <td>7.722433</td>\n",
       "    </tr>\n",
       "    <tr>\n",
       "      <th>415989</th>\n",
       "      <td>1092</td>\n",
       "      <td>2015-06-14 19:28:00</td>\n",
       "      <td>2015-06-14 19:46:00</td>\n",
       "      <td>317</td>\n",
       "      <td>E 6 St &amp; Avenue B</td>\n",
       "      <td>40.724537</td>\n",
       "      <td>-73.981854</td>\n",
       "      <td>360</td>\n",
       "      <td>William St &amp; Pine St</td>\n",
       "      <td>40.707179</td>\n",
       "      <td>...</td>\n",
       "      <td>27.0</td>\n",
       "      <td>39.0</td>\n",
       "      <td>Sunday</td>\n",
       "      <td>True</td>\n",
       "      <td>evening</td>\n",
       "      <td>False</td>\n",
       "      <td>False</td>\n",
       "      <td>14</td>\n",
       "      <td>2.985103</td>\n",
       "      <td>9.840998</td>\n",
       "    </tr>\n",
       "    <tr>\n",
       "      <th>854914</th>\n",
       "      <td>367</td>\n",
       "      <td>2015-06-28 19:14:00</td>\n",
       "      <td>2015-06-28 19:20:00</td>\n",
       "      <td>238</td>\n",
       "      <td>Bank St &amp; Washington St</td>\n",
       "      <td>40.736197</td>\n",
       "      <td>-74.008592</td>\n",
       "      <td>127</td>\n",
       "      <td>Barrow St &amp; Hudson St</td>\n",
       "      <td>40.731724</td>\n",
       "      <td>...</td>\n",
       "      <td>31.0</td>\n",
       "      <td>31.0</td>\n",
       "      <td>Sunday</td>\n",
       "      <td>True</td>\n",
       "      <td>evening</td>\n",
       "      <td>False</td>\n",
       "      <td>False</td>\n",
       "      <td>28</td>\n",
       "      <td>0.521109</td>\n",
       "      <td>5.111701</td>\n",
       "    </tr>\n",
       "    <tr>\n",
       "      <th>529798</th>\n",
       "      <td>565</td>\n",
       "      <td>2015-06-18 14:05:00</td>\n",
       "      <td>2015-06-18 14:15:00</td>\n",
       "      <td>423</td>\n",
       "      <td>W 54 St &amp; 9 Ave</td>\n",
       "      <td>40.765849</td>\n",
       "      <td>-73.986905</td>\n",
       "      <td>523</td>\n",
       "      <td>W 38 St &amp; 8 Ave</td>\n",
       "      <td>40.754666</td>\n",
       "      <td>...</td>\n",
       "      <td>31.0</td>\n",
       "      <td>51.0</td>\n",
       "      <td>Thursday</td>\n",
       "      <td>False</td>\n",
       "      <td>afternoon</td>\n",
       "      <td>False</td>\n",
       "      <td>False</td>\n",
       "      <td>18</td>\n",
       "      <td>1.299447</td>\n",
       "      <td>8.279662</td>\n",
       "    </tr>\n",
       "    <tr>\n",
       "      <th>174838</th>\n",
       "      <td>333</td>\n",
       "      <td>2015-06-07 18:13:00</td>\n",
       "      <td>2015-06-07 18:19:00</td>\n",
       "      <td>174</td>\n",
       "      <td>E 25 St &amp; 1 Ave</td>\n",
       "      <td>40.738177</td>\n",
       "      <td>-73.977387</td>\n",
       "      <td>537</td>\n",
       "      <td>Lexington Ave &amp; E 24 St</td>\n",
       "      <td>40.740259</td>\n",
       "      <td>...</td>\n",
       "      <td>30.0</td>\n",
       "      <td>39.0</td>\n",
       "      <td>Sunday</td>\n",
       "      <td>True</td>\n",
       "      <td>afternoon</td>\n",
       "      <td>False</td>\n",
       "      <td>False</td>\n",
       "      <td>7</td>\n",
       "      <td>0.610553</td>\n",
       "      <td>6.600577</td>\n",
       "    </tr>\n",
       "  </tbody>\n",
       "</table>\n",
       "<p>5 rows × 28 columns</p>\n",
       "</div>"
      ],
      "text/plain": [
       "        tripduration            starttime             stoptime  \\\n",
       "168864           643  2015-06-07 15:57:00  2015-06-07 16:08:00   \n",
       "415989          1092  2015-06-14 19:28:00  2015-06-14 19:46:00   \n",
       "854914           367  2015-06-28 19:14:00  2015-06-28 19:20:00   \n",
       "529798           565  2015-06-18 14:05:00  2015-06-18 14:15:00   \n",
       "174838           333  2015-06-07 18:13:00  2015-06-07 18:19:00   \n",
       "\n",
       "        start station id       start station name  start station latitude  \\\n",
       "168864               495         W 47 St & 10 Ave               40.762699   \n",
       "415989               317        E 6 St & Avenue B               40.724537   \n",
       "854914               238  Bank St & Washington St               40.736197   \n",
       "529798               423          W 54 St & 9 Ave               40.765849   \n",
       "174838               174          E 25 St & 1 Ave               40.738177   \n",
       "\n",
       "        start station longitude  end station id         end station name  \\\n",
       "168864               -73.993012             267       Broadway & W 36 St   \n",
       "415989               -73.981854             360     William St & Pine St   \n",
       "854914               -74.008592             127    Barrow St & Hudson St   \n",
       "529798               -73.986905             523          W 38 St & 8 Ave   \n",
       "174838               -73.977387             537  Lexington Ave & E 24 St   \n",
       "\n",
       "        end station latitude      ...        total_docks_start  \\\n",
       "168864             40.750977      ...                     25.0   \n",
       "415989             40.707179      ...                     27.0   \n",
       "854914             40.731724      ...                     31.0   \n",
       "529798             40.754666      ...                     31.0   \n",
       "174838             40.740259      ...                     30.0   \n",
       "\n",
       "        total_docks_end start_day  is_weekend  start_moment  is_rainy  \\\n",
       "168864             57.0    Sunday        True     afternoon     False   \n",
       "415989             39.0    Sunday        True       evening     False   \n",
       "854914             31.0    Sunday        True       evening     False   \n",
       "529798             51.0  Thursday       False     afternoon     False   \n",
       "174838             39.0    Sunday        True     afternoon     False   \n",
       "\n",
       "       is_circle_trip  june_day  traveled_distance  average_speed  \n",
       "168864          False         7           1.379312       7.722433  \n",
       "415989          False        14           2.985103       9.840998  \n",
       "854914          False        28           0.521109       5.111701  \n",
       "529798          False        18           1.299447       8.279662  \n",
       "174838          False         7           0.610553       6.600577  \n",
       "\n",
       "[5 rows x 28 columns]"
      ]
     },
     "execution_count": 6,
     "metadata": {},
     "output_type": "execute_result"
    }
   ],
   "source": [
    "data.sample(5)"
   ]
  },
  {
   "cell_type": "markdown",
   "metadata": {},
   "source": [
    "# Predictive modeling"
   ]
  },
  {
   "cell_type": "markdown",
   "metadata": {},
   "source": [
    "## 1) Variable encoding <font color='blue'> (10 min) </font>"
   ]
  },
  {
   "cell_type": "markdown",
   "metadata": {},
   "source": [
    "Categorical variables need to be converted to numbers so as to train machine learning algorithms. There are different kinds of variables encoding, such as dummy-encoding: this method consists in building $n$ binary columns when a variable can take $n$ values. When regression is used, features need not be correlated, hence $n-1$ binary columns will be created."
   ]
  },
  {
   "cell_type": "markdown",
   "metadata": {},
   "source": [
    "### <font color='red'>1.1) Understand how the <i>pd.get_dummies(data.column_name_here)</i> function allows to create dummy variables</font>"
   ]
  },
  {
   "cell_type": "code",
   "execution_count": 12,
   "metadata": {
    "collapsed": false
   },
   "outputs": [
    {
     "data": {
      "text/plain": [
       "{1,\n",
       " 2,\n",
       " 3,\n",
       " 4,\n",
       " 5,\n",
       " 6,\n",
       " 7,\n",
       " 8,\n",
       " 9,\n",
       " 10,\n",
       " 11,\n",
       " 12,\n",
       " 13,\n",
       " 14,\n",
       " 15,\n",
       " 16,\n",
       " 17,\n",
       " 18,\n",
       " 19,\n",
       " 20,\n",
       " 21,\n",
       " 22,\n",
       " 23,\n",
       " 24,\n",
       " 25,\n",
       " 26,\n",
       " 27,\n",
       " 28,\n",
       " 29,\n",
       " 30}"
      ]
     },
     "execution_count": 12,
     "metadata": {},
     "output_type": "execute_result"
    }
   ],
   "source": [
    "set(data.june_day)"
   ]
  },
  {
   "cell_type": "code",
   "execution_count": 19,
   "metadata": {
    "collapsed": false
   },
   "outputs": [
    {
     "data": {
      "text/html": [
       "<div>\n",
       "<table border=\"1\" class=\"dataframe\">\n",
       "  <thead>\n",
       "    <tr style=\"text-align: right;\">\n",
       "      <th></th>\n",
       "      <th>Clear</th>\n",
       "      <th>Haze</th>\n",
       "      <th>Heavy Rain</th>\n",
       "      <th>Light Rain</th>\n",
       "      <th>Mostly Cloudy</th>\n",
       "      <th>Overcast</th>\n",
       "      <th>Partly Cloudy</th>\n",
       "      <th>Rain</th>\n",
       "      <th>Scattered Clouds</th>\n",
       "    </tr>\n",
       "  </thead>\n",
       "  <tbody>\n",
       "    <tr>\n",
       "      <th>0</th>\n",
       "      <td>0</td>\n",
       "      <td>0</td>\n",
       "      <td>0</td>\n",
       "      <td>0</td>\n",
       "      <td>0</td>\n",
       "      <td>1</td>\n",
       "      <td>0</td>\n",
       "      <td>0</td>\n",
       "      <td>0</td>\n",
       "    </tr>\n",
       "    <tr>\n",
       "      <th>1</th>\n",
       "      <td>0</td>\n",
       "      <td>0</td>\n",
       "      <td>0</td>\n",
       "      <td>0</td>\n",
       "      <td>0</td>\n",
       "      <td>1</td>\n",
       "      <td>0</td>\n",
       "      <td>0</td>\n",
       "      <td>0</td>\n",
       "    </tr>\n",
       "    <tr>\n",
       "      <th>2</th>\n",
       "      <td>0</td>\n",
       "      <td>0</td>\n",
       "      <td>0</td>\n",
       "      <td>0</td>\n",
       "      <td>0</td>\n",
       "      <td>1</td>\n",
       "      <td>0</td>\n",
       "      <td>0</td>\n",
       "      <td>0</td>\n",
       "    </tr>\n",
       "    <tr>\n",
       "      <th>3</th>\n",
       "      <td>0</td>\n",
       "      <td>0</td>\n",
       "      <td>0</td>\n",
       "      <td>0</td>\n",
       "      <td>0</td>\n",
       "      <td>1</td>\n",
       "      <td>0</td>\n",
       "      <td>0</td>\n",
       "      <td>0</td>\n",
       "    </tr>\n",
       "    <tr>\n",
       "      <th>4</th>\n",
       "      <td>0</td>\n",
       "      <td>0</td>\n",
       "      <td>0</td>\n",
       "      <td>0</td>\n",
       "      <td>0</td>\n",
       "      <td>1</td>\n",
       "      <td>0</td>\n",
       "      <td>0</td>\n",
       "      <td>0</td>\n",
       "    </tr>\n",
       "    <tr>\n",
       "      <th>5</th>\n",
       "      <td>0</td>\n",
       "      <td>0</td>\n",
       "      <td>0</td>\n",
       "      <td>0</td>\n",
       "      <td>0</td>\n",
       "      <td>1</td>\n",
       "      <td>0</td>\n",
       "      <td>0</td>\n",
       "      <td>0</td>\n",
       "    </tr>\n",
       "    <tr>\n",
       "      <th>6</th>\n",
       "      <td>0</td>\n",
       "      <td>0</td>\n",
       "      <td>0</td>\n",
       "      <td>0</td>\n",
       "      <td>0</td>\n",
       "      <td>1</td>\n",
       "      <td>0</td>\n",
       "      <td>0</td>\n",
       "      <td>0</td>\n",
       "    </tr>\n",
       "    <tr>\n",
       "      <th>7</th>\n",
       "      <td>0</td>\n",
       "      <td>0</td>\n",
       "      <td>0</td>\n",
       "      <td>0</td>\n",
       "      <td>0</td>\n",
       "      <td>1</td>\n",
       "      <td>0</td>\n",
       "      <td>0</td>\n",
       "      <td>0</td>\n",
       "    </tr>\n",
       "    <tr>\n",
       "      <th>8</th>\n",
       "      <td>0</td>\n",
       "      <td>0</td>\n",
       "      <td>0</td>\n",
       "      <td>0</td>\n",
       "      <td>0</td>\n",
       "      <td>1</td>\n",
       "      <td>0</td>\n",
       "      <td>0</td>\n",
       "      <td>0</td>\n",
       "    </tr>\n",
       "    <tr>\n",
       "      <th>9</th>\n",
       "      <td>0</td>\n",
       "      <td>0</td>\n",
       "      <td>0</td>\n",
       "      <td>0</td>\n",
       "      <td>0</td>\n",
       "      <td>1</td>\n",
       "      <td>0</td>\n",
       "      <td>0</td>\n",
       "      <td>0</td>\n",
       "    </tr>\n",
       "    <tr>\n",
       "      <th>10</th>\n",
       "      <td>0</td>\n",
       "      <td>0</td>\n",
       "      <td>0</td>\n",
       "      <td>0</td>\n",
       "      <td>0</td>\n",
       "      <td>1</td>\n",
       "      <td>0</td>\n",
       "      <td>0</td>\n",
       "      <td>0</td>\n",
       "    </tr>\n",
       "    <tr>\n",
       "      <th>11</th>\n",
       "      <td>0</td>\n",
       "      <td>0</td>\n",
       "      <td>0</td>\n",
       "      <td>0</td>\n",
       "      <td>0</td>\n",
       "      <td>1</td>\n",
       "      <td>0</td>\n",
       "      <td>0</td>\n",
       "      <td>0</td>\n",
       "    </tr>\n",
       "    <tr>\n",
       "      <th>12</th>\n",
       "      <td>0</td>\n",
       "      <td>0</td>\n",
       "      <td>0</td>\n",
       "      <td>0</td>\n",
       "      <td>0</td>\n",
       "      <td>1</td>\n",
       "      <td>0</td>\n",
       "      <td>0</td>\n",
       "      <td>0</td>\n",
       "    </tr>\n",
       "    <tr>\n",
       "      <th>13</th>\n",
       "      <td>0</td>\n",
       "      <td>0</td>\n",
       "      <td>0</td>\n",
       "      <td>0</td>\n",
       "      <td>0</td>\n",
       "      <td>1</td>\n",
       "      <td>0</td>\n",
       "      <td>0</td>\n",
       "      <td>0</td>\n",
       "    </tr>\n",
       "    <tr>\n",
       "      <th>14</th>\n",
       "      <td>0</td>\n",
       "      <td>0</td>\n",
       "      <td>0</td>\n",
       "      <td>0</td>\n",
       "      <td>0</td>\n",
       "      <td>1</td>\n",
       "      <td>0</td>\n",
       "      <td>0</td>\n",
       "      <td>0</td>\n",
       "    </tr>\n",
       "    <tr>\n",
       "      <th>15</th>\n",
       "      <td>0</td>\n",
       "      <td>0</td>\n",
       "      <td>0</td>\n",
       "      <td>0</td>\n",
       "      <td>0</td>\n",
       "      <td>1</td>\n",
       "      <td>0</td>\n",
       "      <td>0</td>\n",
       "      <td>0</td>\n",
       "    </tr>\n",
       "    <tr>\n",
       "      <th>16</th>\n",
       "      <td>0</td>\n",
       "      <td>0</td>\n",
       "      <td>0</td>\n",
       "      <td>0</td>\n",
       "      <td>0</td>\n",
       "      <td>1</td>\n",
       "      <td>0</td>\n",
       "      <td>0</td>\n",
       "      <td>0</td>\n",
       "    </tr>\n",
       "    <tr>\n",
       "      <th>17</th>\n",
       "      <td>0</td>\n",
       "      <td>0</td>\n",
       "      <td>0</td>\n",
       "      <td>0</td>\n",
       "      <td>0</td>\n",
       "      <td>1</td>\n",
       "      <td>0</td>\n",
       "      <td>0</td>\n",
       "      <td>0</td>\n",
       "    </tr>\n",
       "    <tr>\n",
       "      <th>18</th>\n",
       "      <td>0</td>\n",
       "      <td>0</td>\n",
       "      <td>0</td>\n",
       "      <td>0</td>\n",
       "      <td>0</td>\n",
       "      <td>1</td>\n",
       "      <td>0</td>\n",
       "      <td>0</td>\n",
       "      <td>0</td>\n",
       "    </tr>\n",
       "    <tr>\n",
       "      <th>19</th>\n",
       "      <td>0</td>\n",
       "      <td>0</td>\n",
       "      <td>0</td>\n",
       "      <td>0</td>\n",
       "      <td>0</td>\n",
       "      <td>1</td>\n",
       "      <td>0</td>\n",
       "      <td>0</td>\n",
       "      <td>0</td>\n",
       "    </tr>\n",
       "    <tr>\n",
       "      <th>20</th>\n",
       "      <td>0</td>\n",
       "      <td>0</td>\n",
       "      <td>0</td>\n",
       "      <td>0</td>\n",
       "      <td>0</td>\n",
       "      <td>1</td>\n",
       "      <td>0</td>\n",
       "      <td>0</td>\n",
       "      <td>0</td>\n",
       "    </tr>\n",
       "    <tr>\n",
       "      <th>21</th>\n",
       "      <td>0</td>\n",
       "      <td>0</td>\n",
       "      <td>0</td>\n",
       "      <td>0</td>\n",
       "      <td>0</td>\n",
       "      <td>1</td>\n",
       "      <td>0</td>\n",
       "      <td>0</td>\n",
       "      <td>0</td>\n",
       "    </tr>\n",
       "    <tr>\n",
       "      <th>22</th>\n",
       "      <td>0</td>\n",
       "      <td>0</td>\n",
       "      <td>0</td>\n",
       "      <td>0</td>\n",
       "      <td>0</td>\n",
       "      <td>1</td>\n",
       "      <td>0</td>\n",
       "      <td>0</td>\n",
       "      <td>0</td>\n",
       "    </tr>\n",
       "    <tr>\n",
       "      <th>23</th>\n",
       "      <td>0</td>\n",
       "      <td>0</td>\n",
       "      <td>0</td>\n",
       "      <td>0</td>\n",
       "      <td>0</td>\n",
       "      <td>1</td>\n",
       "      <td>0</td>\n",
       "      <td>0</td>\n",
       "      <td>0</td>\n",
       "    </tr>\n",
       "    <tr>\n",
       "      <th>24</th>\n",
       "      <td>0</td>\n",
       "      <td>0</td>\n",
       "      <td>0</td>\n",
       "      <td>0</td>\n",
       "      <td>0</td>\n",
       "      <td>1</td>\n",
       "      <td>0</td>\n",
       "      <td>0</td>\n",
       "      <td>0</td>\n",
       "    </tr>\n",
       "    <tr>\n",
       "      <th>25</th>\n",
       "      <td>0</td>\n",
       "      <td>0</td>\n",
       "      <td>0</td>\n",
       "      <td>0</td>\n",
       "      <td>0</td>\n",
       "      <td>1</td>\n",
       "      <td>0</td>\n",
       "      <td>0</td>\n",
       "      <td>0</td>\n",
       "    </tr>\n",
       "    <tr>\n",
       "      <th>26</th>\n",
       "      <td>0</td>\n",
       "      <td>0</td>\n",
       "      <td>0</td>\n",
       "      <td>0</td>\n",
       "      <td>0</td>\n",
       "      <td>1</td>\n",
       "      <td>0</td>\n",
       "      <td>0</td>\n",
       "      <td>0</td>\n",
       "    </tr>\n",
       "    <tr>\n",
       "      <th>27</th>\n",
       "      <td>0</td>\n",
       "      <td>0</td>\n",
       "      <td>0</td>\n",
       "      <td>0</td>\n",
       "      <td>0</td>\n",
       "      <td>1</td>\n",
       "      <td>0</td>\n",
       "      <td>0</td>\n",
       "      <td>0</td>\n",
       "    </tr>\n",
       "    <tr>\n",
       "      <th>28</th>\n",
       "      <td>0</td>\n",
       "      <td>0</td>\n",
       "      <td>0</td>\n",
       "      <td>0</td>\n",
       "      <td>0</td>\n",
       "      <td>1</td>\n",
       "      <td>0</td>\n",
       "      <td>0</td>\n",
       "      <td>0</td>\n",
       "    </tr>\n",
       "    <tr>\n",
       "      <th>29</th>\n",
       "      <td>0</td>\n",
       "      <td>0</td>\n",
       "      <td>0</td>\n",
       "      <td>0</td>\n",
       "      <td>0</td>\n",
       "      <td>1</td>\n",
       "      <td>0</td>\n",
       "      <td>0</td>\n",
       "      <td>0</td>\n",
       "    </tr>\n",
       "    <tr>\n",
       "      <th>...</th>\n",
       "      <td>...</td>\n",
       "      <td>...</td>\n",
       "      <td>...</td>\n",
       "      <td>...</td>\n",
       "      <td>...</td>\n",
       "      <td>...</td>\n",
       "      <td>...</td>\n",
       "      <td>...</td>\n",
       "      <td>...</td>\n",
       "    </tr>\n",
       "    <tr>\n",
       "      <th>935557</th>\n",
       "      <td>0</td>\n",
       "      <td>0</td>\n",
       "      <td>0</td>\n",
       "      <td>0</td>\n",
       "      <td>0</td>\n",
       "      <td>1</td>\n",
       "      <td>0</td>\n",
       "      <td>0</td>\n",
       "      <td>0</td>\n",
       "    </tr>\n",
       "    <tr>\n",
       "      <th>935558</th>\n",
       "      <td>0</td>\n",
       "      <td>0</td>\n",
       "      <td>0</td>\n",
       "      <td>0</td>\n",
       "      <td>0</td>\n",
       "      <td>1</td>\n",
       "      <td>0</td>\n",
       "      <td>0</td>\n",
       "      <td>0</td>\n",
       "    </tr>\n",
       "    <tr>\n",
       "      <th>935559</th>\n",
       "      <td>0</td>\n",
       "      <td>0</td>\n",
       "      <td>0</td>\n",
       "      <td>0</td>\n",
       "      <td>0</td>\n",
       "      <td>1</td>\n",
       "      <td>0</td>\n",
       "      <td>0</td>\n",
       "      <td>0</td>\n",
       "    </tr>\n",
       "    <tr>\n",
       "      <th>935560</th>\n",
       "      <td>0</td>\n",
       "      <td>0</td>\n",
       "      <td>0</td>\n",
       "      <td>0</td>\n",
       "      <td>0</td>\n",
       "      <td>1</td>\n",
       "      <td>0</td>\n",
       "      <td>0</td>\n",
       "      <td>0</td>\n",
       "    </tr>\n",
       "    <tr>\n",
       "      <th>935561</th>\n",
       "      <td>0</td>\n",
       "      <td>0</td>\n",
       "      <td>0</td>\n",
       "      <td>0</td>\n",
       "      <td>0</td>\n",
       "      <td>1</td>\n",
       "      <td>0</td>\n",
       "      <td>0</td>\n",
       "      <td>0</td>\n",
       "    </tr>\n",
       "    <tr>\n",
       "      <th>935562</th>\n",
       "      <td>0</td>\n",
       "      <td>0</td>\n",
       "      <td>0</td>\n",
       "      <td>0</td>\n",
       "      <td>0</td>\n",
       "      <td>1</td>\n",
       "      <td>0</td>\n",
       "      <td>0</td>\n",
       "      <td>0</td>\n",
       "    </tr>\n",
       "    <tr>\n",
       "      <th>935563</th>\n",
       "      <td>0</td>\n",
       "      <td>0</td>\n",
       "      <td>0</td>\n",
       "      <td>0</td>\n",
       "      <td>0</td>\n",
       "      <td>1</td>\n",
       "      <td>0</td>\n",
       "      <td>0</td>\n",
       "      <td>0</td>\n",
       "    </tr>\n",
       "    <tr>\n",
       "      <th>935564</th>\n",
       "      <td>0</td>\n",
       "      <td>0</td>\n",
       "      <td>0</td>\n",
       "      <td>0</td>\n",
       "      <td>0</td>\n",
       "      <td>1</td>\n",
       "      <td>0</td>\n",
       "      <td>0</td>\n",
       "      <td>0</td>\n",
       "    </tr>\n",
       "    <tr>\n",
       "      <th>935565</th>\n",
       "      <td>0</td>\n",
       "      <td>0</td>\n",
       "      <td>0</td>\n",
       "      <td>0</td>\n",
       "      <td>0</td>\n",
       "      <td>1</td>\n",
       "      <td>0</td>\n",
       "      <td>0</td>\n",
       "      <td>0</td>\n",
       "    </tr>\n",
       "    <tr>\n",
       "      <th>935566</th>\n",
       "      <td>0</td>\n",
       "      <td>0</td>\n",
       "      <td>0</td>\n",
       "      <td>0</td>\n",
       "      <td>0</td>\n",
       "      <td>1</td>\n",
       "      <td>0</td>\n",
       "      <td>0</td>\n",
       "      <td>0</td>\n",
       "    </tr>\n",
       "    <tr>\n",
       "      <th>935567</th>\n",
       "      <td>0</td>\n",
       "      <td>0</td>\n",
       "      <td>0</td>\n",
       "      <td>0</td>\n",
       "      <td>0</td>\n",
       "      <td>1</td>\n",
       "      <td>0</td>\n",
       "      <td>0</td>\n",
       "      <td>0</td>\n",
       "    </tr>\n",
       "    <tr>\n",
       "      <th>935568</th>\n",
       "      <td>0</td>\n",
       "      <td>0</td>\n",
       "      <td>0</td>\n",
       "      <td>0</td>\n",
       "      <td>0</td>\n",
       "      <td>1</td>\n",
       "      <td>0</td>\n",
       "      <td>0</td>\n",
       "      <td>0</td>\n",
       "    </tr>\n",
       "    <tr>\n",
       "      <th>935569</th>\n",
       "      <td>0</td>\n",
       "      <td>0</td>\n",
       "      <td>0</td>\n",
       "      <td>0</td>\n",
       "      <td>0</td>\n",
       "      <td>1</td>\n",
       "      <td>0</td>\n",
       "      <td>0</td>\n",
       "      <td>0</td>\n",
       "    </tr>\n",
       "    <tr>\n",
       "      <th>935570</th>\n",
       "      <td>0</td>\n",
       "      <td>0</td>\n",
       "      <td>0</td>\n",
       "      <td>0</td>\n",
       "      <td>0</td>\n",
       "      <td>1</td>\n",
       "      <td>0</td>\n",
       "      <td>0</td>\n",
       "      <td>0</td>\n",
       "    </tr>\n",
       "    <tr>\n",
       "      <th>935571</th>\n",
       "      <td>0</td>\n",
       "      <td>0</td>\n",
       "      <td>0</td>\n",
       "      <td>0</td>\n",
       "      <td>0</td>\n",
       "      <td>1</td>\n",
       "      <td>0</td>\n",
       "      <td>0</td>\n",
       "      <td>0</td>\n",
       "    </tr>\n",
       "    <tr>\n",
       "      <th>935572</th>\n",
       "      <td>0</td>\n",
       "      <td>0</td>\n",
       "      <td>0</td>\n",
       "      <td>0</td>\n",
       "      <td>0</td>\n",
       "      <td>1</td>\n",
       "      <td>0</td>\n",
       "      <td>0</td>\n",
       "      <td>0</td>\n",
       "    </tr>\n",
       "    <tr>\n",
       "      <th>935573</th>\n",
       "      <td>0</td>\n",
       "      <td>0</td>\n",
       "      <td>0</td>\n",
       "      <td>0</td>\n",
       "      <td>0</td>\n",
       "      <td>1</td>\n",
       "      <td>0</td>\n",
       "      <td>0</td>\n",
       "      <td>0</td>\n",
       "    </tr>\n",
       "    <tr>\n",
       "      <th>935574</th>\n",
       "      <td>0</td>\n",
       "      <td>0</td>\n",
       "      <td>0</td>\n",
       "      <td>0</td>\n",
       "      <td>0</td>\n",
       "      <td>1</td>\n",
       "      <td>0</td>\n",
       "      <td>0</td>\n",
       "      <td>0</td>\n",
       "    </tr>\n",
       "    <tr>\n",
       "      <th>935575</th>\n",
       "      <td>0</td>\n",
       "      <td>0</td>\n",
       "      <td>0</td>\n",
       "      <td>0</td>\n",
       "      <td>0</td>\n",
       "      <td>1</td>\n",
       "      <td>0</td>\n",
       "      <td>0</td>\n",
       "      <td>0</td>\n",
       "    </tr>\n",
       "    <tr>\n",
       "      <th>935576</th>\n",
       "      <td>0</td>\n",
       "      <td>0</td>\n",
       "      <td>0</td>\n",
       "      <td>0</td>\n",
       "      <td>0</td>\n",
       "      <td>1</td>\n",
       "      <td>0</td>\n",
       "      <td>0</td>\n",
       "      <td>0</td>\n",
       "    </tr>\n",
       "    <tr>\n",
       "      <th>935577</th>\n",
       "      <td>0</td>\n",
       "      <td>0</td>\n",
       "      <td>0</td>\n",
       "      <td>0</td>\n",
       "      <td>0</td>\n",
       "      <td>1</td>\n",
       "      <td>0</td>\n",
       "      <td>0</td>\n",
       "      <td>0</td>\n",
       "    </tr>\n",
       "    <tr>\n",
       "      <th>935578</th>\n",
       "      <td>0</td>\n",
       "      <td>0</td>\n",
       "      <td>0</td>\n",
       "      <td>0</td>\n",
       "      <td>0</td>\n",
       "      <td>1</td>\n",
       "      <td>0</td>\n",
       "      <td>0</td>\n",
       "      <td>0</td>\n",
       "    </tr>\n",
       "    <tr>\n",
       "      <th>935579</th>\n",
       "      <td>0</td>\n",
       "      <td>0</td>\n",
       "      <td>0</td>\n",
       "      <td>0</td>\n",
       "      <td>0</td>\n",
       "      <td>1</td>\n",
       "      <td>0</td>\n",
       "      <td>0</td>\n",
       "      <td>0</td>\n",
       "    </tr>\n",
       "    <tr>\n",
       "      <th>935580</th>\n",
       "      <td>0</td>\n",
       "      <td>0</td>\n",
       "      <td>0</td>\n",
       "      <td>0</td>\n",
       "      <td>0</td>\n",
       "      <td>1</td>\n",
       "      <td>0</td>\n",
       "      <td>0</td>\n",
       "      <td>0</td>\n",
       "    </tr>\n",
       "    <tr>\n",
       "      <th>935581</th>\n",
       "      <td>0</td>\n",
       "      <td>0</td>\n",
       "      <td>0</td>\n",
       "      <td>0</td>\n",
       "      <td>0</td>\n",
       "      <td>1</td>\n",
       "      <td>0</td>\n",
       "      <td>0</td>\n",
       "      <td>0</td>\n",
       "    </tr>\n",
       "    <tr>\n",
       "      <th>935582</th>\n",
       "      <td>0</td>\n",
       "      <td>0</td>\n",
       "      <td>0</td>\n",
       "      <td>0</td>\n",
       "      <td>0</td>\n",
       "      <td>1</td>\n",
       "      <td>0</td>\n",
       "      <td>0</td>\n",
       "      <td>0</td>\n",
       "    </tr>\n",
       "    <tr>\n",
       "      <th>935583</th>\n",
       "      <td>0</td>\n",
       "      <td>0</td>\n",
       "      <td>0</td>\n",
       "      <td>0</td>\n",
       "      <td>0</td>\n",
       "      <td>1</td>\n",
       "      <td>0</td>\n",
       "      <td>0</td>\n",
       "      <td>0</td>\n",
       "    </tr>\n",
       "    <tr>\n",
       "      <th>935584</th>\n",
       "      <td>0</td>\n",
       "      <td>0</td>\n",
       "      <td>0</td>\n",
       "      <td>0</td>\n",
       "      <td>0</td>\n",
       "      <td>1</td>\n",
       "      <td>0</td>\n",
       "      <td>0</td>\n",
       "      <td>0</td>\n",
       "    </tr>\n",
       "    <tr>\n",
       "      <th>935585</th>\n",
       "      <td>0</td>\n",
       "      <td>0</td>\n",
       "      <td>0</td>\n",
       "      <td>0</td>\n",
       "      <td>0</td>\n",
       "      <td>1</td>\n",
       "      <td>0</td>\n",
       "      <td>0</td>\n",
       "      <td>0</td>\n",
       "    </tr>\n",
       "    <tr>\n",
       "      <th>935586</th>\n",
       "      <td>0</td>\n",
       "      <td>0</td>\n",
       "      <td>0</td>\n",
       "      <td>0</td>\n",
       "      <td>0</td>\n",
       "      <td>1</td>\n",
       "      <td>0</td>\n",
       "      <td>0</td>\n",
       "      <td>0</td>\n",
       "    </tr>\n",
       "  </tbody>\n",
       "</table>\n",
       "<p>935587 rows × 9 columns</p>\n",
       "</div>"
      ],
      "text/plain": [
       "        Clear  Haze  Heavy Rain  Light Rain  Mostly Cloudy  Overcast  \\\n",
       "0           0     0           0           0              0         1   \n",
       "1           0     0           0           0              0         1   \n",
       "2           0     0           0           0              0         1   \n",
       "3           0     0           0           0              0         1   \n",
       "4           0     0           0           0              0         1   \n",
       "5           0     0           0           0              0         1   \n",
       "6           0     0           0           0              0         1   \n",
       "7           0     0           0           0              0         1   \n",
       "8           0     0           0           0              0         1   \n",
       "9           0     0           0           0              0         1   \n",
       "10          0     0           0           0              0         1   \n",
       "11          0     0           0           0              0         1   \n",
       "12          0     0           0           0              0         1   \n",
       "13          0     0           0           0              0         1   \n",
       "14          0     0           0           0              0         1   \n",
       "15          0     0           0           0              0         1   \n",
       "16          0     0           0           0              0         1   \n",
       "17          0     0           0           0              0         1   \n",
       "18          0     0           0           0              0         1   \n",
       "19          0     0           0           0              0         1   \n",
       "20          0     0           0           0              0         1   \n",
       "21          0     0           0           0              0         1   \n",
       "22          0     0           0           0              0         1   \n",
       "23          0     0           0           0              0         1   \n",
       "24          0     0           0           0              0         1   \n",
       "25          0     0           0           0              0         1   \n",
       "26          0     0           0           0              0         1   \n",
       "27          0     0           0           0              0         1   \n",
       "28          0     0           0           0              0         1   \n",
       "29          0     0           0           0              0         1   \n",
       "...       ...   ...         ...         ...            ...       ...   \n",
       "935557      0     0           0           0              0         1   \n",
       "935558      0     0           0           0              0         1   \n",
       "935559      0     0           0           0              0         1   \n",
       "935560      0     0           0           0              0         1   \n",
       "935561      0     0           0           0              0         1   \n",
       "935562      0     0           0           0              0         1   \n",
       "935563      0     0           0           0              0         1   \n",
       "935564      0     0           0           0              0         1   \n",
       "935565      0     0           0           0              0         1   \n",
       "935566      0     0           0           0              0         1   \n",
       "935567      0     0           0           0              0         1   \n",
       "935568      0     0           0           0              0         1   \n",
       "935569      0     0           0           0              0         1   \n",
       "935570      0     0           0           0              0         1   \n",
       "935571      0     0           0           0              0         1   \n",
       "935572      0     0           0           0              0         1   \n",
       "935573      0     0           0           0              0         1   \n",
       "935574      0     0           0           0              0         1   \n",
       "935575      0     0           0           0              0         1   \n",
       "935576      0     0           0           0              0         1   \n",
       "935577      0     0           0           0              0         1   \n",
       "935578      0     0           0           0              0         1   \n",
       "935579      0     0           0           0              0         1   \n",
       "935580      0     0           0           0              0         1   \n",
       "935581      0     0           0           0              0         1   \n",
       "935582      0     0           0           0              0         1   \n",
       "935583      0     0           0           0              0         1   \n",
       "935584      0     0           0           0              0         1   \n",
       "935585      0     0           0           0              0         1   \n",
       "935586      0     0           0           0              0         1   \n",
       "\n",
       "        Partly Cloudy  Rain  Scattered Clouds  \n",
       "0                   0     0                 0  \n",
       "1                   0     0                 0  \n",
       "2                   0     0                 0  \n",
       "3                   0     0                 0  \n",
       "4                   0     0                 0  \n",
       "5                   0     0                 0  \n",
       "6                   0     0                 0  \n",
       "7                   0     0                 0  \n",
       "8                   0     0                 0  \n",
       "9                   0     0                 0  \n",
       "10                  0     0                 0  \n",
       "11                  0     0                 0  \n",
       "12                  0     0                 0  \n",
       "13                  0     0                 0  \n",
       "14                  0     0                 0  \n",
       "15                  0     0                 0  \n",
       "16                  0     0                 0  \n",
       "17                  0     0                 0  \n",
       "18                  0     0                 0  \n",
       "19                  0     0                 0  \n",
       "20                  0     0                 0  \n",
       "21                  0     0                 0  \n",
       "22                  0     0                 0  \n",
       "23                  0     0                 0  \n",
       "24                  0     0                 0  \n",
       "25                  0     0                 0  \n",
       "26                  0     0                 0  \n",
       "27                  0     0                 0  \n",
       "28                  0     0                 0  \n",
       "29                  0     0                 0  \n",
       "...               ...   ...               ...  \n",
       "935557              0     0                 0  \n",
       "935558              0     0                 0  \n",
       "935559              0     0                 0  \n",
       "935560              0     0                 0  \n",
       "935561              0     0                 0  \n",
       "935562              0     0                 0  \n",
       "935563              0     0                 0  \n",
       "935564              0     0                 0  \n",
       "935565              0     0                 0  \n",
       "935566              0     0                 0  \n",
       "935567              0     0                 0  \n",
       "935568              0     0                 0  \n",
       "935569              0     0                 0  \n",
       "935570              0     0                 0  \n",
       "935571              0     0                 0  \n",
       "935572              0     0                 0  \n",
       "935573              0     0                 0  \n",
       "935574              0     0                 0  \n",
       "935575              0     0                 0  \n",
       "935576              0     0                 0  \n",
       "935577              0     0                 0  \n",
       "935578              0     0                 0  \n",
       "935579              0     0                 0  \n",
       "935580              0     0                 0  \n",
       "935581              0     0                 0  \n",
       "935582              0     0                 0  \n",
       "935583              0     0                 0  \n",
       "935584              0     0                 0  \n",
       "935585              0     0                 0  \n",
       "935586              0     0                 0  \n",
       "\n",
       "[935587 rows x 9 columns]"
      ]
     },
     "execution_count": 19,
     "metadata": {},
     "output_type": "execute_result"
    }
   ],
   "source": [
    "#### TRY HERE TO DUMMY-ENCODE WEATHER CONDITIONS OF THE DATASET, USING pd.get_dummies(data.Conditions) ####\n",
    "pd.get_dummies(data['Conditions'])"
   ]
  },
  {
   "cell_type": "markdown",
   "metadata": {},
   "source": [
    "### <font color='red'>1.2) Print the names of the columns of the dataset using <i>data.columns</i>. Which ones should be dummified ?</font>"
   ]
  },
  {
   "cell_type": "code",
   "execution_count": 18,
   "metadata": {
    "collapsed": false
   },
   "outputs": [
    {
     "data": {
      "text/plain": [
       "Index([u'tripduration', u'starttime', u'stoptime', u'start station id',\n",
       "       u'start station name', u'start station latitude',\n",
       "       u'start station longitude', u'end station id', u'end station name',\n",
       "       u'end station latitude', u'end station longitude', u'bikeid',\n",
       "       u'usertype', u'birth year', u'gender', u'Precipitationmm',\n",
       "       u'Conditions', u'TemperatureC', u'total_docks_start',\n",
       "       u'total_docks_end', u'start_day', u'is_weekend', u'start_moment',\n",
       "       u'is_rainy', u'is_circle_trip', u'june_day', u'traveled_distance',\n",
       "       u'average_speed'],\n",
       "      dtype='object')"
      ]
     },
     "execution_count": 18,
     "metadata": {},
     "output_type": "execute_result"
    }
   ],
   "source": [
    "data.columns"
   ]
  },
  {
   "cell_type": "markdown",
   "metadata": {},
   "source": [
    "### <font color='red'>1.3) Fill in the following loop so you append to the existing DataFrame the newly created dummy columns</font>"
   ]
  },
  {
   "cell_type": "code",
   "execution_count": 20,
   "metadata": {
    "collapsed": false,
    "scrolled": true
   },
   "outputs": [
    {
     "name": "stdout",
     "output_type": "stream",
     "text": [
      "Dummifying the Conditions variable ...\n",
      "Dummifying the start_day variable ...\n",
      "Dummifying the is_weekend variable ...\n",
      "Dummifying the start_moment variable ...\n",
      "Dummifying the is_rainy variable ...\n",
      "Dummifying the is_circle_trip variable ...\n"
     ]
    }
   ],
   "source": [
    "for variable_name in ['Conditions','start_day','is_weekend',\n",
    "                      'start_moment','is_rainy','is_circle_trip']:\n",
    "    print 'Dummifying the {} variable ...'.format(variable_name)\n",
    "    \n",
    "    dummies = pd.get_dummies(data[variable_name])\n",
    "    \n",
    "    dummies.columns = ['{}_{}'.format(variable_name,x) for x in dummies.columns]  # this will rename the column\n",
    "                                                                                  # in an appropriate way\n",
    "        \n",
    "    data = pd.concat([data,dummies],axis=1)  # This will append the dummy column to the existing dataframe"
   ]
  },
  {
   "cell_type": "markdown",
   "metadata": {},
   "source": [
    "### <font color='red'>1.4) Once you are sure that the dummy columns have been created (check by printing samples), delete the old columns</font>"
   ]
  },
  {
   "cell_type": "code",
   "execution_count": 23,
   "metadata": {
    "collapsed": false
   },
   "outputs": [
    {
     "data": {
      "text/html": [
       "<div>\n",
       "<table border=\"1\" class=\"dataframe\">\n",
       "  <thead>\n",
       "    <tr style=\"text-align: right;\">\n",
       "      <th></th>\n",
       "      <th>tripduration</th>\n",
       "      <th>starttime</th>\n",
       "      <th>stoptime</th>\n",
       "      <th>start station id</th>\n",
       "      <th>start station name</th>\n",
       "      <th>start station latitude</th>\n",
       "      <th>start station longitude</th>\n",
       "      <th>end station id</th>\n",
       "      <th>end station name</th>\n",
       "      <th>end station latitude</th>\n",
       "      <th>...</th>\n",
       "      <th>is_weekend_False</th>\n",
       "      <th>is_weekend_True</th>\n",
       "      <th>start_moment_afternoon</th>\n",
       "      <th>start_moment_evening</th>\n",
       "      <th>start_moment_morning</th>\n",
       "      <th>start_moment_night</th>\n",
       "      <th>is_rainy_False</th>\n",
       "      <th>is_rainy_True</th>\n",
       "      <th>is_circle_trip_False</th>\n",
       "      <th>is_circle_trip_True</th>\n",
       "    </tr>\n",
       "  </thead>\n",
       "  <tbody>\n",
       "    <tr>\n",
       "      <th>284091</th>\n",
       "      <td>736</td>\n",
       "      <td>2015-06-10 19:44:00</td>\n",
       "      <td>2015-06-10 19:56:00</td>\n",
       "      <td>483</td>\n",
       "      <td>E 12 St &amp; 3 Ave</td>\n",
       "      <td>40.732233</td>\n",
       "      <td>-73.988900</td>\n",
       "      <td>511</td>\n",
       "      <td>E 14 St &amp; Avenue B</td>\n",
       "      <td>40.729387</td>\n",
       "      <td>...</td>\n",
       "      <td>1</td>\n",
       "      <td>0</td>\n",
       "      <td>0</td>\n",
       "      <td>1</td>\n",
       "      <td>0</td>\n",
       "      <td>0</td>\n",
       "      <td>1</td>\n",
       "      <td>0</td>\n",
       "      <td>1</td>\n",
       "      <td>0</td>\n",
       "    </tr>\n",
       "    <tr>\n",
       "      <th>129378</th>\n",
       "      <td>1749</td>\n",
       "      <td>2015-06-06 11:03:00</td>\n",
       "      <td>2015-06-06 11:32:00</td>\n",
       "      <td>321</td>\n",
       "      <td>Cadman Plaza E &amp; Red Cross Pl</td>\n",
       "      <td>40.699918</td>\n",
       "      <td>-73.989718</td>\n",
       "      <td>387</td>\n",
       "      <td>Centre St &amp; Chambers St</td>\n",
       "      <td>40.712733</td>\n",
       "      <td>...</td>\n",
       "      <td>0</td>\n",
       "      <td>1</td>\n",
       "      <td>0</td>\n",
       "      <td>0</td>\n",
       "      <td>1</td>\n",
       "      <td>0</td>\n",
       "      <td>1</td>\n",
       "      <td>0</td>\n",
       "      <td>1</td>\n",
       "      <td>0</td>\n",
       "    </tr>\n",
       "    <tr>\n",
       "      <th>75548</th>\n",
       "      <td>480</td>\n",
       "      <td>2015-06-04 13:50:00</td>\n",
       "      <td>2015-06-04 13:58:00</td>\n",
       "      <td>263</td>\n",
       "      <td>Elizabeth St &amp; Hester St</td>\n",
       "      <td>40.717290</td>\n",
       "      <td>-73.996375</td>\n",
       "      <td>329</td>\n",
       "      <td>Greenwich St &amp; N Moore St</td>\n",
       "      <td>40.720434</td>\n",
       "      <td>...</td>\n",
       "      <td>1</td>\n",
       "      <td>0</td>\n",
       "      <td>1</td>\n",
       "      <td>0</td>\n",
       "      <td>0</td>\n",
       "      <td>0</td>\n",
       "      <td>1</td>\n",
       "      <td>0</td>\n",
       "      <td>1</td>\n",
       "      <td>0</td>\n",
       "    </tr>\n",
       "  </tbody>\n",
       "</table>\n",
       "<p>3 rows × 54 columns</p>\n",
       "</div>"
      ],
      "text/plain": [
       "        tripduration            starttime             stoptime  \\\n",
       "284091           736  2015-06-10 19:44:00  2015-06-10 19:56:00   \n",
       "129378          1749  2015-06-06 11:03:00  2015-06-06 11:32:00   \n",
       "75548            480  2015-06-04 13:50:00  2015-06-04 13:58:00   \n",
       "\n",
       "        start station id             start station name  \\\n",
       "284091               483                E 12 St & 3 Ave   \n",
       "129378               321  Cadman Plaza E & Red Cross Pl   \n",
       "75548                263       Elizabeth St & Hester St   \n",
       "\n",
       "        start station latitude  start station longitude  end station id  \\\n",
       "284091               40.732233               -73.988900             511   \n",
       "129378               40.699918               -73.989718             387   \n",
       "75548                40.717290               -73.996375             329   \n",
       "\n",
       "                 end station name  end station latitude         ...           \\\n",
       "284091         E 14 St & Avenue B             40.729387         ...            \n",
       "129378    Centre St & Chambers St             40.712733         ...            \n",
       "75548   Greenwich St & N Moore St             40.720434         ...            \n",
       "\n",
       "        is_weekend_False  is_weekend_True start_moment_afternoon  \\\n",
       "284091                 1                0                      0   \n",
       "129378                 0                1                      0   \n",
       "75548                  1                0                      1   \n",
       "\n",
       "        start_moment_evening  start_moment_morning  start_moment_night  \\\n",
       "284091                     1                     0                   0   \n",
       "129378                     0                     1                   0   \n",
       "75548                      0                     0                   0   \n",
       "\n",
       "       is_rainy_False  is_rainy_True  is_circle_trip_False  \\\n",
       "284091              1              0                     1   \n",
       "129378              1              0                     1   \n",
       "75548               1              0                     1   \n",
       "\n",
       "        is_circle_trip_True  \n",
       "284091                    0  \n",
       "129378                    0  \n",
       "75548                     0  \n",
       "\n",
       "[3 rows x 54 columns]"
      ]
     },
     "execution_count": 23,
     "metadata": {},
     "output_type": "execute_result"
    }
   ],
   "source": [
    "#### CHECK THAT DUMMIFICATION IS SUCCESSFUL BY PRINTING SAMPLES AND COLUMNS NAMES ####\n",
    "data.sample(3)"
   ]
  },
  {
   "cell_type": "code",
   "execution_count": 24,
   "metadata": {
    "collapsed": false,
    "scrolled": true
   },
   "outputs": [
    {
     "name": "stdout",
     "output_type": "stream",
     "text": [
      "Deleting the Conditions variable ...\n",
      "Deleting the start_day variable ...\n",
      "Deleting the is_weekend variable ...\n",
      "Deleting the start_moment variable ...\n",
      "Deleting the is_rainy variable ...\n",
      "Deleting the is_circle_trip variable ...\n"
     ]
    }
   ],
   "source": [
    "for variable_name in ['Conditions','start_day','is_weekend',\n",
    "                      'start_moment','is_rainy','is_circle_trip']:\n",
    "    print 'Deleting the {} variable ...'.format(variable_name)\n",
    "    data.drop(variable_name, axis=1, inplace=True)"
   ]
  },
  {
   "cell_type": "markdown",
   "metadata": {},
   "source": [
    "## 2) Correlation matrix <font color='blue'> (10 min) </font>"
   ]
  },
  {
   "cell_type": "markdown",
   "metadata": {},
   "source": [
    "### <font color='red'>2.1) Using the <i>.corr()</i> method on <i>data</i>, print samples of the Pearson correlations between features within the dataset</font>"
   ]
  },
  {
   "cell_type": "code",
   "execution_count": 27,
   "metadata": {
    "collapsed": false
   },
   "outputs": [],
   "source": [
    "corr = data.corr()"
   ]
  },
  {
   "cell_type": "code",
   "execution_count": 30,
   "metadata": {
    "collapsed": false
   },
   "outputs": [
    {
     "data": {
      "text/html": [
       "<div>\n",
       "<table border=\"1\" class=\"dataframe\">\n",
       "  <thead>\n",
       "    <tr style=\"text-align: right;\">\n",
       "      <th></th>\n",
       "      <th>tripduration</th>\n",
       "      <th>start station id</th>\n",
       "      <th>start station latitude</th>\n",
       "      <th>start station longitude</th>\n",
       "      <th>end station id</th>\n",
       "      <th>end station latitude</th>\n",
       "      <th>end station longitude</th>\n",
       "      <th>bikeid</th>\n",
       "      <th>birth year</th>\n",
       "      <th>gender</th>\n",
       "      <th>...</th>\n",
       "      <th>is_weekend_False</th>\n",
       "      <th>is_weekend_True</th>\n",
       "      <th>start_moment_afternoon</th>\n",
       "      <th>start_moment_evening</th>\n",
       "      <th>start_moment_morning</th>\n",
       "      <th>start_moment_night</th>\n",
       "      <th>is_rainy_False</th>\n",
       "      <th>is_rainy_True</th>\n",
       "      <th>is_circle_trip_False</th>\n",
       "      <th>is_circle_trip_True</th>\n",
       "    </tr>\n",
       "  </thead>\n",
       "  <tbody>\n",
       "    <tr>\n",
       "      <th>Conditions_Haze</th>\n",
       "      <td>-0.011015</td>\n",
       "      <td>-0.000189</td>\n",
       "      <td>0.008798</td>\n",
       "      <td>0.008469</td>\n",
       "      <td>0.001968</td>\n",
       "      <td>0.013202</td>\n",
       "      <td>-0.002557</td>\n",
       "      <td>-0.005471</td>\n",
       "      <td>-0.022058</td>\n",
       "      <td>0.012089</td>\n",
       "      <td>...</td>\n",
       "      <td>0.122638</td>\n",
       "      <td>-0.122638</td>\n",
       "      <td>0.039198</td>\n",
       "      <td>-0.071799</td>\n",
       "      <td>0.043483</td>\n",
       "      <td>-0.062226</td>\n",
       "      <td>0.016986</td>\n",
       "      <td>-0.016986</td>\n",
       "      <td>0.003054</td>\n",
       "      <td>-0.003054</td>\n",
       "    </tr>\n",
       "    <tr>\n",
       "      <th>end station id</th>\n",
       "      <td>0.075309</td>\n",
       "      <td>0.068910</td>\n",
       "      <td>0.056839</td>\n",
       "      <td>0.000462</td>\n",
       "      <td>1.000000</td>\n",
       "      <td>0.071791</td>\n",
       "      <td>0.035038</td>\n",
       "      <td>0.000810</td>\n",
       "      <td>-0.003005</td>\n",
       "      <td>-0.041651</td>\n",
       "      <td>...</td>\n",
       "      <td>-0.007235</td>\n",
       "      <td>0.007235</td>\n",
       "      <td>0.006215</td>\n",
       "      <td>-0.009527</td>\n",
       "      <td>0.003154</td>\n",
       "      <td>-0.004654</td>\n",
       "      <td>0.000665</td>\n",
       "      <td>-0.000665</td>\n",
       "      <td>-0.062659</td>\n",
       "      <td>0.062659</td>\n",
       "    </tr>\n",
       "    <tr>\n",
       "      <th>start_day_Tuesday</th>\n",
       "      <td>-0.039011</td>\n",
       "      <td>-0.004242</td>\n",
       "      <td>0.018504</td>\n",
       "      <td>0.011686</td>\n",
       "      <td>-0.003218</td>\n",
       "      <td>0.017259</td>\n",
       "      <td>0.008886</td>\n",
       "      <td>-0.001085</td>\n",
       "      <td>-0.013927</td>\n",
       "      <td>0.029990</td>\n",
       "      <td>...</td>\n",
       "      <td>0.226178</td>\n",
       "      <td>-0.226178</td>\n",
       "      <td>-0.036905</td>\n",
       "      <td>0.005293</td>\n",
       "      <td>0.040808</td>\n",
       "      <td>-0.015382</td>\n",
       "      <td>-0.098925</td>\n",
       "      <td>0.098925</td>\n",
       "      <td>0.011704</td>\n",
       "      <td>-0.011704</td>\n",
       "    </tr>\n",
       "    <tr>\n",
       "      <th>start_day_Friday</th>\n",
       "      <td>-0.008142</td>\n",
       "      <td>-0.000799</td>\n",
       "      <td>0.007774</td>\n",
       "      <td>-0.000587</td>\n",
       "      <td>-0.001883</td>\n",
       "      <td>0.008116</td>\n",
       "      <td>-0.002864</td>\n",
       "      <td>-0.002820</td>\n",
       "      <td>-0.007585</td>\n",
       "      <td>0.010475</td>\n",
       "      <td>...</td>\n",
       "      <td>0.219342</td>\n",
       "      <td>-0.219342</td>\n",
       "      <td>0.008660</td>\n",
       "      <td>-0.021065</td>\n",
       "      <td>0.005978</td>\n",
       "      <td>0.004182</td>\n",
       "      <td>0.024960</td>\n",
       "      <td>-0.024960</td>\n",
       "      <td>0.008520</td>\n",
       "      <td>-0.008520</td>\n",
       "    </tr>\n",
       "    <tr>\n",
       "      <th>start_moment_morning</th>\n",
       "      <td>-0.054384</td>\n",
       "      <td>0.004881</td>\n",
       "      <td>0.011183</td>\n",
       "      <td>0.057614</td>\n",
       "      <td>0.003154</td>\n",
       "      <td>0.037519</td>\n",
       "      <td>-0.015920</td>\n",
       "      <td>-0.000970</td>\n",
       "      <td>-0.053051</td>\n",
       "      <td>0.060912</td>\n",
       "      <td>...</td>\n",
       "      <td>0.079119</td>\n",
       "      <td>-0.079119</td>\n",
       "      <td>-0.637687</td>\n",
       "      <td>-0.336920</td>\n",
       "      <td>1.000000</td>\n",
       "      <td>-0.158316</td>\n",
       "      <td>0.032355</td>\n",
       "      <td>-0.032355</td>\n",
       "      <td>0.018151</td>\n",
       "      <td>-0.018151</td>\n",
       "    </tr>\n",
       "  </tbody>\n",
       "</table>\n",
       "<p>5 rows × 43 columns</p>\n",
       "</div>"
      ],
      "text/plain": [
       "                      tripduration  start station id  start station latitude  \\\n",
       "Conditions_Haze          -0.011015         -0.000189                0.008798   \n",
       "end station id            0.075309          0.068910                0.056839   \n",
       "start_day_Tuesday        -0.039011         -0.004242                0.018504   \n",
       "start_day_Friday         -0.008142         -0.000799                0.007774   \n",
       "start_moment_morning     -0.054384          0.004881                0.011183   \n",
       "\n",
       "                      start station longitude  end station id  \\\n",
       "Conditions_Haze                      0.008469        0.001968   \n",
       "end station id                       0.000462        1.000000   \n",
       "start_day_Tuesday                    0.011686       -0.003218   \n",
       "start_day_Friday                    -0.000587       -0.001883   \n",
       "start_moment_morning                 0.057614        0.003154   \n",
       "\n",
       "                      end station latitude  end station longitude    bikeid  \\\n",
       "Conditions_Haze                   0.013202              -0.002557 -0.005471   \n",
       "end station id                    0.071791               0.035038  0.000810   \n",
       "start_day_Tuesday                 0.017259               0.008886 -0.001085   \n",
       "start_day_Friday                  0.008116              -0.002864 -0.002820   \n",
       "start_moment_morning              0.037519              -0.015920 -0.000970   \n",
       "\n",
       "                      birth year    gender         ...           \\\n",
       "Conditions_Haze        -0.022058  0.012089         ...            \n",
       "end station id         -0.003005 -0.041651         ...            \n",
       "start_day_Tuesday      -0.013927  0.029990         ...            \n",
       "start_day_Friday       -0.007585  0.010475         ...            \n",
       "start_moment_morning   -0.053051  0.060912         ...            \n",
       "\n",
       "                      is_weekend_False  is_weekend_True  \\\n",
       "Conditions_Haze               0.122638        -0.122638   \n",
       "end station id               -0.007235         0.007235   \n",
       "start_day_Tuesday             0.226178        -0.226178   \n",
       "start_day_Friday              0.219342        -0.219342   \n",
       "start_moment_morning          0.079119        -0.079119   \n",
       "\n",
       "                      start_moment_afternoon  start_moment_evening  \\\n",
       "Conditions_Haze                     0.039198             -0.071799   \n",
       "end station id                      0.006215             -0.009527   \n",
       "start_day_Tuesday                  -0.036905              0.005293   \n",
       "start_day_Friday                    0.008660             -0.021065   \n",
       "start_moment_morning               -0.637687             -0.336920   \n",
       "\n",
       "                      start_moment_morning  start_moment_night  \\\n",
       "Conditions_Haze                   0.043483           -0.062226   \n",
       "end station id                    0.003154           -0.004654   \n",
       "start_day_Tuesday                 0.040808           -0.015382   \n",
       "start_day_Friday                  0.005978            0.004182   \n",
       "start_moment_morning              1.000000           -0.158316   \n",
       "\n",
       "                      is_rainy_False  is_rainy_True  is_circle_trip_False  \\\n",
       "Conditions_Haze             0.016986      -0.016986              0.003054   \n",
       "end station id              0.000665      -0.000665             -0.062659   \n",
       "start_day_Tuesday          -0.098925       0.098925              0.011704   \n",
       "start_day_Friday            0.024960      -0.024960              0.008520   \n",
       "start_moment_morning        0.032355      -0.032355              0.018151   \n",
       "\n",
       "                      is_circle_trip_True  \n",
       "Conditions_Haze                 -0.003054  \n",
       "end station id                   0.062659  \n",
       "start_day_Tuesday               -0.011704  \n",
       "start_day_Friday                -0.008520  \n",
       "start_moment_morning            -0.018151  \n",
       "\n",
       "[5 rows x 43 columns]"
      ]
     },
     "execution_count": 30,
     "metadata": {},
     "output_type": "execute_result"
    }
   ],
   "source": [
    "#### PRINT SAMPLES OF THE CORRELATIONS HERE ####\n",
    "corr.sample(5)"
   ]
  },
  {
   "cell_type": "markdown",
   "metadata": {},
   "source": [
    "### <font color='red'>2.2) Using the <i>sns.heatmap()</i> function of seaborn, plot the Pearson correlations between features. You can refer to https://stanford.edu/~mwaskom/software/seaborn/generated/seaborn.heatmap.html to add a mask and make the plot look better</font>"
   ]
  },
  {
   "cell_type": "code",
   "execution_count": 33,
   "metadata": {
    "collapsed": false
   },
   "outputs": [
    {
     "data": {
      "image/png": "[encoded data removed]",
      "text/plain": [
       "<matplotlib.figure.Figure at 0x1057e2f90>"
      ]
     },
     "metadata": {},
     "output_type": "display_data"
    }
   ],
   "source": [
    "plt.figure(figsize=(12,12))\n",
    "mask = np.zeros_like(corr)\n",
    "mask[np.triu_indices_from(mask)] = True\n",
    "with sns.axes_style(\"white\"):\n",
    "    ax = sns.heatmap(corr, mask=mask, vmax=.3, square=True)"
   ]
  },
  {
   "cell_type": "markdown",
   "metadata": {},
   "source": [
    "## 3) Cross-validation : trying to predict customer vs. subscriber <font color='blue'> (30 min) </font>"
   ]
  },
  {
   "cell_type": "markdown",
   "metadata": {},
   "source": [
    "### <font color='red'>3.1) Use the <i>seaborn</i> function <i>sns.countplot(data.column_name_here)</i> to countplot the repartition of trips per user type (i.e the <i>usertype</i> column)</font>"
   ]
  },
  {
   "cell_type": "code",
   "execution_count": 35,
   "metadata": {
    "collapsed": false
   },
   "outputs": [
    {
     "data": {
      "text/plain": [
       "<matplotlib.text.Text at 0x10f7b2dd0>"
      ]
     },
     "execution_count": 35,
     "metadata": {},
     "output_type": "execute_result"
    },
    {
     "data": {
      "image/png": "[encoded data removed]",
      "text/plain": [
       "<matplotlib.figure.Figure at 0x1057e1d90>"
      ]
     },
     "metadata": {},
     "output_type": "display_data"
    }
   ],
   "source": [
    "#### COUNTPLOT THE REPARTITION OF TRIPS PER USER TYPE AND ADD A CLEAR TITLE ####\n",
    "\n",
    "sns.countplot(data.usertype)\n",
    "plt.title('users distribution')"
   ]
  },
  {
   "cell_type": "markdown",
   "metadata": {},
   "source": [
    "### <font color='red'> Run the following block, it will delete a few columns for predictive modeling purposes </font>"
   ]
  },
  {
   "cell_type": "code",
   "execution_count": 36,
   "metadata": {
    "collapsed": true
   },
   "outputs": [],
   "source": [
    "del data['starttime'], data['stoptime'], data['start station name'], data['end station name']\n",
    "del data['gender'], data['birth year']\n",
    "del data['bikeid']\n",
    "del data['start station id'], data['end station id']"
   ]
  },
  {
   "cell_type": "markdown",
   "metadata": {},
   "source": [
    "### <font color='red'>3.2) Print the different columns using <i>data.columns</i> </font>"
   ]
  },
  {
   "cell_type": "code",
   "execution_count": 37,
   "metadata": {
    "collapsed": false
   },
   "outputs": [
    {
     "data": {
      "text/plain": [
       "Index([u'tripduration', u'start station latitude', u'start station longitude',\n",
       "       u'end station latitude', u'end station longitude', u'usertype',\n",
       "       u'Precipitationmm', u'TemperatureC', u'total_docks_start',\n",
       "       u'total_docks_end', u'june_day', u'traveled_distance', u'average_speed',\n",
       "       u'Conditions_Clear', u'Conditions_Haze', u'Conditions_Heavy Rain',\n",
       "       u'Conditions_Light Rain', u'Conditions_Mostly Cloudy',\n",
       "       u'Conditions_Overcast', u'Conditions_Partly Cloudy', u'Conditions_Rain',\n",
       "       u'Conditions_Scattered Clouds', u'start_day_Friday',\n",
       "       u'start_day_Monday', u'start_day_Saturday', u'start_day_Sunday',\n",
       "       u'start_day_Thursday', u'start_day_Tuesday', u'start_day_Wednesday',\n",
       "       u'is_weekend_False', u'is_weekend_True', u'start_moment_afternoon',\n",
       "       u'start_moment_evening', u'start_moment_morning', u'start_moment_night',\n",
       "       u'is_rainy_False', u'is_rainy_True', u'is_circle_trip_False',\n",
       "       u'is_circle_trip_True'],\n",
       "      dtype='object')"
      ]
     },
     "execution_count": 37,
     "metadata": {},
     "output_type": "execute_result"
    }
   ],
   "source": [
    "#### PRINT THE COLUMNS OF THE DATASET ####\n",
    "data.columns"
   ]
  },
  {
   "cell_type": "markdown",
   "metadata": {},
   "source": [
    "### <font color='red'>3.3) Run the following block. It builds arrays for the features, as well as the labels. Features will be used to predict the labels. Study their structures.</font>"
   ]
  },
  {
   "cell_type": "code",
   "execution_count": 38,
   "metadata": {
    "collapsed": false
   },
   "outputs": [],
   "source": [
    "labels = np.array(data.usertype)\n",
    "del data['usertype']\n",
    "features = np.array(data)"
   ]
  },
  {
   "cell_type": "code",
   "execution_count": 41,
   "metadata": {
    "collapsed": false
   },
   "outputs": [],
   "source": [
    "#### Study the structure of features and labels ####"
   ]
  },
  {
   "cell_type": "markdown",
   "metadata": {},
   "source": [
    "### <font color='red'>3.4) How many observations/features do we have to make our models ? You can use the <i>.shape</i> attribute of features, and labels</font>"
   ]
  },
  {
   "cell_type": "code",
   "execution_count": 43,
   "metadata": {
    "collapsed": false
   },
   "outputs": [
    {
     "data": {
      "text/plain": [
       "((935587,), (935587, 38))"
      ]
     },
     "execution_count": 43,
     "metadata": {},
     "output_type": "execute_result"
    }
   ],
   "source": [
    "labels.shape,features.shape"
   ]
  },
  {
   "cell_type": "markdown",
   "metadata": {},
   "source": [
    "### <font color='red'>3.5) Import the scikit-learn package (called <i>sklearn</i>), that will be used for running machine learning algorithms</font>"
   ]
  },
  {
   "cell_type": "code",
   "execution_count": 44,
   "metadata": {
    "collapsed": true
   },
   "outputs": [],
   "source": [
    "#### IMPORT THE SCIKIT-LEARN PACKAGE ####\n",
    "import sklearn"
   ]
  },
  {
   "cell_type": "markdown",
   "metadata": {},
   "source": [
    "### <font color='red'>3.6) Binarize the labels of the dataset. You can use the following webpage:</font>\n",
    "- http://scikit-learn.org/stable/modules/generated/sklearn.preprocessing.label_binarize.html"
   ]
  },
  {
   "cell_type": "code",
   "execution_count": 61,
   "metadata": {
    "collapsed": false
   },
   "outputs": [],
   "source": [
    "from sklearn.preprocessing import label_binarize\n",
    "###binarized_labels = #### BINARIZE THE LABELS OF THE DATASET, AND RAVEL THE RESULT USING .ravel() ####\n",
    "                   #### Subscriber will be label 1, Customer label 0 ####\n",
    "                   #### This will be a binary classifiation problem ####\n",
    "binarized_labels = label_binarize(labels, classes=['Subscriber', 'Customer']).ravel()"
   ]
  },
  {
   "cell_type": "markdown",
   "metadata": {},
   "source": [
    "### <font color='red'>3.7) Show the binarized labels</font>"
   ]
  },
  {
   "cell_type": "code",
   "execution_count": 62,
   "metadata": {
    "collapsed": false
   },
   "outputs": [
    {
     "data": {
      "text/plain": [
       "<matplotlib.axes._subplots.AxesSubplot at 0x10c826390>"
      ]
     },
     "execution_count": 62,
     "metadata": {},
     "output_type": "execute_result"
    },
    {
     "data": {
      "image/png": "[encoded data removed]",
      "text/plain": [
       "<matplotlib.figure.Figure at 0x10d8cb650>"
      ]
     },
     "metadata": {},
     "output_type": "display_data"
    }
   ],
   "source": [
    "sns.countplot(binarized_labels)"
   ]
  },
  {
   "cell_type": "markdown",
   "metadata": {},
   "source": [
    "### Split training and testing sets"
   ]
  },
  {
   "cell_type": "markdown",
   "metadata": {},
   "source": [
    "### <font color='red'>3.8) Split your dataset between a training and testing set (of size 30%). You can use the following webpage:</font>\n",
    "- http://scikit-learn.org/stable/modules/generated/sklearn.cross_validation.train_test_split.html"
   ]
  },
  {
   "cell_type": "code",
   "execution_count": 63,
   "metadata": {
    "collapsed": false
   },
   "outputs": [
    {
     "name": "stderr",
     "output_type": "stream",
     "text": [
      "/Users/axa/.pyenv/versions/2.7.12/envs/DS/lib/python2.7/site-packages/sklearn/cross_validation.py:44: DeprecationWarning: This module was deprecated in version 0.18 in favor of the model_selection module into which all the refactored classes and functions are moved. Also note that the interface of the new CV iterators are different from that of this module. This module will be removed in 0.20.\n",
      "  \"This module will be removed in 0.20.\", DeprecationWarning)\n"
     ]
    }
   ],
   "source": [
    "from sklearn.cross_validation import train_test_split\n",
    "X_train, X_test, y_train, y_test = train_test_split(\n",
    "                                features,binarized_labels, test_size=0.33, random_state=42)"
   ]
  },
  {
   "cell_type": "markdown",
   "metadata": {},
   "source": [
    "### <font color='red'>3.9) Show the results of your split</font>"
   ]
  },
  {
   "cell_type": "code",
   "execution_count": 64,
   "metadata": {
    "collapsed": false
   },
   "outputs": [
    {
     "data": {
      "text/plain": [
       "array([[  1.24500000e+03,   4.07111742e+01,  -7.40001654e+01, ...,\n",
       "          0.00000000e+00,   1.00000000e+00,   0.00000000e+00],\n",
       "       [  1.02500000e+03,   4.07440230e+01,  -7.39760560e+01, ...,\n",
       "          0.00000000e+00,   1.00000000e+00,   0.00000000e+00],\n",
       "       [  3.75000000e+02,   4.06851443e+01,  -7.39538090e+01, ...,\n",
       "          0.00000000e+00,   1.00000000e+00,   0.00000000e+00],\n",
       "       ..., \n",
       "       [  5.07000000e+02,   4.07423543e+01,  -7.39891508e+01, ...,\n",
       "          0.00000000e+00,   1.00000000e+00,   0.00000000e+00],\n",
       "       [  1.13000000e+03,   4.07267945e+01,  -7.39969509e+01, ...,\n",
       "          0.00000000e+00,   1.00000000e+00,   0.00000000e+00],\n",
       "       [  3.48000000e+02,   4.07372619e+01,  -7.39923897e+01, ...,\n",
       "          0.00000000e+00,   1.00000000e+00,   0.00000000e+00]])"
      ]
     },
     "execution_count": 64,
     "metadata": {},
     "output_type": "execute_result"
    }
   ],
   "source": [
    "#### Show samples of X_train, X_test, y_train, y_test ####\n",
    "\n",
    "X_train"
   ]
  },
  {
   "cell_type": "markdown",
   "metadata": {},
   "source": [
    "### Random Forest classifier"
   ]
  },
  {
   "cell_type": "markdown",
   "metadata": {},
   "source": [
    "### <font color='red'>3.10) Go to the following webpages to understand how to compute cross-validation scores of a Random Forest classifier in Python, on the training set:</font>\n",
    "- http://scikit-learn.org/stable/modules/generated/sklearn.ensemble.RandomForestClassifier.html\n",
    "- http://scikit-learn.org/stable/modules/generated/sklearn.cross_validation.cross_val_score.html#sklearn.cross_validation.cross_val_score"
   ]
  },
  {
   "cell_type": "code",
   "execution_count": 65,
   "metadata": {
    "collapsed": true
   },
   "outputs": [],
   "source": [
    "from sklearn.ensemble import RandomForestClassifier\n",
    "rf = RandomForestClassifier()"
   ]
  },
  {
   "cell_type": "markdown",
   "metadata": {},
   "source": [
    "### <font color='red'>Run the following block. It will compute a 3-fold cross-validation score using the </font><b>AUC scoring metric</b>,  <font color='red'>as explained in the slides</font>"
   ]
  },
  {
   "cell_type": "code",
   "execution_count": 66,
   "metadata": {
    "collapsed": false
   },
   "outputs": [
    {
     "data": {
      "text/plain": [
       "array([ 0.82760728,  0.82753755,  0.82992899])"
      ]
     },
     "execution_count": 66,
     "metadata": {},
     "output_type": "execute_result"
    }
   ],
   "source": [
    "from sklearn.cross_validation import cross_val_score\n",
    "cross_val_score(rf, X_train, y_train, scoring='roc_auc')"
   ]
  },
  {
   "cell_type": "markdown",
   "metadata": {},
   "source": [
    "### <font color='red'>3.11) Take some time to run as well as understand the following block. \n",
    "\n",
    "<b>This does exactly as <i>cross_val_score</i> function from the block above, but it is coded such that you will understand what happens at each iteration, as well as plot the ROC curve for every cross-validation split</b>. You can use the following webpages:</font>\n",
    "- http://scikit-learn.org/stable/modules/generated/sklearn.cross_validation.StratifiedKFold.html\n",
    "- http://scikit-learn.org/stable/modules/generated/sklearn.metrics.roc_curve.html\n",
    "- http://scikit-learn.org/stable/modules/generated/sklearn.metrics.auc.html"
   ]
  },
  {
   "cell_type": "code",
   "execution_count": 67,
   "metadata": {
    "collapsed": false
   },
   "outputs": [
    {
     "name": "stdout",
     "output_type": "stream",
     "text": [
      "Fold 1\n",
      "Fold 2\n",
      "Fold 3\n"
     ]
    },
    {
     "data": {
      "image/png": "[encoded data removed]",
      "text/plain": [
       "<matplotlib.figure.Figure at 0x10ca17d10>"
      ]
     },
     "metadata": {},
     "output_type": "display_data"
    }
   ],
   "source": [
    "from scipy import interp\n",
    "\n",
    "from sklearn.metrics import roc_curve, auc\n",
    "from sklearn.cross_validation import StratifiedKFold\n",
    "\n",
    "# Run classifier with cross-validation and plot ROC curves\n",
    "cv = StratifiedKFold(y_train, n_folds=3)\n",
    "classifier = RandomForestClassifier()\n",
    "\n",
    "mean_tpr = 0.\n",
    "mean_fpr = np.linspace(0, 1, 100)\n",
    "all_tpr = []\n",
    "\n",
    "plt.figure(figsize=(15,10))\n",
    "for i, (train, test) in enumerate(cv,1):\n",
    "    print 'Fold {}'.format(i)\n",
    "    probas_ = classifier.fit(X_train[train], y_train[train]).predict_proba(X_train[test])\n",
    "    # Compute ROC curve and area under the curve\n",
    "    fpr, tpr, thresholds = roc_curve(y_train[test], probas_[:, 1], pos_label=1)\n",
    "    mean_tpr += interp(mean_fpr, fpr, tpr)\n",
    "    mean_tpr[0] = 0.0\n",
    "    roc_auc = auc(fpr, tpr)\n",
    "    plt.plot(fpr, tpr, lw=1, label='ROC fold %d (area = %0.2f)' % (i, roc_auc))\n",
    "\n",
    "plt.plot([0, 1], [0, 1], '--', color=(0.6, 0.6, 0.6), label='Luck')\n",
    "\n",
    "mean_tpr /= len(cv)\n",
    "mean_tpr[-1] = 1.0\n",
    "mean_auc = auc(mean_fpr, mean_tpr)\n",
    "\n",
    "plt.plot(mean_fpr, mean_tpr, 'k--',\n",
    "         label='Mean ROC (area = %0.2f)' % mean_auc, lw=2)\n",
    "\n",
    "plt.xlim([-0.05, 1.05])\n",
    "plt.ylim([-0.05, 1.05])\n",
    "plt.xlabel('False Positive Rate')\n",
    "plt.ylabel('True Positive Rate')\n",
    "plt.title('Receiver operating characteristic for Random Forest Classifier',fontsize=17)\n",
    "plt.legend(loc=\"lower right\")\n",
    "plt.show()"
   ]
  },
  {
   "cell_type": "markdown",
   "metadata": {},
   "source": [
    "## 4) Final fit and plots <font color='blue'> (15 min) </font>"
   ]
  },
  {
   "cell_type": "markdown",
   "metadata": {},
   "source": [
    "### <font color='red'>4.1) Define a random forest classifier, and fit it on the training set. You can return on:</font>\n",
    "- http://scikit-learn.org/stable/modules/generated/sklearn.ensemble.RandomForestClassifier.html"
   ]
  },
  {
   "cell_type": "code",
   "execution_count": 68,
   "metadata": {
    "collapsed": false
   },
   "outputs": [
    {
     "data": {
      "text/plain": [
       "RandomForestClassifier(bootstrap=True, class_weight=None, criterion='gini',\n",
       "            max_depth=None, max_features='auto', max_leaf_nodes=None,\n",
       "            min_impurity_split=1e-07, min_samples_leaf=1,\n",
       "            min_samples_split=2, min_weight_fraction_leaf=0.0,\n",
       "            n_estimators=10, n_jobs=1, oob_score=False, random_state=None,\n",
       "            verbose=0, warm_start=False)"
      ]
     },
     "execution_count": 68,
     "metadata": {},
     "output_type": "execute_result"
    }
   ],
   "source": [
    "rf = RandomForestClassifier()\n",
    "\n",
    "#### FIT THE RANDOM FOREST CLASSIFIER ON THE TRAINING SET ####\n",
    "rf.fit(X_train,y_train)"
   ]
  },
  {
   "cell_type": "code",
   "execution_count": 69,
   "metadata": {
    "collapsed": true
   },
   "outputs": [],
   "source": [
    "y_pred = rf.predict(X_test)"
   ]
  },
  {
   "cell_type": "markdown",
   "metadata": {},
   "source": [
    "### <font color='red'>4.2) Show (and if you can, plot!) the features importances using the <i>.feature_importances</i> attribute of your classifier. You can get hints on the following page:</font>\n",
    "- http://scikit-learn.org/stable/auto_examples/ensemble/plot_gradient_boosting_regression.html"
   ]
  },
  {
   "cell_type": "code",
   "execution_count": 77,
   "metadata": {
    "collapsed": false
   },
   "outputs": [
    {
     "data": {
      "image/png": "[encoded data removed]",
      "text/plain": [
       "<matplotlib.figure.Figure at 0x10ea9fcd0>"
      ]
     },
     "metadata": {},
     "output_type": "display_data"
    }
   ],
   "source": [
    "plt.figure(figsize=(12,12))\n",
    "#### PLOT THE FEATURES IMPORTANCES WITH RESPECT TO THE RANDOM FOREST ####\n",
    "feature_importance = rf.feature_importances_\n",
    "# make importances relative to max importance\n",
    "feature_importance = 100.0 * (feature_importance / feature_importance.max())\n",
    "sorted_idx = np.argsort(feature_importance)\n",
    "pos = np.arange(sorted_idx.shape[0]) + .5\n",
    "plt.subplot(1, 2, 2)\n",
    "plt.barh(pos, feature_importance[sorted_idx], align='center')\n",
    "plt.yticks(pos, data.columns[sorted_idx])\n",
    "plt.xlabel('Relative Importance')\n",
    "plt.title('Variable Importance')\n",
    "plt.show()"
   ]
  },
  {
   "cell_type": "markdown",
   "metadata": {},
   "source": [
    "### <font color='red'>4.3) Run this block to get the final performance on test set, using <i>roc_auc_score</i></font>"
   ]
  },
  {
   "cell_type": "code",
   "execution_count": 78,
   "metadata": {
    "collapsed": false
   },
   "outputs": [
    {
     "name": "stdout",
     "output_type": "stream",
     "text": [
      "Final AUC score on test set : 0.84\n"
     ]
    }
   ],
   "source": [
    "from sklearn.metrics import roc_auc_score\n",
    "\n",
    "y_predict_test = rf.predict_proba(X_test)[:,1]\n",
    "print 'Final AUC score on test set : {:.2f}'.format(roc_auc_score(y_test, y_predict_test))"
   ]
  },
  {
   "cell_type": "markdown",
   "metadata": {},
   "source": [
    "### <font color='red'>4.4) Using <i>seaborn.distplot</i>, plot the distribution of trip durations with respect to user type (whether \"Subscriber\" or \"Customer\")</font>"
   ]
  },
  {
   "cell_type": "code",
   "execution_count": 86,
   "metadata": {
    "collapsed": false
   },
   "outputs": [
    {
     "data": {
      "text/plain": [
       "Index([u'tripduration', u'start station latitude', u'start station longitude',\n",
       "       u'end station latitude', u'end station longitude', u'Precipitationmm',\n",
       "       u'TemperatureC', u'total_docks_start', u'total_docks_end', u'june_day',\n",
       "       u'traveled_distance', u'average_speed', u'Conditions_Clear',\n",
       "       u'Conditions_Haze', u'Conditions_Heavy Rain', u'Conditions_Light Rain',\n",
       "       u'Conditions_Mostly Cloudy', u'Conditions_Overcast',\n",
       "       u'Conditions_Partly Cloudy', u'Conditions_Rain',\n",
       "       u'Conditions_Scattered Clouds', u'start_day_Friday',\n",
       "       u'start_day_Monday', u'start_day_Saturday', u'start_day_Sunday',\n",
       "       u'start_day_Thursday', u'start_day_Tuesday', u'start_day_Wednesday',\n",
       "       u'is_weekend_False', u'is_weekend_True', u'start_moment_afternoon',\n",
       "       u'start_moment_evening', u'start_moment_morning', u'start_moment_night',\n",
       "       u'is_rainy_False', u'is_rainy_True', u'is_circle_trip_False',\n",
       "       u'is_circle_trip_True'],\n",
       "      dtype='object')"
      ]
     },
     "execution_count": 86,
     "metadata": {},
     "output_type": "execute_result"
    }
   ],
   "source": [
    "data.columns"
   ]
  },
  {
   "cell_type": "code",
   "execution_count": 93,
   "metadata": {
    "collapsed": false
   },
   "outputs": [
    {
     "data": {
      "text/plain": [
       "<matplotlib.legend.Legend at 0x1229a3bd0>"
      ]
     },
     "execution_count": 93,
     "metadata": {},
     "output_type": "execute_result"
    },
    {
     "data": {
      "image/png": "[encoded data removed]",
      "text/plain": [
       "<matplotlib.figure.Figure at 0x1229ad590>"
      ]
     },
     "metadata": {},
     "output_type": "display_data"
    }
   ],
   "source": [
    "#### PLOT THE DISTRIBUTION OF TRIP DURATIONS WITH RESPECT TO USER TYPES BY USING APPROPRIATE SLICES ON RAW_DATA ####\n",
    "\n",
    "#### ADD X,Y LABELS, A TITLE, AND A LEGEND TO THIS PLOT ####\n",
    "plt.figure(figsize=(8,8))\n",
    "sns.distplot(raw_data[raw_data.usertype=='Subscriber'].tripduration,label='Subscriber')\n",
    "sns.distplot(raw_data[raw_data.usertype=='Customer'].tripduration,label='Customer')\n",
    "plt.title('DISTRIBUTION OF TRIP DURATIONS WITH RESPECT TO USER TYPES')\n",
    "plt.legend()"
   ]
  },
  {
   "cell_type": "markdown",
   "metadata": {},
   "source": [
    "### <font color='red'>4.5) Using <i>seaborn.distplot</i>, plot the distribution of average speed with respect to user type (whether \"Subscriber\" or \"Customer\")</font>"
   ]
  },
  {
   "cell_type": "code",
   "execution_count": 95,
   "metadata": {
    "collapsed": false
   },
   "outputs": [
    {
     "data": {
      "text/plain": [
       "<matplotlib.legend.Legend at 0x122939ad0>"
      ]
     },
     "execution_count": 95,
     "metadata": {},
     "output_type": "execute_result"
    },
    {
     "data": {
      "image/png": "[encoded data removed]",
      "text/plain": [
       "<matplotlib.figure.Figure at 0x122d47350>"
      ]
     },
     "metadata": {},
     "output_type": "display_data"
    }
   ],
   "source": [
    "#### PLOT THE DISTRIBUTION OF AVERAGE SPEEDS WITH RESPECT TO USER TYPES BY USING APPROPRIATE SLICES ON RAW_DATA ####\n",
    "\n",
    "\n",
    "#### ADD X,Y LABELS, A TITLE, AND A LEGEND TO THIS PLOT ####\n",
    "plt.figure(figsize=(8,8))\n",
    "sns.distplot(raw_data[raw_data.usertype=='Subscriber'].average_speed,label='Subscriber')\n",
    "sns.distplot(raw_data[raw_data.usertype=='Customer'].average_speed,label='Customer')\n",
    "plt.title('DISTRIBUTION OF Average speed WITH RESPECT TO USER TYPES')\n",
    "plt.legend()"
   ]
  },
  {
   "cell_type": "markdown",
   "metadata": {},
   "source": [
    "### <font color='red'>4.6) Run the following block to understand how fine-tuning parameters can help improve the performance of your models. Warning : this will take some time to run !</font>"
   ]
  },
  {
   "cell_type": "code",
   "execution_count": 96,
   "metadata": {
    "collapsed": false
   },
   "outputs": [
    {
     "data": {
      "text/plain": [
       "array([ 0.86277312,  0.86224046,  0.86442416])"
      ]
     },
     "execution_count": 96,
     "metadata": {},
     "output_type": "execute_result"
    }
   ],
   "source": [
    "rf = RandomForestClassifier(max_depth=20,max_features=10,n_estimators=50)\n",
    "cross_val_score(rf, X_train, y_train, scoring='roc_auc')"
   ]
  },
  {
   "cell_type": "markdown",
   "metadata": {},
   "source": [
    "# Free exploration/modeling of the dataset, for instance: <font color='blue'> (45 min) </font>\n",
    "- Try to use other algorithms\n",
    "- Try to enrich with other data (taxi trips, points of interests in neighborhoods)\n",
    "- Try to predict other phenomena\n",
    "- ...."
   ]
  },
  {
   "cell_type": "markdown",
   "metadata": {},
   "source": [
    "# Please give us your feedback on the hands-on sessions at:\n",
    "## <center>https://docs.google.com/forms/d/e/1FAIpQLScw_fPB1m6x_sMm59v_VHNBVcvfsMPhoqXwSjSiJQtzlpOJJA/viewform?usp=sf_link</center>"
   ]
  },
  {
   "cell_type": "code",
   "execution_count": null,
   "metadata": {
    "collapsed": true
   },
   "outputs": [],
   "source": []
  }
 ],
 "metadata": {
  "kernelspec": {
   "display_name": "Python 2",
   "language": "python",
   "name": "python2"
  },
  "language_info": {
   "codemirror_mode": {
    "name": "ipython",
    "version": 2
   },
   "file_extension": ".py",
   "mimetype": "text/x-python",
   "name": "python",
   "nbconvert_exporter": "python",
   "pygments_lexer": "ipython2",
   "version": "2.7.12"
  }
 },
 "nbformat": 4,
 "nbformat_minor": 0
}
